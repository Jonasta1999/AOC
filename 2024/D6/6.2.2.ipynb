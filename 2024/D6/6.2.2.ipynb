{
 "cells": [
  {
   "cell_type": "code",
   "execution_count": 521,
   "metadata": {},
   "outputs": [],
   "source": [
    "import re\n",
    "from IPython.display import clear_output\n",
    "import time\n",
    "import numpy as np\n"
   ]
  },
  {
   "cell_type": "code",
   "execution_count": 522,
   "metadata": {},
   "outputs": [],
   "source": [
    "with open(\"input6.txt\", \"r\") as file:\n",
    "    data = file.read().splitlines()"
   ]
  },
  {
   "cell_type": "code",
   "execution_count": 523,
   "metadata": {},
   "outputs": [],
   "source": [
    "def is_in_map(data):\n",
    "    res = False\n",
    "    for i in range(len(data)):\n",
    "        if (\"^\" in data[i] or \n",
    "            \">\" in data[i] or \n",
    "            \"v\" in data[i] or \n",
    "            \"<\" in data[i]):\n",
    "            res = True\n",
    "    return res"
   ]
  },
  {
   "cell_type": "code",
   "execution_count": 524,
   "metadata": {},
   "outputs": [],
   "source": [
    "direction = {\"^\": (-1, 0),\n",
    "             \">\": (0, 1),\n",
    "             \"v\": (1, 0),\n",
    "             \"<\": (0, -1)}"
   ]
  },
  {
   "cell_type": "code",
   "execution_count": 525,
   "metadata": {},
   "outputs": [],
   "source": [
    "turn = {\"^\": \">\",\n",
    "        \">\": \"v\",\n",
    "        \"v\": \"<\",\n",
    "        \"<\": \"^\"}"
   ]
  },
  {
   "cell_type": "code",
   "execution_count": 526,
   "metadata": {},
   "outputs": [
    {
     "data": {
      "text/plain": [
       "{'^': (-1, 0), '>': (0, 1), 'v': (1, 0), '<': (0, -1)}"
      ]
     },
     "execution_count": 526,
     "metadata": {},
     "output_type": "execute_result"
    }
   ],
   "source": [
    "direction"
   ]
  },
  {
   "cell_type": "code",
   "execution_count": 527,
   "metadata": {},
   "outputs": [],
   "source": [
    "def replace_and_move(data):\n",
    "    n, m = len(data), len(data[0])\n",
    "    for i in range(len(data)):\n",
    "        regex = re.search(\"\\^|\\>|v|\\<\", data[i])\n",
    "        try:\n",
    "            if regex:\n",
    "                pos = regex.start()\n",
    "                type = regex.group()\n",
    "                direc = direction[type]\n",
    "                data[i] = data[i][:pos] + \"X\" + data[i][pos+1:]\n",
    "                if not (n > i + direc[0] >= 0 and m > pos + direc[1] >= 0):\n",
    "                    return data, (i, pos), direc\n",
    "                if data[i+direc[0]][pos+direc[1]] == \"#\":\n",
    "                    type = turn[type]\n",
    "                    direc = direction[type]\n",
    "                    data[i+direc[0]] = data[i+direc[0]][:pos+direc[1]] + type + data[i+direc[0]][pos+direc[1]+1:]\n",
    "                else:\n",
    "                    data[i+direc[0]] = data[i+direc[0]][:pos+direc[1]] + type + data[i+direc[0]][pos+direc[1]+1:]\n",
    "                return data, (i, pos), direc\n",
    "        except:\n",
    "            pass\n",
    "    return data, False, False"
   ]
  },
  {
   "cell_type": "code",
   "execution_count": 528,
   "metadata": {},
   "outputs": [],
   "source": [
    "data_new = data.copy()\n",
    "while is_in_map(data_new):\n",
    "    #clear_output(wait=True)\n",
    "    #time.sleep(0.5)\n",
    "    data_new, pos, direc = replace_and_move(data_new)\n",
    "    #print(np.reshape(data, (10,1)))"
   ]
  },
  {
   "cell_type": "code",
   "execution_count": 529,
   "metadata": {},
   "outputs": [],
   "source": [
    "visited = []\n",
    "for i in range(len(data_new)):\n",
    "    for j in range(len(data_new[i])):\n",
    "        if data_new[i][j] == \"X\":\n",
    "            visited.append((i,j))"
   ]
  },
  {
   "cell_type": "code",
   "execution_count": 530,
   "metadata": {},
   "outputs": [],
   "source": [
    "count = 0\n",
    "for i in range(len(visited)):\n",
    "    pos_direc_dict = {}\n",
    "    coord = visited[i]\n",
    "    data_new = data.copy()\n",
    "    data_new[coord[0]] = data_new[coord[0]][:coord[1]] + \"#\" + data_new[coord[0]][coord[1]+1:]\n",
    "    #print(data_new)\n",
    "    #print(coord)\n",
    "    while is_in_map(data_new):\n",
    "        #clear_output(wait=True)\n",
    "        #time.sleep(0.1)\n",
    "        data_new, pos, direc = replace_and_move(data_new)\n",
    "        pos_direc = (pos, direc)\n",
    "        #print(pos_direc)\n",
    "        if pos_direc in pos_direc_dict and pos:\n",
    "            count += 1\n",
    "            break\n",
    "        else:\n",
    "            #if pos == (1, 3):\n",
    "            #    clear_output(wait=True)\n",
    "            #    print(np.reshape(data_new, (10,1)))\n",
    "            #    time.sleep(5)\n",
    "            pos_direc_dict[pos_direc] = 1\n",
    "        #print(np.reshape(data_new, (10,1))) "
   ]
  },
  {
   "cell_type": "code",
   "execution_count": 532,
   "metadata": {},
   "outputs": [
    {
     "data": {
      "text/plain": [
       "1626"
      ]
     },
     "execution_count": 532,
     "metadata": {},
     "output_type": "execute_result"
    }
   ],
   "source": [
    "count"
   ]
  },
  {
   "cell_type": "code",
   "execution_count": 100,
   "metadata": {},
   "outputs": [
    {
     "data": {
      "text/plain": [
       "[(1, 4),\n",
       " (1, 5),\n",
       " (1, 6),\n",
       " (1, 7),\n",
       " (1, 8),\n",
       " (2, 4),\n",
       " (2, 8),\n",
       " (3, 4),\n",
       " (3, 8),\n",
       " (4, 2),\n",
       " (4, 3),\n",
       " (4, 4),\n",
       " (4, 5),\n",
       " (4, 6),\n",
       " (4, 8),\n",
       " (5, 2),\n",
       " (5, 4),\n",
       " (5, 6),\n",
       " (5, 8),\n",
       " (6, 2),\n",
       " (6, 3),\n",
       " (6, 4),\n",
       " (6, 5),\n",
       " (6, 6),\n",
       " (6, 7),\n",
       " (6, 8),\n",
       " (7, 1),\n",
       " (7, 2),\n",
       " (7, 3),\n",
       " (7, 4),\n",
       " (7, 5),\n",
       " (7, 6),\n",
       " (7, 7),\n",
       " (8, 1),\n",
       " (8, 2),\n",
       " (8, 3),\n",
       " (8, 4),\n",
       " (8, 5),\n",
       " (8, 6),\n",
       " (8, 7),\n",
       " (9, 7)]"
      ]
     },
     "execution_count": 100,
     "metadata": {},
     "output_type": "execute_result"
    }
   ],
   "source": [
    "visited"
   ]
  },
  {
   "cell_type": "code",
   "execution_count": 52,
   "metadata": {},
   "outputs": [
    {
     "data": {
      "text/plain": [
       "['....#.....',\n",
       " '....XXXXX#',\n",
       " '........X.',\n",
       " '..#.....X.',\n",
       " '..XXXXX#X.',\n",
       " '..X...X.X.',\n",
       " '.#XXXXXXX.',\n",
       " '.XXXXXXX#.',\n",
       " '#XXXXXXX..',\n",
       " '......#X..']"
      ]
     },
     "execution_count": 52,
     "metadata": {},
     "output_type": "execute_result"
    }
   ],
   "source": [
    "data"
   ]
  }
 ],
 "metadata": {
  "kernelspec": {
   "display_name": "Python 3",
   "language": "python",
   "name": "python3"
  },
  "language_info": {
   "codemirror_mode": {
    "name": "ipython",
    "version": 3
   },
   "file_extension": ".py",
   "mimetype": "text/x-python",
   "name": "python",
   "nbconvert_exporter": "python",
   "pygments_lexer": "ipython3",
   "version": "3.10.11"
  }
 },
 "nbformat": 4,
 "nbformat_minor": 2
}
