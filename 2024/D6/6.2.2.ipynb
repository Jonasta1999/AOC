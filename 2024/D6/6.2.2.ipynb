{
 "cells": [
  {
   "cell_type": "code",
   "execution_count": null,
   "metadata": {},
   "outputs": [],
   "source": [
    "import re\n",
    "from IPython.display import clear_output\n",
    "import time\n",
    "import numpy as np\n"
   ]
  },
  {
   "cell_type": "code",
   "execution_count": null,
   "metadata": {},
   "outputs": [],
   "source": [
    "with open(\"input6.txt\", \"r\") as file:\n",
    "    data = file.read().splitlines()"
   ]
  },
  {
   "cell_type": "code",
   "execution_count": null,
   "metadata": {},
   "outputs": [],
   "source": [
    "print(data)"
   ]
  },
  {
   "cell_type": "code",
   "execution_count": null,
   "metadata": {},
   "outputs": [],
   "source": [
    "def is_in_map(data):\n",
    "    res = False\n",
    "    for i in range(len(data)):\n",
    "        if (\"^\" in data[i] or \n",
    "            \">\" in data[i] or \n",
    "            \"v\" in data[i] or \n",
    "            \"<\" in data[i]):\n",
    "            res = True\n",
    "    return res"
   ]
  },
  {
   "cell_type": "code",
   "execution_count": null,
   "metadata": {},
   "outputs": [],
   "source": [
    "direction = {\"^\": (-1, 0),\n",
    "             \">\": (0, 1),\n",
    "             \"v\": (1, 0),\n",
    "             \"<\": (0, -1)}"
   ]
  },
  {
   "cell_type": "code",
   "execution_count": null,
   "metadata": {},
   "outputs": [],
   "source": [
    "turn = {\"^\": \">\",\n",
    "        \">\": \"v\",\n",
    "        \"v\": \"<\",\n",
    "        \"<\": \"^\"}"
   ]
  },
  {
   "cell_type": "code",
   "execution_count": null,
   "metadata": {},
   "outputs": [],
   "source": [
    "# Function to replace our currenct position with the new one\n",
    "def replace_and_move(data):\n",
    "    n, m = len(data), len(data[0])\n",
    "    for i in range(len(data)):\n",
    "        # Loop through and find our current location\n",
    "        regex = re.search(\"\\^|\\>|v|\\<\", data[i])\n",
    "        try:\n",
    "            # If we find current location\n",
    "            if regex:\n",
    "                pos = regex.start()\n",
    "                type = regex.group()\n",
    "                direc = direction[type]\n",
    "                x_cord = i + direc[0]\n",
    "                y_cord = pos + direc[1] \n",
    "\n",
    "                # Replace current position with 'X' to track progress\n",
    "                data[i] = data[i][:pos] + \"X\" + data[i][pos + 1 :]\n",
    "\n",
    "                # If next step is out of bound then return data\n",
    "                if not (n > i + direc[0] >= 0 and m > pos + direc[1] >= 0):\n",
    "                    return data\n",
    "                \n",
    "                # If next step is an obstruction then turn 90 degrees\n",
    "                if data[i + direc[0]][pos + direc[1]] == \"#\":\n",
    "                    type = turn[type] # direction type\n",
    "                    direc = direction[type] # actual direction\n",
    "                    x_cord = i + direc[0]\n",
    "                    y_cord = pos + direc[1]\n",
    "\n",
    "                # Take the next step\n",
    "                data[x_cord] = (\n",
    "                    data[x_cord][:y_cord]\n",
    "                    + type\n",
    "                    + data[x_cord][y_cord + 1 :]\n",
    "                )\n",
    "                return data\n",
    "        except:\n",
    "            pass\n",
    "    return data"
   ]
  },
  {
   "cell_type": "code",
   "execution_count": null,
   "metadata": {},
   "outputs": [],
   "source": [
    "data_new = data.copy()\n",
    "while is_in_map(data_new):\n",
    "    #clear_output(wait=True)\n",
    "    #time.sleep(0.5)\n",
    "    data_new = replace_and_move(data_new)\n",
    "    #print(np.reshape(data_new, (10,1)))"
   ]
  },
  {
   "cell_type": "code",
   "execution_count": null,
   "metadata": {},
   "outputs": [],
   "source": [
    "visited = []\n",
    "for i in range(len(data_new)):\n",
    "    for j in range(len(data_new[i])):\n",
    "        if data_new[i][j] == \"X\":\n",
    "            visited.append((i,j))"
   ]
  },
  {
   "cell_type": "code",
   "execution_count": null,
   "metadata": {},
   "outputs": [],
   "source": [
    "count = 0\n",
    "for i in range(len(visited)):\n",
    "    pos_direc_dict = {}\n",
    "    coord = visited[i]\n",
    "    data_new = data.copy()\n",
    "    data_new[coord[0]] = data_new[coord[0]][:coord[1]] + \"#\" + data_new[coord[0]][coord[1]+1:]\n",
    "    #print(data_new)\n",
    "    #print(coord)\n",
    "    while is_in_map(data_new):\n",
    "        #clear_output(wait=True)\n",
    "        #time.sleep(0.1)\n",
    "        data_new, pos, direc = replace_and_move(data_new)\n",
    "        pos_direc = (pos, direc)\n",
    "        #print(pos_direc)\n",
    "        if pos_direc in pos_direc_dict and pos:\n",
    "            count += 1\n",
    "            break\n",
    "        else:\n",
    "            #if pos == (1, 3):\n",
    "            #    clear_output(wait=True)\n",
    "            #    print(np.reshape(data_new, (10,1)))\n",
    "            #    time.sleep(5)\n",
    "            pos_direc_dict[pos_direc] = 1\n",
    "        #print(np.reshape(data_new, (10,1))) "
   ]
  },
  {
   "cell_type": "code",
   "execution_count": null,
   "metadata": {},
   "outputs": [],
   "source": [
    "count"
   ]
  },
  {
   "cell_type": "code",
   "execution_count": null,
   "metadata": {},
   "outputs": [],
   "source": [
    "visited"
   ]
  },
  {
   "cell_type": "code",
   "execution_count": null,
   "metadata": {},
   "outputs": [],
   "source": [
    "data"
   ]
  }
 ],
 "metadata": {
  "kernelspec": {
   "display_name": "venv",
   "language": "python",
   "name": "python3"
  },
  "language_info": {
   "codemirror_mode": {
    "name": "ipython",
    "version": 3
   },
   "file_extension": ".py",
   "mimetype": "text/x-python",
   "name": "python",
   "nbconvert_exporter": "python",
   "pygments_lexer": "ipython3",
   "version": "3.10.11"
  }
 },
 "nbformat": 4,
 "nbformat_minor": 2
}
