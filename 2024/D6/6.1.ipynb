{
 "cells": [
  {
   "cell_type": "code",
   "execution_count": null,
   "metadata": {},
   "outputs": [],
   "source": [
    "import re\n",
    "from IPython.display import clear_output\n",
    "import time\n",
    "import numpy as np\n"
   ]
  },
  {
   "cell_type": "code",
   "execution_count": null,
   "metadata": {},
   "outputs": [],
   "source": [
    "with open(\"input6.txt\", \"r\") as file:\n",
    "    data = file.read().splitlines()"
   ]
  },
  {
   "cell_type": "code",
   "execution_count": null,
   "metadata": {},
   "outputs": [],
   "source": [
    "def is_in_map(data):\n",
    "    res = False\n",
    "    for i in range(len(data)):\n",
    "        if (\"^\" in data[i] or \n",
    "            \">\" in data[i] or \n",
    "            \"v\" in data[i] or \n",
    "            \"<\" in data[i]):\n",
    "            res = True\n",
    "    return res"
   ]
  },
  {
   "cell_type": "code",
   "execution_count": null,
   "metadata": {},
   "outputs": [],
   "source": [
    "direction = {\"^\": (-1, 0),\n",
    "             \">\": (0, 1),\n",
    "             \"v\": (1, 0),\n",
    "             \"<\": (0, -1)}"
   ]
  },
  {
   "cell_type": "code",
   "execution_count": null,
   "metadata": {},
   "outputs": [],
   "source": [
    "turn = {\"^\": \">\",\n",
    "        \">\": \"v\",\n",
    "        \"v\": \"<\",\n",
    "        \"<\": \"^\"}"
   ]
  },
  {
   "cell_type": "code",
   "execution_count": null,
   "metadata": {},
   "outputs": [],
   "source": [
    "direction"
   ]
  },
  {
   "cell_type": "code",
   "execution_count": null,
   "metadata": {},
   "outputs": [],
   "source": [
    "def replace_and_move(data):\n",
    "    n, m = len(data), len(data[0])\n",
    "    for i in range(len(data)):\n",
    "        regex = re.search(\"\\^|\\>|v|\\<\", data[i])\n",
    "        try:\n",
    "            if regex:\n",
    "                pos = regex.start()\n",
    "                type = regex.group()\n",
    "                direc = direction[type]\n",
    "                data[i] = data[i][:pos] + \"X\" + data[i][pos+1:]\n",
    "                if not (n > i + direc[0] >= 0 and m > pos + direc[1] >= 0):\n",
    "                    continue\n",
    "                if data[i+direc[0]][pos+direc[1]] == \"#\":\n",
    "                    type = turn[type]\n",
    "                    direc = direction[type]\n",
    "                    data[i+direc[0]] = data[i+direc[0]][:pos+direc[1]] + type + data[i+direc[0]][pos+direc[1]+1:]\n",
    "                else:\n",
    "                    data[i+direc[0]] = data[i+direc[0]][:pos+direc[1]] + type + data[i+direc[0]][pos+direc[1]+1:]\n",
    "        except:\n",
    "            pass\n",
    "    return data"
   ]
  },
  {
   "cell_type": "code",
   "execution_count": null,
   "metadata": {},
   "outputs": [],
   "source": [
    "while is_in_map(data):\n",
    "    clear_output(wait=True)\n",
    "    time.sleep(0.5)\n",
    "    data = replace_and_move(data)\n",
    "    print(np.reshape(data, (10,1)))"
   ]
  },
  {
   "cell_type": "code",
   "execution_count": null,
   "metadata": {},
   "outputs": [],
   "source": [
    "count = 0\n",
    "for i in range(len(data)):\n",
    "    for j in range(len(data[i])):\n",
    "        if data[i][j] == \"X\":\n",
    "            count += 1"
   ]
  },
  {
   "cell_type": "code",
   "execution_count": null,
   "metadata": {},
   "outputs": [],
   "source": [
    "count"
   ]
  },
  {
   "cell_type": "code",
   "execution_count": null,
   "metadata": {},
   "outputs": [],
   "source": []
  }
 ],
 "metadata": {
  "kernelspec": {
   "display_name": "Python 3",
   "language": "python",
   "name": "python3"
  },
  "language_info": {
   "codemirror_mode": {
    "name": "ipython",
    "version": 3
   },
   "file_extension": ".py",
   "mimetype": "text/x-python",
   "name": "python",
   "nbconvert_exporter": "python",
   "pygments_lexer": "ipython3",
   "version": "3.10.11"
  }
 },
 "nbformat": 4,
 "nbformat_minor": 2
}
