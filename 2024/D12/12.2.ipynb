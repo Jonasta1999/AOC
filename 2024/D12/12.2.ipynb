{
 "cells": [
  {
   "cell_type": "code",
   "execution_count": 185,
   "metadata": {},
   "outputs": [],
   "source": [
    "import numpy as np"
   ]
  },
  {
   "cell_type": "code",
   "execution_count": 186,
   "metadata": {},
   "outputs": [
    {
     "data": {
      "text/plain": [
       "matrix([['L', 'L', 'L', ..., 'W', 'W', 'W'],\n",
       "        ['L', 'L', 'L', ..., 'W', 'W', 'W'],\n",
       "        ['L', 'L', 'L', ..., 'W', 'W', 'W'],\n",
       "        ...,\n",
       "        ['G', 'G', 'G', ..., 'S', 'S', 'G'],\n",
       "        ['G', 'G', 'G', ..., 'S', 'S', 'G'],\n",
       "        ['G', 'E', 'G', ..., 'S', 'S', 'G']], dtype='<U1')"
      ]
     },
     "execution_count": 186,
     "metadata": {},
     "output_type": "execute_result"
    }
   ],
   "source": [
    "with open(\"input12.txt\", \"r\") as file:\n",
    "    data = file.read().splitlines()\n",
    "    data = [list(item) for item in data]\n",
    "    data = np.asmatrix(data)"
   ]
  },
  {
   "cell_type": "code",
   "execution_count": 187,
   "metadata": {},
   "outputs": [],
   "source": [
    "direction = {0: (0,1),\n",
    "             1: (1,0),\n",
    "             2: (0,-1),\n",
    "             3: (-1,0)}"
   ]
  },
  {
   "cell_type": "code",
   "execution_count": 188,
   "metadata": {},
   "outputs": [],
   "source": [
    "def flatten_nested_list(nested_list):\n",
    "    result = []\n",
    "    for element in nested_list:\n",
    "        if isinstance(element, list):\n",
    "            result.extend(flatten_nested_list(element))\n",
    "        else:\n",
    "            result.append(element)\n",
    "    return result"
   ]
  },
  {
   "cell_type": "code",
   "execution_count": 189,
   "metadata": {},
   "outputs": [],
   "source": [
    "data_new = data.copy()\n",
    "def find_region(i, j):\n",
    "    res = [(i,j)]\n",
    "    n, m = data.shape\n",
    "    var = data_new[i,j]\n",
    "    data_new[i,j] = \" \"\n",
    "    for k in range(4):\n",
    "        coords =  []\n",
    "        x, y = direction[k]\n",
    "        \n",
    "        if (n > i+x >= 0 and\n",
    "            m > j+y >= 0 and\n",
    "            data_new[i+x, j+y] == var):\n",
    "            coords.append(find_region(i+x, j+y))\n",
    "        res.append(coords)\n",
    "    return(res)        \n"
   ]
  },
  {
   "cell_type": "code",
   "execution_count": 190,
   "metadata": {},
   "outputs": [],
   "source": [
    "regions = []\n",
    "all_region_coords = []\n",
    "n, m = data.shape\n",
    "\n",
    "for i in range(n):\n",
    "    for j in range(m):\n",
    "        if (i,j) in all_region_coords:\n",
    "            pass\n",
    "        else:\n",
    "            region = find_region(i, j)\n",
    "            flatten_region = flatten_nested_list(region)\n",
    "            regions.append(flatten_region)\n",
    "            all_region_coords.append(flatten_region)\n",
    "            all_region_coords = flatten_nested_list(all_region_coords)\n",
    "for i in range(len(regions)):\n",
    "    regions[i] = list(set(regions[i]))"
   ]
  },
  {
   "cell_type": "code",
   "execution_count": 191,
   "metadata": {},
   "outputs": [],
   "source": [
    "def find_sides(region, data):\n",
    "    n, m = data.shape\n",
    "    sides = []\n",
    "    for coord in region:\n",
    "        for i in range(4):\n",
    "            x, y = direction[i]\n",
    "            if (n > coord[0]+x >= 0 and\n",
    "                m > coord[1]+y >= 0 and\n",
    "                data[coord[0]+x, coord[1]+y] != data[coord[0],coord[1]]):\n",
    "                sides.append((coord[0]+x, coord[1]+y, coord[0], coord[1]))\n",
    "            elif (not(n > coord[0]+x >= 0) or\n",
    "                  not(m > coord[1]+y >= 0)):\n",
    "                sides.append((coord[0]+x, coord[1]+y, coord[0], coord[1]))\n",
    "    sides = flatten_nested_list(sides)\n",
    "    #sides = list(set(sides))\n",
    "    return sides"
   ]
  },
  {
   "cell_type": "code",
   "execution_count": 195,
   "metadata": {},
   "outputs": [],
   "source": [
    "def find_connected_sides(reg_sides, i, j, ori_x, ori_y, hv):\n",
    "    res = [(i, j, ori_x, ori_y)]\n",
    "    for k in range(len(reg_sides)):\n",
    "        if reg_sides[k][:2] == (i,j):\n",
    "            pass\n",
    "        if (hv == \"h\" and\n",
    "            reg_sides[k][0] == i and\n",
    "            reg_sides[k][1] == j+1 and \n",
    "            reg_sides[k][2] == ori_x and \n",
    "            reg_sides[k][3] == ori_y+1):\n",
    "            res.append(find_connected_sides(reg_sides, \n",
    "                                            reg_sides[k][0], \n",
    "                                            reg_sides[k][1], \n",
    "                                            reg_sides[k][2], \n",
    "                                            reg_sides[k][3], \n",
    "                                            \"h\"))\n",
    "        elif (hv == \"v\" and\n",
    "              reg_sides[k][0] == i+1 and \n",
    "              reg_sides[k][1] == j and\n",
    "              reg_sides[k][2] == ori_x+1 and \n",
    "              reg_sides[k][3] == ori_y):\n",
    "            res.append(find_connected_sides(reg_sides, \n",
    "                                            reg_sides[k][0], \n",
    "                                            reg_sides[k][1], \n",
    "                                            reg_sides[k][2], \n",
    "                                            reg_sides[k][3], \n",
    "                                            \"v\"))    \n",
    "    return(list(set(flatten_nested_list(res))))"
   ]
  },
  {
   "cell_type": "code",
   "execution_count": 197,
   "metadata": {},
   "outputs": [],
   "source": [
    "res = 0\n",
    "for region in regions:\n",
    "    #print(data[region[0]])\n",
    "    reg_sides = find_sides(region, data)\n",
    "    reg_sides = sorted(reg_sides , key=lambda k: [k[0], k[1]])\n",
    "\n",
    "    sides = []\n",
    "    all_sides = []\n",
    "\n",
    "    for reg_side_coord in reg_sides:\n",
    "        if reg_side_coord in all_sides:\n",
    "            continue\n",
    "        h_sides = find_connected_sides(reg_sides, \n",
    "                                       reg_side_coord[0], \n",
    "                                       reg_side_coord[1],\n",
    "                                       reg_side_coord[2],\n",
    "                                       reg_side_coord[3], \"h\")\n",
    "        h_sides = flatten_nested_list(h_sides)\n",
    "        v_sides = find_connected_sides(reg_sides, \n",
    "                                       reg_side_coord[0], \n",
    "                                       reg_side_coord[1],\n",
    "                                       reg_side_coord[2],\n",
    "                                       reg_side_coord[3], \n",
    "                                       \"v\")\n",
    "        v_sides = flatten_nested_list(v_sides)\n",
    "\n",
    "        if len(h_sides) == 1 and len(v_sides) == 1:\n",
    "            sides.append(reg_side_coord)\n",
    "            all_sides.append(reg_side_coord)\n",
    "            #print(\"Her1\", reg_side_coord)\n",
    "        elif len(h_sides) > 1:\n",
    "            sides.append(h_sides)\n",
    "            all_sides.append(h_sides)\n",
    "            #print(\"Her2\", h_sides)\n",
    "        elif len(v_sides) > 1:\n",
    "            sides.append(v_sides)\n",
    "            all_sides.append(v_sides)\n",
    "            #print(\"Her3\", v_sides)\n",
    "        \n",
    "        all_sides = flatten_nested_list(all_sides)\n",
    "    res += len(region)*len(sides)\n",
    "res        "
   ]
  }
 ],
 "metadata": {
  "kernelspec": {
   "display_name": "Python 3",
   "language": "python",
   "name": "python3"
  },
  "language_info": {
   "codemirror_mode": {
    "name": "ipython",
    "version": 3
   },
   "file_extension": ".py",
   "mimetype": "text/x-python",
   "name": "python",
   "nbconvert_exporter": "python",
   "pygments_lexer": "ipython3",
   "version": "3.10.11"
  }
 },
 "nbformat": 4,
 "nbformat_minor": 2
}
