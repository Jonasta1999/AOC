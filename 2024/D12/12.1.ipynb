{
 "cells": [
  {
   "cell_type": "code",
   "execution_count": 1,
   "metadata": {},
   "outputs": [],
   "source": [
    "import numpy as np"
   ]
  },
  {
   "cell_type": "code",
   "execution_count": 2,
   "metadata": {},
   "outputs": [],
   "source": [
    "with open(\"input12.txt\", \"r\") as file:\n",
    "    data = file.read().splitlines()\n",
    "    data = [list(item) for item in data]\n",
    "    data = np.asmatrix(data)"
   ]
  },
  {
   "cell_type": "code",
   "execution_count": 3,
   "metadata": {},
   "outputs": [],
   "source": [
    "direction = {0: (0,1),\n",
    "             1: (1,0),\n",
    "             2: (0,-1),\n",
    "             3: (-1,0)}"
   ]
  },
  {
   "cell_type": "code",
   "execution_count": 4,
   "metadata": {},
   "outputs": [],
   "source": [
    "def flatten_nested_list(nested_list):\n",
    "    result = []\n",
    "    for element in nested_list:\n",
    "        if isinstance(element, list):\n",
    "            result.extend(flatten_nested_list(element))\n",
    "        else:\n",
    "            result.append(element)\n",
    "    return result"
   ]
  },
  {
   "cell_type": "code",
   "execution_count": 5,
   "metadata": {},
   "outputs": [],
   "source": [
    "data_new = data.copy()\n",
    "def find_region(i, j):\n",
    "    res = [(i,j)]\n",
    "    n, m = data.shape\n",
    "    var = data_new[i,j]\n",
    "    data_new[i,j] = \" \"\n",
    "    for k in range(4):\n",
    "        coords =  []\n",
    "        x, y = direction[k]\n",
    "        \n",
    "        if (n > i+x >= 0 and\n",
    "            m > j+y >= 0 and\n",
    "            data_new[i+x, j+y] == var):\n",
    "            coords.append(find_region(i+x, j+y))\n",
    "        res.append(coords)\n",
    "    return(res)        \n"
   ]
  },
  {
   "cell_type": "code",
   "execution_count": 6,
   "metadata": {},
   "outputs": [],
   "source": [
    "regions = []\n",
    "all_region_coords = []\n",
    "n, m = data.shape\n",
    "\n",
    "for i in range(n):\n",
    "    for j in range(m):\n",
    "        if (i,j) in all_region_coords:\n",
    "            pass\n",
    "        else:\n",
    "            region = find_region(i, j)\n",
    "            flatten_region = flatten_nested_list(region)\n",
    "            regions.append(flatten_region)\n",
    "            all_region_coords.append(flatten_region)\n",
    "            all_region_coords = flatten_nested_list(all_region_coords)\n",
    "for i in range(len(regions)):\n",
    "    regions[i] = list(set(regions[i]))"
   ]
  },
  {
   "cell_type": "code",
   "execution_count": 7,
   "metadata": {},
   "outputs": [],
   "source": [
    "def find_perimeter(region, data):\n",
    "    n, m = data.shape\n",
    "    perimeter = 0\n",
    "    for coord in region:\n",
    "        for i in range(4):\n",
    "            x, y = direction[i]\n",
    "            if (n > coord[0]+x >= 0 and\n",
    "                m > coord[1]+y >= 0 and\n",
    "                data[coord[0]+x, coord[1]+y] != data[coord[0],coord[1]]):\n",
    "                perimeter += 1 \n",
    "            elif (not(n > coord[0]+x >= 0) or\n",
    "                  not(m > coord[1]+y >= 0)):\n",
    "                perimeter += 1\n",
    "        \n",
    "    return perimeter"
   ]
  },
  {
   "cell_type": "code",
   "execution_count": 8,
   "metadata": {},
   "outputs": [
    {
     "data": {
      "text/plain": [
       "1489582"
      ]
     },
     "execution_count": 8,
     "metadata": {},
     "output_type": "execute_result"
    }
   ],
   "source": [
    "res = 0\n",
    "for region in regions:\n",
    "    area = len(region)\n",
    "    perimeter = find_perimeter(region, data)\n",
    "    res += area*perimeter\n",
    "res"
   ]
  }
 ],
 "metadata": {
  "kernelspec": {
   "display_name": "Python 3",
   "language": "python",
   "name": "python3"
  },
  "language_info": {
   "codemirror_mode": {
    "name": "ipython",
    "version": 3
   },
   "file_extension": ".py",
   "mimetype": "text/x-python",
   "name": "python",
   "nbconvert_exporter": "python",
   "pygments_lexer": "ipython3",
   "version": "3.10.11"
  }
 },
 "nbformat": 4,
 "nbformat_minor": 2
}
