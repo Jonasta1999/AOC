{
 "cells": [
  {
   "cell_type": "code",
   "execution_count": null,
   "metadata": {},
   "outputs": [],
   "source": [
    "import math"
   ]
  },
  {
   "cell_type": "code",
   "execution_count": null,
   "metadata": {},
   "outputs": [],
   "source": [
    "with open(\"input22.txt\", \"r\") as file:\n",
    "    data = file.read().splitlines()\n",
    "    data = list(map(int, data))\n",
    "data"
   ]
  },
  {
   "cell_type": "code",
   "execution_count": null,
   "metadata": {},
   "outputs": [],
   "source": [
    "def next_secrect_number(num):\n",
    "    # Process 1\n",
    "    num2 = num * 64\n",
    "    num3 = num^num2 # Mix\n",
    "    num4 = num3%16777216 # Prune\n",
    "\n",
    "    # Process 2\n",
    "    num5 = num4/32\n",
    "    num6 = math.floor(num5)\n",
    "    num7 = num4^num6 # Mix\n",
    "\n",
    "    # Process 3\n",
    "    num8 = num7*2048\n",
    "    num9 = num7^num8 # Mix\n",
    "    num10 = num9%16777216 # Prune\n",
    "\n",
    "    return(num10)\n",
    "    "
   ]
  },
  {
   "cell_type": "code",
   "execution_count": null,
   "metadata": {},
   "outputs": [],
   "source": [
    "sum = 0\n",
    "for sec_num in data:\n",
    "    for i in range(2000):\n",
    "        sec_num = next_secrect_number(sec_num)\n",
    "    sum += sec_num\n",
    "sum"
   ]
  }
 ],
 "metadata": {
  "kernelspec": {
   "display_name": "Python 3",
   "language": "python",
   "name": "python3"
  },
  "language_info": {
   "codemirror_mode": {
    "name": "ipython",
    "version": 3
   },
   "file_extension": ".py",
   "mimetype": "text/x-python",
   "name": "python",
   "nbconvert_exporter": "python",
   "pygments_lexer": "ipython3",
   "version": "3.10.11"
  }
 },
 "nbformat": 4,
 "nbformat_minor": 2
}
