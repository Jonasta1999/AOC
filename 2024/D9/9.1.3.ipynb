{
 "cells": [
  {
   "cell_type": "code",
   "execution_count": null,
   "metadata": {},
   "outputs": [],
   "source": [
    "import re\n",
    "from datetime import datetime as dt"
   ]
  },
  {
   "cell_type": "code",
   "execution_count": null,
   "metadata": {},
   "outputs": [],
   "source": [
    "with open(\"input9.txt\") as file:\n",
    "    data = list(file.read())"
   ]
  },
  {
   "cell_type": "code",
   "execution_count": null,
   "metadata": {},
   "outputs": [],
   "source": [
    "data = list(map(int, data))\n",
    "nums = [data[i] for i in range(0, len(data), 2)]\n",
    "dots = [data[i+1] for i in range(0, len(data)-1, 2)]"
   ]
  },
  {
   "cell_type": "code",
   "execution_count": null,
   "metadata": {},
   "outputs": [],
   "source": [
    "nums"
   ]
  },
  {
   "cell_type": "code",
   "execution_count": null,
   "metadata": {},
   "outputs": [],
   "source": [
    "dots"
   ]
  },
  {
   "cell_type": "code",
   "execution_count": null,
   "metadata": {},
   "outputs": [],
   "source": [
    "i = 0\n",
    "j = len(nums) - 1\n",
    "iter = 0\n",
    "res = []\n",
    "while len(dots) > i and j >= 0 and j > i:\n",
    "    if dots[i] >= nums[j]:\n",
    "        diff = dots[i] - nums[j]\n",
    "        res.append(str(j)*nums[j])\n",
    "        dots[i] = diff\n",
    "        nums[j] = 0\n",
    "        j -= 1\n",
    "    elif dots[i] <= nums[j]:\n",
    "        diff = nums[j] - dots[i]\n",
    "        res.append(str(j)*dots[i])\n",
    "        nums[j] = diff\n",
    "        dots[i] = 0\n",
    "        i += 1\n",
    "\n",
    "    "
   ]
  },
  {
   "cell_type": "code",
   "execution_count": null,
   "metadata": {},
   "outputs": [],
   "source": [
    "res"
   ]
  },
  {
   "cell_type": "code",
   "execution_count": null,
   "metadata": {},
   "outputs": [],
   "source": [
    "res = [item for item in res if item != \"\"]\n",
    "nums = [item for item in nums if item != 0]\n",
    "nums = [item*str(i) for i, item in enumerate(nums)]"
   ]
  },
  {
   "cell_type": "code",
   "execution_count": null,
   "metadata": {},
   "outputs": [],
   "source": [
    "res = \"\".join(res)"
   ]
  },
  {
   "cell_type": "code",
   "execution_count": null,
   "metadata": {},
   "outputs": [],
   "source": [
    "nums = \"\".join(nums)"
   ]
  },
  {
   "cell_type": "code",
   "execution_count": null,
   "metadata": {},
   "outputs": [],
   "source": [
    "final = \"\"\n",
    "for i in range(len(data)):\n",
    "    if i%2==0:\n",
    "        final += nums[:data[i]]\n",
    "        nums = nums[data[i]:]\n",
    "    else:\n",
    "        final += res[:data[i]]\n",
    "        res = res[data[i]:]"
   ]
  },
  {
   "cell_type": "code",
   "execution_count": null,
   "metadata": {},
   "outputs": [],
   "source": [
    "final"
   ]
  },
  {
   "cell_type": "code",
   "execution_count": null,
   "metadata": {},
   "outputs": [],
   "source": [
    "checksum = 0\n",
    "for i in range(len(final)):\n",
    "    checksum += i * int(final[i])\n",
    "    print(i, int(final[i]))\n",
    "checksum"
   ]
  },
  {
   "cell_type": "code",
   "execution_count": null,
   "metadata": {},
   "outputs": [],
   "source": [
    "20727677113-9129276348"
   ]
  }
 ],
 "metadata": {
  "kernelspec": {
   "display_name": "Python 3",
   "language": "python",
   "name": "python3"
  },
  "language_info": {
   "codemirror_mode": {
    "name": "ipython",
    "version": 3
   },
   "file_extension": ".py",
   "mimetype": "text/x-python",
   "name": "python",
   "nbconvert_exporter": "python",
   "pygments_lexer": "ipython3",
   "version": "3.10.11"
  }
 },
 "nbformat": 4,
 "nbformat_minor": 2
}
