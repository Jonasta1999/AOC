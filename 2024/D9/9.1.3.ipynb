{
 "cells": [
  {
   "cell_type": "code",
   "execution_count": 56,
   "metadata": {},
   "outputs": [],
   "source": [
    "import re\n",
    "from datetime import datetime as dt"
   ]
  },
  {
   "cell_type": "code",
   "execution_count": 57,
   "metadata": {},
   "outputs": [],
   "source": [
    "with open(\"input9.txt\") as file:\n",
    "    data = list(file.read())"
   ]
  },
  {
   "cell_type": "code",
   "execution_count": 58,
   "metadata": {},
   "outputs": [],
   "source": [
    "data = list(map(int, data))\n",
    "nums = [data[i] for i in range(0, len(data), 2)]\n",
    "dots = [data[i+1] for i in range(0, len(data)-1, 2)]"
   ]
  },
  {
   "cell_type": "code",
   "execution_count": 59,
   "metadata": {},
   "outputs": [
    {
     "data": {
      "text/plain": [
       "[2, 3, 1, 3, 2, 4, 4, 3, 4, 2]"
      ]
     },
     "execution_count": 59,
     "metadata": {},
     "output_type": "execute_result"
    }
   ],
   "source": [
    "nums"
   ]
  },
  {
   "cell_type": "code",
   "execution_count": 60,
   "metadata": {},
   "outputs": [
    {
     "data": {
      "text/plain": [
       "[3, 3, 3, 1, 1, 1, 1, 1, 0]"
      ]
     },
     "execution_count": 60,
     "metadata": {},
     "output_type": "execute_result"
    }
   ],
   "source": [
    "dots"
   ]
  },
  {
   "cell_type": "code",
   "execution_count": 61,
   "metadata": {},
   "outputs": [],
   "source": [
    "i = 0\n",
    "j = len(nums) - 1\n",
    "iter = 0\n",
    "res = []\n",
    "while len(dots) > i and j >= 0 and j > i:\n",
    "    if dots[i] >= nums[j]:\n",
    "        diff = dots[i] - nums[j]\n",
    "        res.append(str(j)*nums[j])\n",
    "        dots[i] = diff\n",
    "        nums[j] = 0\n",
    "        j -= 1\n",
    "    elif dots[i] <= nums[j]:\n",
    "        diff = nums[j] - dots[i]\n",
    "        res.append(str(j)*dots[i])\n",
    "        nums[j] = diff\n",
    "        dots[i] = 0\n",
    "        i += 1\n",
    "\n",
    "    "
   ]
  },
  {
   "cell_type": "code",
   "execution_count": 62,
   "metadata": {},
   "outputs": [
    {
     "data": {
      "text/plain": [
       "['99', '8', '888', '', '777', '', '6', '6', '6']"
      ]
     },
     "execution_count": 62,
     "metadata": {},
     "output_type": "execute_result"
    }
   ],
   "source": [
    "res"
   ]
  },
  {
   "cell_type": "code",
   "execution_count": 63,
   "metadata": {},
   "outputs": [],
   "source": [
    "res = [item for item in res if item != \"\"]\n",
    "nums = [item for item in nums if item != 0]\n",
    "nums = [item*str(i) for i, item in enumerate(nums)]"
   ]
  },
  {
   "cell_type": "code",
   "execution_count": 64,
   "metadata": {},
   "outputs": [],
   "source": [
    "res = \"\".join(res)"
   ]
  },
  {
   "cell_type": "code",
   "execution_count": 65,
   "metadata": {},
   "outputs": [],
   "source": [
    "nums = \"\".join(nums)"
   ]
  },
  {
   "cell_type": "code",
   "execution_count": 66,
   "metadata": {},
   "outputs": [],
   "source": [
    "final = \"\"\n",
    "for i in range(len(data)):\n",
    "    if i%2==0:\n",
    "        final += nums[:data[i]]\n",
    "        nums = nums[data[i]:]\n",
    "    else:\n",
    "        final += res[:data[i]]\n",
    "        res = res[data[i]:]"
   ]
  },
  {
   "cell_type": "code",
   "execution_count": 68,
   "metadata": {},
   "outputs": [
    {
     "data": {
      "text/plain": [
       "'0099811188827773336446555566'"
      ]
     },
     "execution_count": 68,
     "metadata": {},
     "output_type": "execute_result"
    }
   ],
   "source": [
    "final"
   ]
  },
  {
   "cell_type": "code",
   "execution_count": 67,
   "metadata": {},
   "outputs": [
    {
     "name": "stdout",
     "output_type": "stream",
     "text": [
      "0 0\n",
      "1 0\n",
      "2 9\n",
      "3 9\n",
      "4 8\n",
      "5 1\n",
      "6 1\n",
      "7 1\n",
      "8 8\n",
      "9 8\n",
      "10 8\n",
      "11 2\n",
      "12 7\n",
      "13 7\n",
      "14 7\n",
      "15 3\n",
      "16 3\n",
      "17 3\n",
      "18 6\n",
      "19 4\n",
      "20 4\n",
      "21 6\n",
      "22 5\n",
      "23 5\n",
      "24 5\n",
      "25 5\n",
      "26 6\n",
      "27 6\n"
     ]
    },
    {
     "data": {
      "text/plain": [
       "1928"
      ]
     },
     "execution_count": 67,
     "metadata": {},
     "output_type": "execute_result"
    }
   ],
   "source": [
    "checksum = 0\n",
    "for i in range(len(final)):\n",
    "    checksum += i * int(final[i])\n",
    "    print(i, int(final[i]))\n",
    "checksum"
   ]
  },
  {
   "cell_type": "code",
   "execution_count": 19,
   "metadata": {},
   "outputs": [
    {
     "data": {
      "text/plain": [
       "11598400765"
      ]
     },
     "execution_count": 19,
     "metadata": {},
     "output_type": "execute_result"
    }
   ],
   "source": [
    "20727677113-9129276348"
   ]
  }
 ],
 "metadata": {
  "kernelspec": {
   "display_name": "Python 3",
   "language": "python",
   "name": "python3"
  },
  "language_info": {
   "codemirror_mode": {
    "name": "ipython",
    "version": 3
   },
   "file_extension": ".py",
   "mimetype": "text/x-python",
   "name": "python",
   "nbconvert_exporter": "python",
   "pygments_lexer": "ipython3",
   "version": "3.10.11"
  }
 },
 "nbformat": 4,
 "nbformat_minor": 2
}
