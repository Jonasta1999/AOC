{
 "cells": [
  {
   "cell_type": "code",
   "execution_count": null,
   "metadata": {},
   "outputs": [],
   "source": [
    "import re\n",
    "from datetime import datetime as dt"
   ]
  },
  {
   "cell_type": "code",
   "execution_count": null,
   "metadata": {},
   "outputs": [],
   "source": [
    "with open(\"input9.txt\") as file:\n",
    "    #data = list(file.read())\n",
    "    data = file.read()"
   ]
  },
  {
   "cell_type": "code",
   "execution_count": null,
   "metadata": {},
   "outputs": [],
   "source": [
    "data = list(map(int, data))"
   ]
  },
  {
   "cell_type": "code",
   "execution_count": null,
   "metadata": {},
   "outputs": [],
   "source": [
    "i = 1\n",
    "j = len(data)-1\n",
    "res = data[0]*\"0\"\n",
    "while j > i:\n",
    "    print(data)\n",
    "    if data[i] == 0:\n",
    "        res += data[i+1]*str(int((i+1)/2))\n",
    "        data[i+1] = 0\n",
    "        i += 2\n",
    "        if i > j:\n",
    "            continue\n",
    "    if data[j] == 0:\n",
    "        j -= 2\n",
    "        if i > j:\n",
    "            continue\n",
    "    if data[i] >= data[j]:\n",
    "        diff = data[i] - data[j]\n",
    "        res += data[j]*str(int(j/2))\n",
    "        data[i] = diff\n",
    "        data[j] = 0\n",
    "    elif data[i] < data[j]:\n",
    "        diff = data[j] - data[i]\n",
    "        res += data[i]*str(int(j/2))\n",
    "        data[j] = diff\n",
    "        data[i] = 0\n",
    "print(data)"
   ]
  },
  {
   "cell_type": "code",
   "execution_count": null,
   "metadata": {},
   "outputs": [],
   "source": [
    "[2, 1, 3, 3, 1, 3, 3, 1, 2, 1, 0, 1, 0, 1, 0, 1, 0, 9, 0] "
   ]
  },
  {
   "cell_type": "code",
   "execution_count": null,
   "metadata": {},
   "outputs": [],
   "source": [
    "print(res)\n",
    "#print(\"0099811188827773336446555566\")"
   ]
  },
  {
   "cell_type": "code",
   "execution_count": null,
   "metadata": {},
   "outputs": [],
   "source": [
    "blocks = \"\"\n",
    "j = 0\n",
    "for i in range(0, len(data), 2):\n",
    "    if len(data) > i + 1:\n",
    "        blocks += data[i]*str(j) + \".\"*data[i+1]\n",
    "    else: \n",
    "        blocks += data[i]*str(j)\n",
    "    j += 1"
   ]
  },
  {
   "cell_type": "code",
   "execution_count": null,
   "metadata": {},
   "outputs": [],
   "source": [
    "blocks = data"
   ]
  },
  {
   "cell_type": "code",
   "execution_count": null,
   "metadata": {},
   "outputs": [],
   "source": [
    "first_dot = list(re.finditer(\"\\.\", blocks))[0].start()\n",
    "last_digit_start = list(re.finditer(\"\\d\", blocks))[-1].start()\n",
    "last_digit_group = list(re.finditer(\"\\d\", blocks))[-1].group()\n",
    "while first_dot < last_digit_start:\n",
    "    #start_time = dt.now()\n",
    "    blocks = blocks[:first_dot] + last_digit_group + blocks[first_dot+1:last_digit_start]\n",
    "    first_dot = list(re.finditer(\"\\.\", blocks))[0].start()\n",
    "    last_digit_start = list(re.finditer(\"\\d\", blocks))[-1].start()\n",
    "    last_digit_group = list(re.finditer(\"\\d\", blocks))[-1].group()\n",
    "    #end_time = dt.now()\n",
    "    print(str(round(first_dot*100/last_digit_start, 2)) + \"%\")\n",
    "blocks = blocks[:last_digit_start+1]"
   ]
  },
  {
   "cell_type": "code",
   "execution_count": null,
   "metadata": {},
   "outputs": [],
   "source": [
    "checksum = 0\n",
    "for i in range(len(blocks)):\n",
    "    checksum += i * int(blocks[i])\n",
    "checksum"
   ]
  },
  {
   "cell_type": "code",
   "execution_count": null,
   "metadata": {},
   "outputs": [],
   "source": [
    "blocks"
   ]
  }
 ],
 "metadata": {
  "kernelspec": {
   "display_name": "Python 3",
   "language": "python",
   "name": "python3"
  },
  "language_info": {
   "codemirror_mode": {
    "name": "ipython",
    "version": 3
   },
   "file_extension": ".py",
   "mimetype": "text/x-python",
   "name": "python",
   "nbconvert_exporter": "python",
   "pygments_lexer": "ipython3",
   "version": "3.10.11"
  }
 },
 "nbformat": 4,
 "nbformat_minor": 2
}
