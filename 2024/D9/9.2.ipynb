{
 "cells": [
  {
   "cell_type": "code",
   "execution_count": null,
   "metadata": {},
   "outputs": [],
   "source": [
    "with open(\"input9.txt\") as file:\n",
    "    data = list(file.read())"
   ]
  },
  {
   "cell_type": "code",
   "execution_count": null,
   "metadata": {},
   "outputs": [],
   "source": [
    "data = list(map(int, data))"
   ]
  },
  {
   "cell_type": "code",
   "execution_count": null,
   "metadata": {},
   "outputs": [],
   "source": [
    "blocks = []\n",
    "j = 0\n",
    "for i in range(0, len(data), 2):\n",
    "    if len(data) > i + 1:\n",
    "        blocks.append([j for k in range(data[i])])\n",
    "    else: \n",
    "        blocks.append([j for k in range(data[i])])\n",
    "    j += 1"
   ]
  },
  {
   "cell_type": "code",
   "execution_count": null,
   "metadata": {},
   "outputs": [],
   "source": [
    "def flatten_nested_list(nested_list):\n",
    "    result = []\n",
    "    for element in nested_list:\n",
    "        if isinstance(element, list):\n",
    "            result.extend(flatten_nested_list(element))\n",
    "        else:\n",
    "            result.append(element)\n",
    "    return result"
   ]
  },
  {
   "cell_type": "code",
   "execution_count": null,
   "metadata": {},
   "outputs": [],
   "source": [
    "data2 = data[:]\n",
    "j = 0\n",
    "for i in range(0, len(data), 2):\n",
    "    data2[i] = blocks[j]\n",
    "    j += 1"
   ]
  },
  {
   "cell_type": "code",
   "execution_count": null,
   "metadata": {},
   "outputs": [],
   "source": [
    "data = [[] for item in data]"
   ]
  },
  {
   "cell_type": "code",
   "execution_count": null,
   "metadata": {},
   "outputs": [],
   "source": [
    "data[0] = data2[0]\n",
    "for i in range(len(data2)-1, 1, -2):\n",
    "    for j in range(1, i, 2):\n",
    "        if isinstance(data2[j], int):\n",
    "            if data2[j] >= len(data2[i]):\n",
    "                data[j].append(data2[i])\n",
    "                data2[j] = data2[j] - len(data2[i])\n",
    "                data2[i] = len(data2[i])\n",
    "                break"
   ]
  },
  {
   "cell_type": "code",
   "execution_count": null,
   "metadata": {},
   "outputs": [],
   "source": [
    "insertion = []\n",
    "for i in range(len(data2)):\n",
    "    if isinstance(data2[i], int):\n",
    "        if data2[i] == 0:\n",
    "            data2[i] = []\n",
    "        else:\n",
    "            if len(data[i]) >= 1:\n",
    "                insertion.append((i, data2[i]))\n",
    "            data2[i] = [0]*data2[i]"
   ]
  },
  {
   "cell_type": "code",
   "execution_count": null,
   "metadata": {},
   "outputs": [],
   "source": [
    "for i in range(len(data2)):\n",
    "    if len(data[i])!=0:\n",
    "        data2[i] = data[i]"
   ]
  },
  {
   "cell_type": "code",
   "execution_count": null,
   "metadata": {},
   "outputs": [],
   "source": [
    "len(insertion)"
   ]
  },
  {
   "cell_type": "code",
   "execution_count": null,
   "metadata": {},
   "outputs": [],
   "source": [
    "for ins in insertion[::-1]:\n",
    "    location = ins[0]+1\n",
    "    item = 0\n",
    "    data2 = data2[:location] + [item] + data2[location:]"
   ]
  },
  {
   "cell_type": "code",
   "execution_count": null,
   "metadata": {},
   "outputs": [],
   "source": [
    "final = flatten_nested_list(data2)"
   ]
  },
  {
   "cell_type": "code",
   "execution_count": null,
   "metadata": {},
   "outputs": [],
   "source": [
    "checksum = 0\n",
    "for i in range(len(final)):\n",
    "    checksum += i * int(final[i])\n",
    "checksum"
   ]
  },
  {
   "cell_type": "code",
   "execution_count": null,
   "metadata": {},
   "outputs": [],
   "source": []
  }
 ],
 "metadata": {
  "kernelspec": {
   "display_name": "Python 3",
   "language": "python",
   "name": "python3"
  },
  "language_info": {
   "codemirror_mode": {
    "name": "ipython",
    "version": 3
   },
   "file_extension": ".py",
   "mimetype": "text/x-python",
   "name": "python",
   "nbconvert_exporter": "python",
   "pygments_lexer": "ipython3",
   "version": "3.10.11"
  }
 },
 "nbformat": 4,
 "nbformat_minor": 2
}
