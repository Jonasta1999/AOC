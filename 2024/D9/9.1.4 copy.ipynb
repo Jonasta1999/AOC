{
 "cells": [
  {
   "cell_type": "code",
   "execution_count": null,
   "metadata": {},
   "outputs": [],
   "source": [
    "import numpy as np"
   ]
  },
  {
   "cell_type": "code",
   "execution_count": null,
   "metadata": {},
   "outputs": [],
   "source": [
    "with open(\"input9.txt\") as file:\n",
    "    data = list(file.read())"
   ]
  },
  {
   "cell_type": "code",
   "execution_count": null,
   "metadata": {},
   "outputs": [],
   "source": [
    "data = list(map(int, data))"
   ]
  },
  {
   "cell_type": "code",
   "execution_count": null,
   "metadata": {},
   "outputs": [],
   "source": [
    "blocks = []\n",
    "j = 0\n",
    "for i in range(0, len(data), 2):\n",
    "    if len(data) > i + 1:\n",
    "        blocks.append([j for k in range(data[i])])\n",
    "    else: \n",
    "        blocks.append([j for k in range(data[i])])\n",
    "    j += 1"
   ]
  },
  {
   "cell_type": "code",
   "execution_count": null,
   "metadata": {},
   "outputs": [],
   "source": [
    "def flatten_nested_list(nested_list):\n",
    "    result = []\n",
    "    for element in nested_list:\n",
    "        if isinstance(element, list):\n",
    "            result.extend(flatten_nested_list(element))\n",
    "        else:\n",
    "            result.append(element)\n",
    "    return result"
   ]
  },
  {
   "cell_type": "code",
   "execution_count": null,
   "metadata": {},
   "outputs": [],
   "source": [
    "blocks = flatten_nested_list(blocks)"
   ]
  },
  {
   "cell_type": "code",
   "execution_count": null,
   "metadata": {},
   "outputs": [],
   "source": [
    "final = []\n",
    "for i in range(len(data)):\n",
    "    if data[i] != 0:\n",
    "        if i%2==0:\n",
    "            final.append(blocks[:data[i]])\n",
    "            blocks = blocks[data[i]:]\n",
    "\n",
    "        else:\n",
    "            final += blocks[::-1][:data[i]]\n",
    "            blocks = blocks[:-data[i]]"
   ]
  },
  {
   "cell_type": "code",
   "execution_count": null,
   "metadata": {},
   "outputs": [],
   "source": [
    "final = flatten_nested_list(final)"
   ]
  },
  {
   "cell_type": "code",
   "execution_count": null,
   "metadata": {},
   "outputs": [],
   "source": [
    "checksum = 0\n",
    "for i in range(len(final)):\n",
    "    checksum += i * int(final[i])\n",
    "checksum"
   ]
  }
 ],
 "metadata": {
  "kernelspec": {
   "display_name": "Python 3",
   "language": "python",
   "name": "python3"
  },
  "language_info": {
   "codemirror_mode": {
    "name": "ipython",
    "version": 3
   },
   "file_extension": ".py",
   "mimetype": "text/x-python",
   "name": "python",
   "nbconvert_exporter": "python",
   "pygments_lexer": "ipython3",
   "version": "3.10.11"
  }
 },
 "nbformat": 4,
 "nbformat_minor": 2
}
