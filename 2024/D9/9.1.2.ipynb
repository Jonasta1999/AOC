{
 "cells": [
  {
   "cell_type": "code",
   "execution_count": null,
   "metadata": {},
   "outputs": [],
   "source": [
    "import re\n",
    "from datetime import datetime as dt"
   ]
  },
  {
   "cell_type": "code",
   "execution_count": null,
   "metadata": {},
   "outputs": [],
   "source": [
    "with open(\"input9.txt\") as file:\n",
    "    data = list(file.read())"
   ]
  },
  {
   "cell_type": "code",
   "execution_count": null,
   "metadata": {},
   "outputs": [],
   "source": [
    "data = list(map(int, data))"
   ]
  },
  {
   "cell_type": "code",
   "execution_count": null,
   "metadata": {},
   "outputs": [],
   "source": [
    "i = 1\n",
    "j = len(data)-1\n",
    "res = data[0]*\"0\"\n",
    "while j > i:\n",
    "    if data[i] == 0:\n",
    "        res += data[i+1]*str(int((i+1)/2))\n",
    "        data[i+1] = 0\n",
    "        i += 2\n",
    "        if i > j:\n",
    "            continue\n",
    "    if data[j] == 0:\n",
    "        j -= 2\n",
    "        if i > j:\n",
    "            continue\n",
    "    if data[i] >= data[j]:\n",
    "        diff = data[i] - data[j]\n",
    "        res += data[j]*str(int(j/2))\n",
    "        data[i] = diff\n",
    "        data[j] = 0\n",
    "    elif data[i] < data[j]:\n",
    "        diff = data[j] - data[i]\n",
    "        res += data[i]*str(int(j/2))\n",
    "        data[j] = diff\n",
    "        data[i] = 0"
   ]
  },
  {
   "cell_type": "code",
   "execution_count": null,
   "metadata": {},
   "outputs": [],
   "source": [
    "[2, 1, 3, 3, 1, 3, 3, 1, 2, 1, 0, 1, 0, 1, 0, 1, 0, 9, 0] "
   ]
  },
  {
   "cell_type": "code",
   "execution_count": null,
   "metadata": {},
   "outputs": [],
   "source": [
    "print(res)"
   ]
  },
  {
   "cell_type": "code",
   "execution_count": null,
   "metadata": {},
   "outputs": [],
   "source": [
    "checksum = 0\n",
    "for i in range(len(res)):\n",
    "    checksum += i * int(res[i])\n",
    "checksum"
   ]
  },
  {
   "cell_type": "code",
   "execution_count": null,
   "metadata": {},
   "outputs": [],
   "source": []
  }
 ],
 "metadata": {
  "kernelspec": {
   "display_name": "Python 3",
   "language": "python",
   "name": "python3"
  },
  "language_info": {
   "codemirror_mode": {
    "name": "ipython",
    "version": 3
   },
   "file_extension": ".py",
   "mimetype": "text/x-python",
   "name": "python",
   "nbconvert_exporter": "python",
   "pygments_lexer": "ipython3",
   "version": "3.10.11"
  }
 },
 "nbformat": 4,
 "nbformat_minor": 2
}
