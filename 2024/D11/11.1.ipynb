{
 "cells": [
  {
   "cell_type": "code",
   "execution_count": null,
   "metadata": {},
   "outputs": [],
   "source": [
    "from datetime import datetime as dt"
   ]
  },
  {
   "cell_type": "code",
   "execution_count": null,
   "metadata": {},
   "outputs": [],
   "source": [
    "with open(\"input11.txt\") as file:\n",
    "    data = list(map(int, file.read().split(\" \")))\n",
    "data"
   ]
  },
  {
   "cell_type": "code",
   "execution_count": null,
   "metadata": {},
   "outputs": [],
   "source": [
    "def flatten_nested_list(nested_list):\n",
    "    result = []\n",
    "    for element in nested_list:\n",
    "        if isinstance(element, list):\n",
    "            result.extend(flatten_nested_list(element))\n",
    "        else:\n",
    "            result.append(element)\n",
    "    return result"
   ]
  },
  {
   "cell_type": "code",
   "execution_count": null,
   "metadata": {},
   "outputs": [],
   "source": [
    "res = \"\"\n",
    "i = 0\n",
    "while 75 > i:\n",
    "    start = dt.now()\n",
    "    for j in range(len(data)):\n",
    "        str_data = str(data[j])\n",
    "        if data[j] == 0:\n",
    "            data[j] = 1\n",
    "        elif len(str_data)%2 == 0:\n",
    "            data[j] = list(map(int, [str_data[:int(len(str_data)/2)], str_data[int(len(str_data)/2):]]))\n",
    "        else:\n",
    "            data[j] = data[j]*2024\n",
    "    data = flatten_nested_list(data)\n",
    "    res += f\"{len(data)}, \"\n",
    "    end = dt.now()\n",
    "    print(i, (end-start).seconds)\n",
    "    i += 1"
   ]
  },
  {
   "cell_type": "code",
   "execution_count": null,
   "metadata": {},
   "outputs": [],
   "source": []
  }
 ],
 "metadata": {
  "kernelspec": {
   "display_name": "Python 3",
   "language": "python",
   "name": "python3"
  },
  "language_info": {
   "codemirror_mode": {
    "name": "ipython",
    "version": 3
   },
   "file_extension": ".py",
   "mimetype": "text/x-python",
   "name": "python",
   "nbconvert_exporter": "python",
   "pygments_lexer": "ipython3",
   "version": "3.10.11"
  }
 },
 "nbformat": 4,
 "nbformat_minor": 2
}
