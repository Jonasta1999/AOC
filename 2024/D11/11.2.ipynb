{
 "cells": [
  {
   "cell_type": "code",
   "execution_count": 50,
   "metadata": {},
   "outputs": [],
   "source": [
    "from datetime import datetime as dt"
   ]
  },
  {
   "cell_type": "code",
   "execution_count": 51,
   "metadata": {},
   "outputs": [
    {
     "data": {
      "text/plain": [
       "[93836]"
      ]
     },
     "execution_count": 51,
     "metadata": {},
     "output_type": "execute_result"
    }
   ],
   "source": [
    "with open(\"input11.txt\") as file:\n",
    "    data = list(map(int, file.read().split(\" \")))\n",
    "data"
   ]
  },
  {
   "cell_type": "code",
   "execution_count": 52,
   "metadata": {},
   "outputs": [],
   "source": [
    "def flatten_nested_list(nested_list):\n",
    "    result = []\n",
    "    for element in nested_list:\n",
    "        if isinstance(element, list):\n",
    "            result.extend(flatten_nested_list(element))\n",
    "        else:\n",
    "            result.append(element)\n",
    "    return result"
   ]
  },
  {
   "cell_type": "code",
   "execution_count": 53,
   "metadata": {},
   "outputs": [],
   "source": [
    "def unique_nums(data):\n",
    "    nums_dict = {}\n",
    "    len_dict = 0\n",
    "    while True:\n",
    "        start_time = dt.now()\n",
    "        for j in range(len(data)):\n",
    "            if data[j] not in nums_dict:\n",
    "                str_data = str(data[j])\n",
    "                if data[j] == 0:\n",
    "                    nums_dict[data[j]] = 1\n",
    "                    data[j] = 1\n",
    "                elif len(str_data)%2 == 0:\n",
    "                    nums_dict[data[j]] = list(map(int, [str_data[:int(len(str_data)/2)], str_data[int(len(str_data)/2):]]))\n",
    "                    data[j] = list(map(int, [str_data[:int(len(str_data)/2)], str_data[int(len(str_data)/2):]]))\n",
    "                else:\n",
    "                    nums_dict[data[j]] = data[j]*2024\n",
    "                    data[j] = data[j]*2024\n",
    "            else:\n",
    "                data[j] = []\n",
    "        data = flatten_nested_list(data)\n",
    "        old_len_dict = len_dict\n",
    "        len_dict = len(nums_dict)\n",
    "        if len_dict == old_len_dict:\n",
    "            break\n",
    "    return(nums_dict)"
   ]
  },
  {
   "cell_type": "code",
   "execution_count": 54,
   "metadata": {},
   "outputs": [],
   "source": [
    "data2 = data.copy()\n",
    "nums_dict = unique_nums(data2)"
   ]
  },
  {
   "cell_type": "code",
   "execution_count": 55,
   "metadata": {},
   "outputs": [
    {
     "data": {
      "text/plain": [
       "3816"
      ]
     },
     "execution_count": 55,
     "metadata": {},
     "output_type": "execute_result"
    },
    {
     "ename": "",
     "evalue": "",
     "output_type": "error",
     "traceback": [
      "\u001b[1;31mThe Kernel crashed while executing code in the current cell or a previous cell. \n",
      "\u001b[1;31mPlease review the code in the cell(s) to identify a possible cause of the failure. \n",
      "\u001b[1;31mClick <a href='https://aka.ms/vscodeJupyterKernelCrash'>here</a> for more info. \n",
      "\u001b[1;31mView Jupyter <a href='command:jupyter.viewOutput'>log</a> for further details."
     ]
    }
   ],
   "source": [
    "len(nums_dict)"
   ]
  },
  {
   "cell_type": "code",
   "execution_count": 23,
   "metadata": {},
   "outputs": [],
   "source": [
    "def recur(data, depth):\n",
    "    if depth == 75:\n",
    "        return 1\n",
    "    else:\n",
    "        print(depth)\n",
    "        if isinstance(data, list):\n",
    "            data = data[0]\n",
    "        res = nums_dict[data]\n",
    "        if isinstance(res, list):\n",
    "            res1 = recur([res[0]], depth+1)\n",
    "            res2 = recur([res[1]], depth+1)\n",
    "            #print(res1)\n",
    "            #print(res)\n",
    "            return res1 + res2\n",
    "        else:\n",
    "            res = recur([res], depth+1)\n",
    "            return res\n",
    "\n",
    "    "
   ]
  }
 ],
 "metadata": {
  "kernelspec": {
   "display_name": "Python 3",
   "language": "python",
   "name": "python3"
  },
  "language_info": {
   "codemirror_mode": {
    "name": "ipython",
    "version": 3
   },
   "file_extension": ".py",
   "mimetype": "text/x-python",
   "name": "python",
   "nbconvert_exporter": "python",
   "pygments_lexer": "ipython3",
   "version": "3.10.11"
  }
 },
 "nbformat": 4,
 "nbformat_minor": 2
}
