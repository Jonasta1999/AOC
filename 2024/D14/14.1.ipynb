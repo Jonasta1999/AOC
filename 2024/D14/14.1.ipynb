{
 "cells": [
  {
   "cell_type": "code",
   "execution_count": 12,
   "metadata": {},
   "outputs": [],
   "source": [
    "import re\n",
    "import numpy as np"
   ]
  },
  {
   "cell_type": "code",
   "execution_count": 13,
   "metadata": {},
   "outputs": [],
   "source": [
    "with open(\"input14.txt\", \"r\") as file:\n",
    "    data = file.read().splitlines()\n",
    "    data = [item.split(\" \") for item in data]\n",
    "    data = [[item[0].split(\",\"), item[1].split(\",\")] for item in data]\n",
    "    coord = [item[0] for item in data]\n",
    "    coord = [[int(item[0][2:]), int(item[1])] for item in coord]\n",
    "    vel = [item[1] for item in data]\n",
    "    vel = [[int(item[0][2:]), int(item[1])] for item in vel]"
   ]
  },
  {
   "cell_type": "code",
   "execution_count": 14,
   "metadata": {},
   "outputs": [
    {
     "name": "stdout",
     "output_type": "stream",
     "text": [
      "[57, 30]\n",
      "[22, -36]\n"
     ]
    }
   ],
   "source": [
    "print(coord[2])\n",
    "print(vel[2])"
   ]
  },
  {
   "cell_type": "code",
   "execution_count": 15,
   "metadata": {},
   "outputs": [],
   "source": [
    "seconds = 100\n",
    "n, m = 101, 103\n",
    "for sec in range(seconds):\n",
    "    for i in range(len(coord)):\n",
    "        temp_coord = coord[i]\n",
    "        temp_vel = vel[i]\n",
    "\n",
    "        if coord[i][0] + vel[i][0] < 0:\n",
    "            coord[i][0] = n + coord[i][0] + vel[i][0]\n",
    "        elif coord[i][0] + vel[i][0] >= n:\n",
    "            coord[i][0] = coord[i][0] + vel[i][0] - n\n",
    "        else:\n",
    "            coord[i][0] = coord[i][0] + vel[i][0] \n",
    "        if coord[i][1] + vel[i][1] < 0:\n",
    "            coord[i][1] = m + coord[i][1] + vel[i][1]\n",
    "        elif coord[i][1] + vel[i][1] >= m:\n",
    "            coord[i][1] = coord[i][1] + vel[i][1] - m\n",
    "        else:\n",
    "            coord[i][1] = coord[i][1] + vel[i][1]    "
   ]
  },
  {
   "cell_type": "code",
   "execution_count": 16,
   "metadata": {},
   "outputs": [
    {
     "data": {
      "text/plain": [
       "[35, 35]"
      ]
     },
     "execution_count": 16,
     "metadata": {},
     "output_type": "execute_result"
    }
   ],
   "source": [
    "coord[2]"
   ]
  },
  {
   "cell_type": "code",
   "execution_count": 17,
   "metadata": {},
   "outputs": [],
   "source": [
    "q1, q2, q3, q4 = 0, 0, 0, 0\n",
    "\n",
    "for i in range(len(coord)):\n",
    "    if coord[i][0] < (n-1)/2 and coord[i][1] < (m-1)/2:\n",
    "        q1 += 1\n",
    "    elif coord[i][0] > (n-1)/2 and coord[i][1] < (m-1)/2:\n",
    "        q2 += 1\n",
    "    elif coord[i][0] < (n-1)/2 and coord[i][1] > (m-1)/2:\n",
    "        q3 += 1\n",
    "    elif coord[i][0] > (n-1)/2 and coord[i][1] > (m-1)/2:\n",
    "        q4 += 1\n"
   ]
  },
  {
   "cell_type": "code",
   "execution_count": 18,
   "metadata": {},
   "outputs": [
    {
     "data": {
      "text/plain": [
       "236628054"
      ]
     },
     "execution_count": 18,
     "metadata": {},
     "output_type": "execute_result"
    }
   ],
   "source": [
    "q1* q2* q3* q4"
   ]
  },
  {
   "cell_type": "code",
   "execution_count": null,
   "metadata": {},
   "outputs": [],
   "source": []
  }
 ],
 "metadata": {
  "kernelspec": {
   "display_name": "Python 3",
   "language": "python",
   "name": "python3"
  },
  "language_info": {
   "codemirror_mode": {
    "name": "ipython",
    "version": 3
   },
   "file_extension": ".py",
   "mimetype": "text/x-python",
   "name": "python",
   "nbconvert_exporter": "python",
   "pygments_lexer": "ipython3",
   "version": "3.10.4"
  }
 },
 "nbformat": 4,
 "nbformat_minor": 2
}
