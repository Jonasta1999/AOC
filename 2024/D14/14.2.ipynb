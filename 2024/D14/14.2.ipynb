{
 "cells": [
  {
   "cell_type": "code",
   "execution_count": 106,
   "metadata": {},
   "outputs": [],
   "source": [
    "import re\n",
    "import numpy as np"
   ]
  },
  {
   "cell_type": "code",
   "execution_count": 107,
   "metadata": {},
   "outputs": [],
   "source": [
    "with open(\"input14.txt\", \"r\") as file:\n",
    "    data = file.read().splitlines()\n",
    "    data = [item.split(\" \") for item in data]\n",
    "    data = [[item[0].split(\",\"), item[1].split(\",\")] for item in data]\n",
    "    coord = [item[0] for item in data]\n",
    "    coord = [[int(item[0][2:]), int(item[1])] for item in coord]\n",
    "    vel = [item[1] for item in data]\n",
    "    vel = [[int(item[0][2:]), int(item[1])] for item in vel]"
   ]
  },
  {
   "cell_type": "code",
   "execution_count": 108,
   "metadata": {},
   "outputs": [],
   "source": [
    "grid = np.zeros((103, 101))"
   ]
  },
  {
   "cell_type": "code",
   "execution_count": 109,
   "metadata": {},
   "outputs": [
    {
     "ename": "KeyboardInterrupt",
     "evalue": "",
     "output_type": "error",
     "traceback": [
      "\u001b[1;31m---------------------------------------------------------------------------\u001b[0m",
      "\u001b[1;31mKeyboardInterrupt\u001b[0m                         Traceback (most recent call last)",
      "Cell \u001b[1;32mIn[109], line 17\u001b[0m\n\u001b[0;32m     15\u001b[0m \u001b[38;5;28;01melse\u001b[39;00m:\n\u001b[0;32m     16\u001b[0m     coord[i][\u001b[38;5;241m0\u001b[39m] \u001b[38;5;241m=\u001b[39m coord[i][\u001b[38;5;241m0\u001b[39m] \u001b[38;5;241m+\u001b[39m vel[i][\u001b[38;5;241m0\u001b[39m] \n\u001b[1;32m---> 17\u001b[0m \u001b[38;5;28;01mif\u001b[39;00m \u001b[43mcoord\u001b[49m\u001b[43m[\u001b[49m\u001b[43mi\u001b[49m\u001b[43m]\u001b[49m\u001b[43m[\u001b[49m\u001b[38;5;241;43m1\u001b[39;49m\u001b[43m]\u001b[49m\u001b[43m \u001b[49m\u001b[38;5;241;43m+\u001b[39;49m\u001b[43m \u001b[49m\u001b[43mvel\u001b[49m\u001b[43m[\u001b[49m\u001b[43mi\u001b[49m\u001b[43m]\u001b[49m\u001b[43m[\u001b[49m\u001b[38;5;241;43m1\u001b[39;49m\u001b[43m]\u001b[49m\u001b[43m \u001b[49m\u001b[38;5;241;43m<\u001b[39;49m\u001b[43m \u001b[49m\u001b[38;5;241;43m0\u001b[39;49m:\n\u001b[0;32m     18\u001b[0m     coord[i][\u001b[38;5;241m1\u001b[39m] \u001b[38;5;241m=\u001b[39m m \u001b[38;5;241m+\u001b[39m coord[i][\u001b[38;5;241m1\u001b[39m] \u001b[38;5;241m+\u001b[39m vel[i][\u001b[38;5;241m1\u001b[39m]\n\u001b[0;32m     19\u001b[0m \u001b[38;5;28;01melif\u001b[39;00m coord[i][\u001b[38;5;241m1\u001b[39m] \u001b[38;5;241m+\u001b[39m vel[i][\u001b[38;5;241m1\u001b[39m] \u001b[38;5;241m>\u001b[39m\u001b[38;5;241m=\u001b[39m m:\n",
      "\u001b[1;31mKeyboardInterrupt\u001b[0m: "
     ]
    }
   ],
   "source": [
    "seconds = 100\n",
    "n, m = 101, 103\n",
    "counter = 0\n",
    "while True:\n",
    "    for i in range(len(coord)):\n",
    "        temp_coord = coord[i]\n",
    "        temp_vel = vel[i]\n",
    "        if sec > 0:\n",
    "            grid[temp_coord[1]][temp_coord[0]] -= 1\n",
    "\n",
    "        if coord[i][0] + vel[i][0] < 0:\n",
    "            coord[i][0] = n + coord[i][0] + vel[i][0]\n",
    "        elif coord[i][0] + vel[i][0] >= n:\n",
    "            coord[i][0] = coord[i][0] + vel[i][0] - n\n",
    "        else:\n",
    "            coord[i][0] = coord[i][0] + vel[i][0] \n",
    "        if coord[i][1] + vel[i][1] < 0:\n",
    "            coord[i][1] = m + coord[i][1] + vel[i][1]\n",
    "        elif coord[i][1] + vel[i][1] >= m:\n",
    "            coord[i][1] = coord[i][1] + vel[i][1] - m\n",
    "        else:\n",
    "            coord[i][1] = coord[i][1] + vel[i][1]    \n",
    "        grid[coord[i][1]-1, coord[i][0]-1] += 1\n",
    "    if 0 not in grid[:,50] and grid[0,0] == 0 and grid[0,100] == 0 and grid[102,0] == 0 and grid[102,100] == 0:\n",
    "        print(\"Her\", counter)\n",
    "        break\n",
    "    counter += 1"
   ]
  },
  {
   "cell_type": "code",
   "execution_count": 101,
   "metadata": {},
   "outputs": [],
   "source": [
    "np.savetxt(\"grid.txt\", grid, fmt=\"%d\")"
   ]
  }
 ],
 "metadata": {
  "kernelspec": {
   "display_name": "Python 3",
   "language": "python",
   "name": "python3"
  },
  "language_info": {
   "codemirror_mode": {
    "name": "ipython",
    "version": 3
   },
   "file_extension": ".py",
   "mimetype": "text/x-python",
   "name": "python",
   "nbconvert_exporter": "python",
   "pygments_lexer": "ipython3",
   "version": "3.10.4"
  }
 },
 "nbformat": 4,
 "nbformat_minor": 2
}
