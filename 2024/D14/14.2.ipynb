{
 "cells": [
  {
   "cell_type": "code",
   "execution_count": null,
   "metadata": {},
   "outputs": [],
   "source": [
    "import re\n",
    "import numpy as np"
   ]
  },
  {
   "cell_type": "code",
   "execution_count": null,
   "metadata": {},
   "outputs": [],
   "source": [
    "with open(\"input14.txt\", \"r\") as file:\n",
    "    data = file.read().splitlines()\n",
    "    data = [item.split(\" \") for item in data]\n",
    "    data = [[item[0].split(\",\"), item[1].split(\",\")] for item in data]\n",
    "    coord = [item[0] for item in data]\n",
    "    coord = [[int(item[0][2:]), int(item[1])] for item in coord]\n",
    "    vel = [item[1] for item in data]\n",
    "    vel = [[int(item[0][2:]), int(item[1])] for item in vel]"
   ]
  },
  {
   "cell_type": "code",
   "execution_count": null,
   "metadata": {},
   "outputs": [],
   "source": [
    "grid = np.zeros((103, 101))"
   ]
  },
  {
   "cell_type": "code",
   "execution_count": null,
   "metadata": {},
   "outputs": [],
   "source": [
    "seconds = 100\n",
    "n, m = 101, 103\n",
    "counter = 0\n",
    "while True:\n",
    "    for i in range(len(coord)):\n",
    "        temp_coord = coord[i]\n",
    "        temp_vel = vel[i]\n",
    "        if sec > 0:\n",
    "            grid[temp_coord[1]][temp_coord[0]] -= 1\n",
    "\n",
    "        if coord[i][0] + vel[i][0] < 0:\n",
    "            coord[i][0] = n + coord[i][0] + vel[i][0]\n",
    "        elif coord[i][0] + vel[i][0] >= n:\n",
    "            coord[i][0] = coord[i][0] + vel[i][0] - n\n",
    "        else:\n",
    "            coord[i][0] = coord[i][0] + vel[i][0] \n",
    "        if coord[i][1] + vel[i][1] < 0:\n",
    "            coord[i][1] = m + coord[i][1] + vel[i][1]\n",
    "        elif coord[i][1] + vel[i][1] >= m:\n",
    "            coord[i][1] = coord[i][1] + vel[i][1] - m\n",
    "        else:\n",
    "            coord[i][1] = coord[i][1] + vel[i][1]    \n",
    "        grid[coord[i][1]-1, coord[i][0]-1] += 1\n",
    "    if 0 not in grid[:,50] and grid[0,0] == 0 and grid[0,100] == 0 and grid[102,0] == 0 and grid[102,100] == 0:\n",
    "        print(\"Her\", counter)\n",
    "        break\n",
    "    counter += 1"
   ]
  },
  {
   "cell_type": "code",
   "execution_count": null,
   "metadata": {},
   "outputs": [],
   "source": [
    "np.savetxt(\"grid.txt\", grid, fmt=\"%d\")"
   ]
  }
 ],
 "metadata": {
  "kernelspec": {
   "display_name": "Python 3",
   "language": "python",
   "name": "python3"
  },
  "language_info": {
   "codemirror_mode": {
    "name": "ipython",
    "version": 3
   },
   "file_extension": ".py",
   "mimetype": "text/x-python",
   "name": "python",
   "nbconvert_exporter": "python",
   "pygments_lexer": "ipython3",
   "version": "3.10.4"
  }
 },
 "nbformat": 4,
 "nbformat_minor": 2
}
