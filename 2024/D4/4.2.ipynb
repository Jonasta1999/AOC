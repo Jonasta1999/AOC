{
 "cells": [
  {
   "cell_type": "code",
   "execution_count": null,
   "metadata": {},
   "outputs": [],
   "source": [
    "with open(\"input4.txt\", \"r\") as file:\n",
    "    data = file.read().splitlines()"
   ]
  },
  {
   "cell_type": "code",
   "execution_count": null,
   "metadata": {},
   "outputs": [],
   "source": [
    "def diagonal(data):\n",
    "    n = len(data)\n",
    "    m = len(data[0])\n",
    "    res = []\n",
    "    for i in range(n):\n",
    "        for j in range(m):\n",
    "            try:\n",
    "                word = data[i][j] + data[i+1][j+1] + data[i+2][j+2] \n",
    "                if word == \"MAS\" or word[::-1] == \"MAS\":\n",
    "                    res.append([[i,j],[i+2,j+2]])\n",
    "            except:\n",
    "                pass\n",
    "            try:\n",
    "                word = data[i][j] + data[i-1][j+1] + data[i-2][j+2]\n",
    "                if word == \"MAS\" or word[::-1] == \"MAS\" and i-2 >= 0:\n",
    "                    res.append([[i,j],[i-2,j+2]])\n",
    "            except:\n",
    "                pass\n",
    "    return res"
   ]
  },
  {
   "cell_type": "code",
   "execution_count": null,
   "metadata": {},
   "outputs": [],
   "source": [
    "mas = diagonal(data)\n",
    "pairs = []\n",
    "\n",
    "for i in range(len(mas)):\n",
    "    for j in range(i, len(mas)):\n",
    "        if (\n",
    "            mas[i][0][1] == mas[j][0][1] and \n",
    "            mas[i][0][0] + 2 == mas[j][0][0] and \n",
    "            mas[i][0][0] == mas[j][1][0] and \n",
    "            mas[i][1][0] == mas[j][0][0] not in [item[1] for item in pairs]\n",
    "            ):\n",
    "            pairs.append([mas[i], mas[j]])\n"
   ]
  },
  {
   "cell_type": "code",
   "execution_count": null,
   "metadata": {},
   "outputs": [],
   "source": [
    "len(pairs)"
   ]
  }
 ],
 "metadata": {
  "kernelspec": {
   "display_name": "Python 3",
   "language": "python",
   "name": "python3"
  },
  "language_info": {
   "codemirror_mode": {
    "name": "ipython",
    "version": 3
   },
   "file_extension": ".py",
   "mimetype": "text/x-python",
   "name": "python",
   "nbconvert_exporter": "python",
   "pygments_lexer": "ipython3",
   "version": "3.10.11"
  }
 },
 "nbformat": 4,
 "nbformat_minor": 2
}
