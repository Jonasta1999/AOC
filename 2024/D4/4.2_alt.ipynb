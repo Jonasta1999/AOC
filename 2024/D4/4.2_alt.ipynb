{
 "cells": [
  {
   "cell_type": "code",
   "execution_count": null,
   "metadata": {},
   "outputs": [],
   "source": [
    "from collections import Counter"
   ]
  },
  {
   "cell_type": "code",
   "execution_count": null,
   "metadata": {},
   "outputs": [],
   "source": [
    "with open(\"input4.txt\", \"r\") as file:\n",
    "    data = file.read().splitlines()"
   ]
  },
  {
   "cell_type": "code",
   "execution_count": null,
   "metadata": {},
   "outputs": [],
   "source": [
    "def diagonal(data):\n",
    "    n = len(data)\n",
    "    m = len(data[0])\n",
    "    res = []\n",
    "    for i in range(n):\n",
    "        for j in range(m):\n",
    "            try:\n",
    "                word = data[i][j] + data[i+1][j+1] + data[i+2][j+2] \n",
    "                if word == \"MAS\" or word[::-1] == \"MAS\":\n",
    "                    res.append([i+1, j+1])\n",
    "            except:\n",
    "                pass\n",
    "            try:\n",
    "                word = data[i][j] + data[i-1][j+1] + data[i-2][j+2]\n",
    "                if word == \"MAS\" or word[::-1] == \"MAS\" and i-2 >= 0:\n",
    "                    res.append([i-1, j+1])\n",
    "            except:\n",
    "                pass\n",
    "    return res"
   ]
  },
  {
   "cell_type": "code",
   "execution_count": null,
   "metadata": {},
   "outputs": [],
   "source": [
    "len([item for item in list(Counter([str(item) for item in diagonal(data)]).values()) if item > 1])"
   ]
  }
 ],
 "metadata": {
  "kernelspec": {
   "display_name": "Python 3",
   "language": "python",
   "name": "python3"
  },
  "language_info": {
   "codemirror_mode": {
    "name": "ipython",
    "version": 3
   },
   "file_extension": ".py",
   "mimetype": "text/x-python",
   "name": "python",
   "nbconvert_exporter": "python",
   "pygments_lexer": "ipython3",
   "version": "3.10.11"
  }
 },
 "nbformat": 4,
 "nbformat_minor": 2
}
