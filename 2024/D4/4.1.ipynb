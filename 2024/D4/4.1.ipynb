{
 "cells": [
  {
   "cell_type": "code",
   "execution_count": 1,
   "metadata": {},
   "outputs": [],
   "source": [
    "with open(\"input4.txt\", \"r\") as file:\n",
    "    data = file.read().splitlines()"
   ]
  },
  {
   "cell_type": "code",
   "execution_count": 2,
   "metadata": {},
   "outputs": [],
   "source": [
    "def left_right(data):\n",
    "    n = len(data)\n",
    "    m = len(data[0])\n",
    "    count = 0\n",
    "    for i in range(n):\n",
    "        for j in range(m):\n",
    "            word = data[i][j:j+4]\n",
    "            if word == \"XMAS\" or word[::-1] == \"XMAS\":\n",
    "                count += 1\n",
    "    return count\n"
   ]
  },
  {
   "cell_type": "code",
   "execution_count": 3,
   "metadata": {},
   "outputs": [],
   "source": [
    "def up_down(data):\n",
    "    n = len(data)\n",
    "    m = len(data[0])\n",
    "    count = 0\n",
    "    for i in range(n):\n",
    "        for j in range(m):\n",
    "            try:\n",
    "                word = data[i][j] + data[i+1][j] + data[i+2][j] + data[i+3][j]\n",
    "                if word == \"XMAS\" or word[::-1] == \"XMAS\":\n",
    "                    count += 1\n",
    "            except:\n",
    "                pass\n",
    "    return count"
   ]
  },
  {
   "cell_type": "code",
   "execution_count": 4,
   "metadata": {},
   "outputs": [],
   "source": [
    "def diagonal(data):\n",
    "    n = len(data)\n",
    "    m = len(data[0])\n",
    "    count = 0\n",
    "    for i in range(n):\n",
    "        for j in range(m):\n",
    "            try:\n",
    "                word = data[i][j] + data[i+1][j+1] + data[i+2][j+2] + data[i+3][j+3]\n",
    "                if word == \"XMAS\" or word[::-1] == \"XMAS\":\n",
    "                    count += 1\n",
    "            except:\n",
    "                pass\n",
    "            try:\n",
    "                word = data[i][j] + data[i+1][j-1] + data[i+2][j-2] + data[i+3][j-3]\n",
    "                if word == \"XMAS\" or word[::-1] == \"XMAS\" and j-3 >= 0:\n",
    "                    count += 1\n",
    "            except:\n",
    "                pass\n",
    "    return count"
   ]
  },
  {
   "cell_type": "code",
   "execution_count": 5,
   "metadata": {},
   "outputs": [
    {
     "data": {
      "text/plain": [
       "2521"
      ]
     },
     "execution_count": 5,
     "metadata": {},
     "output_type": "execute_result"
    }
   ],
   "source": [
    "up_down(data) + left_right(data) + diagonal(data)"
   ]
  },
  {
   "cell_type": "code",
   "execution_count": null,
   "metadata": {},
   "outputs": [],
   "source": []
  }
 ],
 "metadata": {
  "kernelspec": {
   "display_name": "Python 3",
   "language": "python",
   "name": "python3"
  },
  "language_info": {
   "codemirror_mode": {
    "name": "ipython",
    "version": 3
   },
   "file_extension": ".py",
   "mimetype": "text/x-python",
   "name": "python",
   "nbconvert_exporter": "python",
   "pygments_lexer": "ipython3",
   "version": "3.10.11"
  }
 },
 "nbformat": 4,
 "nbformat_minor": 2
}
