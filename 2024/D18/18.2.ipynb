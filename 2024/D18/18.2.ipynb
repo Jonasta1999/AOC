{
 "cells": [
  {
   "cell_type": "code",
   "execution_count": null,
   "metadata": {},
   "outputs": [],
   "source": [
    "import numpy as np"
   ]
  },
  {
   "cell_type": "code",
   "execution_count": null,
   "metadata": {},
   "outputs": [],
   "source": [
    "with open(\"input18.txt\", \"r\") as file:\n",
    "    data = file.read().splitlines()\n",
    "    data = [tuple(map(int, item.split(\",\"))) for item in data]\n",
    "print(data)"
   ]
  },
  {
   "cell_type": "code",
   "execution_count": null,
   "metadata": {},
   "outputs": [],
   "source": [
    "n, m = 71, 71\n",
    "start = (0,0)\n",
    "end = (n-1, m-1)\n",
    "map_space = np.full((n, m), \".\")\n",
    "\n",
    "map_space[start] = \"S\"\n",
    "map_space[end] = \"E\""
   ]
  },
  {
   "cell_type": "code",
   "execution_count": null,
   "metadata": {},
   "outputs": [],
   "source": [
    "def get(node, maze):\n",
    "    res = []\n",
    "    direcs = [(-1, 0), (0, 1), (1, 0), (0, -1)]\n",
    "    n, m = maze.shape\n",
    "    for i in range(4):\n",
    "        if n > node[0]+direcs[i][0] >= 0 and m > node[1]+direcs[i][1] >= 0:\n",
    "            new_coord = (node[0]+direcs[i][0], node[1]+direcs[i][1])\n",
    "            if maze[new_coord] == \".\" or maze[new_coord] == \"E\":\n",
    "                res.append(new_coord)\n",
    "    return res"
   ]
  },
  {
   "cell_type": "code",
   "execution_count": null,
   "metadata": {},
   "outputs": [],
   "source": [
    "def bfs2(start, end, maze):\n",
    "    n, m = maze.shape\n",
    "    q = []\n",
    "    q.append([start])\n",
    "\n",
    "    visited = np.full((n, m), False)\n",
    "\n",
    "    while q:\n",
    "        current_path = q.pop(0)\n",
    "        node = current_path[-1]\n",
    "\n",
    "        if not visited[node]:\n",
    "                visited[node] = True     \n",
    "        else:\n",
    "            continue\n",
    "\n",
    "        neighbours = get(node, maze)\n",
    "        for next in neighbours:\n",
    "            if next not in current_path:\n",
    "                temp_path = current_path.copy()\n",
    "                temp_path.append(next)\n",
    "\n",
    "                if next == end:\n",
    "                    return temp_path\n",
    "                else:\n",
    "                    q.append(temp_path)\n",
    "    return False\n",
    "    "
   ]
  },
  {
   "cell_type": "code",
   "execution_count": null,
   "metadata": {},
   "outputs": [],
   "source": [
    "bytes = 0\n",
    "new_map = map_space.copy()\n",
    "\n",
    "while bfs2(start, end, new_map):\n",
    "    new_map[data[bytes][1], data[bytes][0]] = \"#\"\n",
    "    bytes += 1\n",
    "print(data[bytes-1])\n"
   ]
  }
 ],
 "metadata": {
  "kernelspec": {
   "display_name": "Python 3",
   "language": "python",
   "name": "python3"
  },
  "language_info": {
   "codemirror_mode": {
    "name": "ipython",
    "version": 3
   },
   "file_extension": ".py",
   "mimetype": "text/x-python",
   "name": "python",
   "nbconvert_exporter": "python",
   "pygments_lexer": "ipython3",
   "version": "3.10.11"
  }
 },
 "nbformat": 4,
 "nbformat_minor": 2
}
