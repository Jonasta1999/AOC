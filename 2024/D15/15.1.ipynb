{
 "cells": [
  {
   "cell_type": "code",
   "execution_count": 345,
   "metadata": {},
   "outputs": [],
   "source": [
    "import re\n",
    "import time\n",
    "import numpy as np\n",
    "from IPython.display import clear_output"
   ]
  },
  {
   "cell_type": "code",
   "execution_count": 346,
   "metadata": {},
   "outputs": [],
   "source": [
    "with open(\"input15.txt\", \"r\") as file:\n",
    "    data = file.read().splitlines()\n",
    "    split_index = data.index(\"\")\n",
    "    map = data[:split_index]\n",
    "    sequence = data[split_index+1:]\n",
    "    sequence = \"\".join(sequence)"
   ]
  },
  {
   "cell_type": "code",
   "execution_count": 347,
   "metadata": {},
   "outputs": [],
   "source": [
    "direc_dict = {\"^\": (-1, 0), \n",
    "                \"v\": (1, 0), \n",
    "                \"<\": (0, -1), \n",
    "                \">\": (0, 1)}"
   ]
  },
  {
   "cell_type": "code",
   "execution_count": 348,
   "metadata": {},
   "outputs": [
    {
     "name": "stdout",
     "output_type": "stream",
     "text": [
      "<vv>^<v^>v>^vv^v>v<>v^v<v<^vv<<<^><<><>>v<vvv<>^v^>^<<<><<v<<<v^vv^v>^vvv<<^>^v^^><<>>><>^<<><^vv^^<>vvv<>><^^v>^>vv<>v<<<<v<^v>^<^^>>>^<v<v><>vv>v^v^<>><>>>><^^>vv>v<^^^>>v^v^<^^>v^^>v^<^v>v<>>v^v^<v>v^^<^^vv<<<v<^>>^^^^>>>v^<>vvv^><v<<<>^^^vv^<vvv>^>v<^^^^v<>^>vvvv><>>v^<<^^^^^^><^><>>><>^^<<^^v>>><^<v>^<vv>>v>>>^v><>^v><<<<v>>v<v<v>vvv>^<><<>^><^>><>^v<><^vvv<^^<><v<<<<<><^v<<<><<<^^<v<^^^><^>>^<v^><<<^>>^v<v^v<v^>^>>^v>vv>^<<^v<>><<><<v<<v><>v<^vv<<<>^^v^>^^>>><<^v>>v^v><^^>>^<>vv^<><^^>^^^<><vvvvv^v<v<<>^v<v>v<<^><<><<><<<^^<<<^<<>><<><^^^>^^<>^>v<>^^>vv<^v^v<vv>^<><v<^v>^^^>>>^^vvv^>vvv<>>>^<^>>>>>^<<^v>^vvv<>^<><<v>v^^>>><<^^<>>^v^<v^vv<>v^<<>^<^v^v><^<<<><<^<v><v<>vv>>v><v^<vv<>v^<<^\n"
     ]
    },
    {
     "data": {
      "text/plain": [
       "['##########',\n",
       " '#..O..O.O#',\n",
       " '#......O.#',\n",
       " '#.OO..O.O#',\n",
       " '#..O@..O.#',\n",
       " '#O#..O...#',\n",
       " '#O..O..O.#',\n",
       " '#.OO.O.OO#',\n",
       " '#....O...#',\n",
       " '##########']"
      ]
     },
     "execution_count": 348,
     "metadata": {},
     "output_type": "execute_result"
    }
   ],
   "source": [
    "print(sequence)\n",
    "map"
   ]
  },
  {
   "cell_type": "code",
   "execution_count": 349,
   "metadata": {},
   "outputs": [],
   "source": [
    "direc_dict = {\"^\": (-1, 0), \n",
    "                \"v\": (1, 0), \n",
    "                \"<\": (0, -1), \n",
    "                \">\": (0, 1)}"
   ]
  },
  {
   "cell_type": "code",
   "execution_count": 350,
   "metadata": {},
   "outputs": [],
   "source": [
    "def move_robot(map, pos, prev_pos, direc):\n",
    "    count = 0\n",
    "    direc_dict = {\"^\": (-1, 0), \n",
    "                \"v\": (1, 0), \n",
    "                \"<\": (0, -1), \n",
    "                \">\": (0, 1)}\n",
    "    prev_x, prev_y = prev_pos\n",
    "    x, y = pos\n",
    "    if map[x][y] == \".\":\n",
    "        prev_pos_obj = map[prev_x][prev_y]\n",
    "        map[x] = map[x][:y] + prev_pos_obj+ map[x][y+1:]\n",
    "        map[prev_x] = map[prev_x][:prev_y] + \".\" + map[prev_x][prev_y+1:]\n",
    "        return map\n",
    "    elif map[x][y] == \"O\":\n",
    "        new_pos = (x + direc_dict[direc][0], y + direc_dict[direc][1])\n",
    "        map = move_robot(map, new_pos, pos, direc)\n",
    "        while map[x][y] == \".\":\n",
    "            map = move_robot(map, pos, prev_pos, direc)\n",
    "        return map\n",
    "    elif map[x][y] == \"#\":\n",
    "        return map"
   ]
  },
  {
   "cell_type": "code",
   "execution_count": 351,
   "metadata": {},
   "outputs": [
    {
     "data": {
      "text/plain": [
       "(1, 10)"
      ]
     },
     "execution_count": 351,
     "metadata": {},
     "output_type": "execute_result"
    }
   ],
   "source": [
    "np.asmatrix(map).shape"
   ]
  },
  {
   "cell_type": "code",
   "execution_count": 352,
   "metadata": {},
   "outputs": [],
   "source": [
    "for seq in list(sequence):\n",
    "    direc = direc_dict[seq]\n",
    "    #clear_output(wait=True)\n",
    "    #time.sleep(0.5)\n",
    "    #for line in map:\n",
    "    #    print(line)\n",
    "    for i in range(len(map)):\n",
    "        try:\n",
    "            y_temp = re.search(\"@\", map[i]).start()\n",
    "            current_coord = (i, y_temp)\n",
    "            new_coord = (i + direc_dict[seq][0], y_temp + direc_dict[seq][1])\n",
    "            map = move_robot(map, new_coord, current_coord, seq)\n",
    "            break\n",
    "        except:\n",
    "            continue"
   ]
  },
  {
   "cell_type": "code",
   "execution_count": 353,
   "metadata": {},
   "outputs": [],
   "source": [
    "sum = 0\n",
    "for i in range(len(map)):\n",
    "    for j in range(len(map[i])):\n",
    "        if map[i][j] == \"O\":\n",
    "            sum += 100*i + j"
   ]
  },
  {
   "cell_type": "code",
   "execution_count": 354,
   "metadata": {},
   "outputs": [
    {
     "data": {
      "text/plain": [
       "10092"
      ]
     },
     "execution_count": 354,
     "metadata": {},
     "output_type": "execute_result"
    }
   ],
   "source": [
    "sum"
   ]
  }
 ],
 "metadata": {
  "kernelspec": {
   "display_name": "Python 3",
   "language": "python",
   "name": "python3"
  },
  "language_info": {
   "codemirror_mode": {
    "name": "ipython",
    "version": 3
   },
   "file_extension": ".py",
   "mimetype": "text/x-python",
   "name": "python",
   "nbconvert_exporter": "python",
   "pygments_lexer": "ipython3",
   "version": "3.10.4"
  }
 },
 "nbformat": 4,
 "nbformat_minor": 2
}
