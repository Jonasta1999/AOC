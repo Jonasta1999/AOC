{
 "cells": [
  {
   "cell_type": "code",
   "execution_count": 437,
   "metadata": {},
   "outputs": [],
   "source": [
    "import re\n",
    "import time\n",
    "import numpy as np\n",
    "from IPython.display import clear_output"
   ]
  },
  {
   "cell_type": "code",
   "execution_count": 438,
   "metadata": {},
   "outputs": [],
   "source": [
    "with open(\"input15.txt\", \"r\") as file:\n",
    "    data = file.read().splitlines()\n",
    "    split_index = data.index(\"\")\n",
    "    map = data[:split_index]\n",
    "    sequence = data[split_index+1:]\n",
    "    sequence = \"\".join(sequence)"
   ]
  },
  {
   "cell_type": "code",
   "execution_count": 439,
   "metadata": {},
   "outputs": [],
   "source": [
    "def widen_map(map):\n",
    "    new_map = []\n",
    "    for line in map:\n",
    "        line_temp = \"\"\n",
    "        for i in range(len(line)):\n",
    "            if line[i] in (\"#\", \".\"):\n",
    "                line_temp += line[i]*2\n",
    "            elif line[i] == \"O\":\n",
    "                line_temp += \"[\" + \"]\"\n",
    "            elif line[i] == \"@\":\n",
    "                line_temp += \"@\" + \".\"\n",
    "        new_map.append(line_temp)\n",
    "    return new_map"
   ]
  },
  {
   "cell_type": "code",
   "execution_count": 440,
   "metadata": {},
   "outputs": [
    {
     "data": {
      "text/plain": [
       "['####################',\n",
       " '##....[]....[]..[]##',\n",
       " '##............[]..##',\n",
       " '##..[][]....[]..[]##',\n",
       " '##..[]........[]..##',\n",
       " '##[]##@...[]......##',\n",
       " '##[]....[]....[]..##',\n",
       " '##..[][]..[]..[][]##',\n",
       " '##........[]......##',\n",
       " '####################']"
      ]
     },
     "execution_count": 440,
     "metadata": {},
     "output_type": "execute_result"
    }
   ],
   "source": [
    "map = widen_map(map)\n",
    "map"
   ]
  },
  {
   "cell_type": "code",
   "execution_count": 441,
   "metadata": {},
   "outputs": [],
   "source": [
    "direc_dict = {\"^\": (-1, 0), \n",
    "              \"v\": (1, 0), \n",
    "              \"<\": (0, -1), \n",
    "              \">\": (0, 1)}"
   ]
  },
  {
   "cell_type": "code",
   "execution_count": 442,
   "metadata": {},
   "outputs": [],
   "source": [
    "def move_robot(map, pos, prev_pos, direc, pos2 = None, prev_pos2 = None):\n",
    "    count = 0\n",
    "    direc_dict = {\"^\": (-1, 0), \n",
    "                \"v\": (1, 0), \n",
    "                \"<\": (0, -1), \n",
    "                \">\": (0, 1)}\n",
    "    obj_direc_dict = {\"[\": (0, 1),\n",
    "                      \"]\": (0, -1)}\n",
    "\n",
    "    prev_x, prev_y = prev_pos\n",
    "    x, y = pos\n",
    "    if pos2 == None:\n",
    "        if map[x][y] == \".\":\n",
    "            prev_pos_obj = map[prev_x][prev_y]\n",
    "            map[x] = map[x][:y] + prev_pos_obj+ map[x][y+1:]\n",
    "            map[prev_x] = map[prev_x][:prev_y] + \".\" + map[prev_x][prev_y+1:]\n",
    "            return map, True\n",
    "        elif map[x][y] in (\"[\", \"]\"):\n",
    "            pos2 = (x + obj_direc_dict[map[x][y]][0], y + obj_direc_dict[map[x][y]][1])\n",
    "            new_pos = (x + direc_dict[direc][0], y + direc_dict[direc][1])\n",
    "            new_pos2 = (pos2[0] + direc_dict[direc][0], pos2[1] + direc_dict[direc][1])\n",
    "            map, istrue = move_robot(map, new_pos, pos, direc, new_pos2, pos2)\n",
    "            while map[x][y] == \".\":\n",
    "                map, istrue = move_robot(map, pos, prev_pos, direc)\n",
    "            return map, True\n",
    "        elif map[x][y] == \"#\":\n",
    "            return map, False\n",
    "    else:\n",
    "        x2, y2 = pos2\n",
    "        if map[x][y] == \".\" and map[x2][y2] == \".\":\n",
    "            map[x] = map[x][:y] + \"[]\" + map[x][y+2:]\n",
    "            map[prev_x] = map[prev_x][:prev_y] + \"..\" + map[prev_x][prev_y+2:]\n",
    "            return map, True\n",
    "        elif map[x][y] in (\"[\", \"]\") or map[x2][y2] in (\"[\", \"]\"):\n",
    "\n",
    "            pos2 = (x + obj_direc_dict[map[x][y]][0], y + obj_direc_dict[map[x][y]][1])\n",
    "            new_pos = (x + direc_dict[direc][0], y + direc_dict[direc][1])\n",
    "            new_pos2 = (pos2[0] + direc_dict[direc][0], pos2[1] + direc_dict[direc][1])\n",
    "            map, istrue = move_robot(map, new_pos, pos, direc, new_pos2, pos2)\n",
    "            if not istrue:\n",
    "                return map, False\n",
    "            while map[x][y] == \".\" and map[x2][y2] == \".\":\n",
    "                map, istrue = move_robot(map, pos, prev_pos, direc)\n",
    "                map, istrue = move_robot(map, pos2, prev_pos2, direc)\n",
    "            return map, True\n",
    "        elif map[x][y] == \"#\":\n",
    "            return map, False"
   ]
  },
  {
   "cell_type": "code",
   "execution_count": 443,
   "metadata": {},
   "outputs": [
    {
     "data": {
      "text/plain": [
       "['####################',\n",
       " '##....[]....[]..[]##',\n",
       " '##............[]..##',\n",
       " '##..[][]....[]..[]##',\n",
       " '##..[]........[]..##',\n",
       " '##[]##@...[]......##',\n",
       " '##[]....[]....[]..##',\n",
       " '##..[][]..[]..[][]##',\n",
       " '##........[]......##',\n",
       " '####################']"
      ]
     },
     "execution_count": 443,
     "metadata": {},
     "output_type": "execute_result"
    }
   ],
   "source": [
    "map"
   ]
  },
  {
   "cell_type": "code",
   "execution_count": 444,
   "metadata": {},
   "outputs": [
    {
     "ename": "KeyboardInterrupt",
     "evalue": "",
     "output_type": "error",
     "traceback": [
      "\u001b[1;31m---------------------------------------------------------------------------\u001b[0m",
      "\u001b[1;31mKeyboardInterrupt\u001b[0m                         Traceback (most recent call last)",
      "Cell \u001b[1;32mIn[444], line 4\u001b[0m\n\u001b[0;32m      2\u001b[0m direc \u001b[38;5;241m=\u001b[39m direc_dict[seq]\n\u001b[0;32m      3\u001b[0m clear_output(wait\u001b[38;5;241m=\u001b[39m\u001b[38;5;28;01mTrue\u001b[39;00m)\n\u001b[1;32m----> 4\u001b[0m \u001b[43mtime\u001b[49m\u001b[38;5;241;43m.\u001b[39;49m\u001b[43msleep\u001b[49m\u001b[43m(\u001b[49m\u001b[38;5;241;43m0.5\u001b[39;49m\u001b[43m)\u001b[49m\n\u001b[0;32m      5\u001b[0m \u001b[38;5;28;01mfor\u001b[39;00m line \u001b[38;5;129;01min\u001b[39;00m \u001b[38;5;28mmap\u001b[39m:\n\u001b[0;32m      6\u001b[0m     \u001b[38;5;28mprint\u001b[39m(line)\n",
      "\u001b[1;31mKeyboardInterrupt\u001b[0m: "
     ]
    }
   ],
   "source": [
    "for seq in list(sequence):\n",
    "    direc = direc_dict[seq]\n",
    "    clear_output(wait=True)\n",
    "    time.sleep(0.5)\n",
    "    for line in map:\n",
    "        print(line)\n",
    "    for i in range(len(map)):\n",
    "        try:\n",
    "            y_temp = re.search(\"@\", map[i]).start()\n",
    "            current_coord = (i, y_temp)\n",
    "            new_coord = (i + direc_dict[seq][0], y_temp + direc_dict[seq][1])\n",
    "            map, test = move_robot(map, new_coord, current_coord, seq)\n",
    "            break\n",
    "        except:\n",
    "            continue"
   ]
  },
  {
   "cell_type": "code",
   "execution_count": 283,
   "metadata": {},
   "outputs": [],
   "source": [
    "sum = 0\n",
    "for i in range(len(map)):\n",
    "    for j in range(len(map[i])):\n",
    "        if map[i][j] == \"O\":\n",
    "            sum += 100*i + j"
   ]
  },
  {
   "cell_type": "code",
   "execution_count": 284,
   "metadata": {},
   "outputs": [
    {
     "data": {
      "text/plain": [
       "1487337"
      ]
     },
     "execution_count": 284,
     "metadata": {},
     "output_type": "execute_result"
    }
   ],
   "source": [
    "sum"
   ]
  }
 ],
 "metadata": {
  "kernelspec": {
   "display_name": "Python 3",
   "language": "python",
   "name": "python3"
  },
  "language_info": {
   "codemirror_mode": {
    "name": "ipython",
    "version": 3
   },
   "file_extension": ".py",
   "mimetype": "text/x-python",
   "name": "python",
   "nbconvert_exporter": "python",
   "pygments_lexer": "ipython3",
   "version": "3.10.4"
  }
 },
 "nbformat": 4,
 "nbformat_minor": 2
}
