{
 "cells": [
  {
   "cell_type": "code",
   "execution_count": null,
   "metadata": {},
   "outputs": [],
   "source": [
    "with open(\"input24.txt\", \"r\") as file:\n",
    "    data = file.read().split(\"\\n\\n\")\n",
    "    initial_states = data[0].splitlines()\n",
    "    initial_states = [item.split(\": \") for item in initial_states]\n",
    "    initial_states = [[item[0], int(item[1])] for item in initial_states]\n",
    "    initial_states = dict(initial_states)\n",
    "    operations = data[1].splitlines()\n",
    "    operations = [item.split(\" -> \") for item in operations]\n",
    "    operations = [[item[0].split(\" \"), item[1]] for item in operations]"
   ]
  },
  {
   "cell_type": "code",
   "execution_count": null,
   "metadata": {},
   "outputs": [],
   "source": [
    "def gate_type(num1, num2, type):\n",
    "    if type == \"AND\":\n",
    "        if num1 == 1 and num2 == 1:\n",
    "            return 1\n",
    "        else:\n",
    "            return 0\n",
    "    elif type == \"OR\":\n",
    "        if num1 == 1 or num2 == 1:\n",
    "            return 1\n",
    "        else:\n",
    "            return 0\n",
    "    elif type == \"XOR\":\n",
    "        if num1 != num2:\n",
    "            return 1\n",
    "        else:\n",
    "            return 0"
   ]
  },
  {
   "cell_type": "code",
   "execution_count": null,
   "metadata": {},
   "outputs": [],
   "source": [
    "while operations:\n",
    "    temp_operations = operations.copy()\n",
    "    for i, operation in enumerate(operations):\n",
    "        if operation[0][0] in initial_states and operation[0][2] in initial_states:\n",
    "            initial_states[operation[1]] = gate_type(initial_states[operation[0][0]], \n",
    "                                                     initial_states[operation[0][2]], \n",
    "                                                     operation[0][1])\n",
    "            temp_operations.remove(operation)\n",
    "    operations = temp_operations"
   ]
  },
  {
   "cell_type": "code",
   "execution_count": null,
   "metadata": {},
   "outputs": [],
   "source": [
    "myKeys = sorted(list(initial_states.keys()))\n",
    "initial_states = {i: initial_states[i] for i in myKeys if \"z\" in i}\n",
    "binary_num = \"\".join(list(map(str,list(initial_states.values())[::-1])))\n",
    "int(binary_num, 2)"
   ]
  }
 ],
 "metadata": {
  "kernelspec": {
   "display_name": "Python 3",
   "language": "python",
   "name": "python3"
  },
  "language_info": {
   "codemirror_mode": {
    "name": "ipython",
    "version": 3
   },
   "file_extension": ".py",
   "mimetype": "text/x-python",
   "name": "python",
   "nbconvert_exporter": "python",
   "pygments_lexer": "ipython3",
   "version": "3.10.11"
  }
 },
 "nbformat": 4,
 "nbformat_minor": 2
}
