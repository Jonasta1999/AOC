{
 "cells": [
  {
   "cell_type": "code",
   "execution_count": 553,
   "metadata": {},
   "outputs": [],
   "source": [
    "import re"
   ]
  },
  {
   "cell_type": "code",
   "execution_count": 554,
   "metadata": {},
   "outputs": [
    {
     "data": {
      "text/plain": [
       "[2, 4, 1, 3, 7, 5, 0, 3, 1, 4, 4, 7, 5, 5, 3, 0]"
      ]
     },
     "execution_count": 554,
     "metadata": {},
     "output_type": "execute_result"
    }
   ],
   "source": [
    "with open(\"input17.txt\", \"r\") as file:\n",
    "    data = file.read().splitlines()\n",
    "    reg_A = int(data[0].split(\"A:\")[1])\n",
    "    reg_B = int(data[1].split(\"B:\")[1])\n",
    "    reg_C = int(data[2].split(\"C:\")[1])\n",
    "    reg = [reg_A, reg_B, reg_C]\n",
    "    program = list(map(int, (data[4].split(\"Program:\")[1][1:].split(\",\"))))\n",
    "program"
   ]
  },
  {
   "cell_type": "code",
   "execution_count": 555,
   "metadata": {},
   "outputs": [],
   "source": [
    "def combo(operand, reg):\n",
    "    if 3 >= operand >= 0:\n",
    "        return operand\n",
    "    elif operand == 4:\n",
    "        return reg[0]\n",
    "    elif operand == 5:\n",
    "        return reg[1]\n",
    "    elif operand == 6:\n",
    "        return reg[2]\n",
    "    \n",
    "def adv(opcode, operand, reg):\n",
    "    if opcode == 0:\n",
    "        reg[0] = int(reg[0]/pow(2, combo(operand, reg)))\n",
    "    return reg\n",
    "\n",
    "def bxl(opcode, operand, reg):\n",
    "    if opcode == 1:\n",
    "        reg[1] = reg[1]^operand\n",
    "    return reg\n",
    "\n",
    "def bst(opcode, operand, reg):\n",
    "    if opcode == 2:\n",
    "        reg[1] = combo(operand, reg)%8\n",
    "    return reg\n",
    "\n",
    "def jnz(opcode, operand, reg, i):\n",
    "    if opcode == 3:\n",
    "        if reg[0] == 0:\n",
    "            return i + 2\n",
    "        else:\n",
    "            return operand\n",
    "    return i + 2\n",
    "\n",
    "def bxc(opcode, operand, reg):\n",
    "    if opcode == 4:\n",
    "        reg[1] = reg[1]^reg[2]\n",
    "    return reg\n",
    "\n",
    "def out(opcode, operand, output, reg):\n",
    "    if opcode == 5:\n",
    "        output += str(combo(operand, reg)%8) + \",\"\n",
    "    return output\n",
    "\n",
    "def bdv(opcode, operand, reg):\n",
    "    if opcode == 6:\n",
    "        reg[1] = int(reg[0]/pow(2, combo(operand, reg)))\n",
    "    return reg\n",
    "\n",
    "def cdv(opcode, operand, reg):\n",
    "    if opcode == 7:\n",
    "        reg[2] = int(reg[0]/pow(2, combo(operand, reg)))\n",
    "    return reg"
   ]
  },
  {
   "cell_type": "code",
   "execution_count": 556,
   "metadata": {},
   "outputs": [],
   "source": [
    "def run_program(program = program, reg = reg):\n",
    "    n = len(program)\n",
    "    output = \"\"\n",
    "    i = 0\n",
    "    while i < n:\n",
    "        opcode = program[i]\n",
    "        operand = program[i+1]\n",
    "        reg = adv(opcode, operand, reg)\n",
    "        reg = bxl(opcode, operand, reg)\n",
    "        reg = bst(opcode, operand, reg)\n",
    "        i = jnz(opcode, operand, reg, i)\n",
    "        reg = bxc(opcode, operand, reg)\n",
    "        output = out(opcode, operand, output, reg)\n",
    "        reg = bdv(opcode, operand, reg)\n",
    "        reg = cdv(opcode, operand, reg)\n",
    "\n",
    "    return output[:-1]\n"
   ]
  },
  {
   "cell_type": "code",
   "execution_count": 557,
   "metadata": {},
   "outputs": [
    {
     "data": {
      "text/plain": [
       "'2,1,4,7,6,0,3,1,4'"
      ]
     },
     "execution_count": 557,
     "metadata": {},
     "output_type": "execute_result"
    }
   ],
   "source": [
    "run_program()"
   ]
  }
 ],
 "metadata": {
  "kernelspec": {
   "display_name": "Python 3",
   "language": "python",
   "name": "python3"
  },
  "language_info": {
   "codemirror_mode": {
    "name": "ipython",
    "version": 3
   },
   "file_extension": ".py",
   "mimetype": "text/x-python",
   "name": "python",
   "nbconvert_exporter": "python",
   "pygments_lexer": "ipython3",
   "version": "3.10.11"
  }
 },
 "nbformat": 4,
 "nbformat_minor": 2
}
