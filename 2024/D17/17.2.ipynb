{
 "cells": [
  {
   "cell_type": "code",
   "execution_count": 356,
   "metadata": {},
   "outputs": [],
   "source": [
    "import re\n",
    "import copy"
   ]
  },
  {
   "cell_type": "code",
   "execution_count": 357,
   "metadata": {},
   "outputs": [
    {
     "data": {
      "text/plain": [
       "[2, 4, 1, 3, 7, 5, 0, 3, 1, 4, 4, 7, 5, 5, 3, 0]"
      ]
     },
     "execution_count": 357,
     "metadata": {},
     "output_type": "execute_result"
    }
   ],
   "source": [
    "with open(\"input17.txt\", \"r\") as file:\n",
    "    data = file.read().splitlines()\n",
    "    reg_A = int(data[0].split(\"A:\")[1])\n",
    "    reg_B = int(data[1].split(\"B:\")[1])\n",
    "    reg_C = int(data[2].split(\"C:\")[1])\n",
    "    reg = [reg_A, reg_B, reg_C]\n",
    "    program = list(map(int, (data[4].split(\"Program:\")[1][1:].split(\",\"))))\n",
    "program"
   ]
  },
  {
   "cell_type": "code",
   "execution_count": 358,
   "metadata": {},
   "outputs": [],
   "source": [
    "def combo(operand, register):\n",
    "    if 3 >= operand >= 0:\n",
    "        return operand\n",
    "    elif operand == 4:\n",
    "        return register[0]\n",
    "    elif operand == 5:\n",
    "        return register[1]\n",
    "    elif operand == 6:\n",
    "        return register[2]\n",
    "    \n",
    "def adv(opcode, operand, register):\n",
    "    if opcode == 0:\n",
    "        register[0] = int(register[0]/pow(2, combo(operand, register)))\n",
    "    return register\n",
    "\n",
    "def bxl(opcode, operand, register):\n",
    "    if opcode == 1:\n",
    "        register[1] = register[1]^operand\n",
    "    return register\n",
    "\n",
    "def bst(opcode, operand, register):\n",
    "    if opcode == 2:\n",
    "        register[1] = combo(operand, register)%8\n",
    "    return register\n",
    "\n",
    "def jnz(opcode, operand, register, i):\n",
    "    if opcode == 3:\n",
    "        if register[0] == 0:\n",
    "            return i + 2\n",
    "        else:\n",
    "            return operand\n",
    "    return i + 2\n",
    "\n",
    "def bxc(opcode, operand, register):\n",
    "    if opcode == 4:\n",
    "        register[1] = register[1]^register[2]\n",
    "    return register\n",
    "\n",
    "def out(opcode, operand, output, register):\n",
    "    if opcode == 5:\n",
    "        output += str(combo(operand, register)%8) + \",\"\n",
    "    return output\n",
    "\n",
    "def bdv(opcode, operand, register):\n",
    "    if opcode == 6:\n",
    "        register[1] = int(register[0]/pow(2, combo(operand, register)))\n",
    "    return register\n",
    "\n",
    "def cdv(opcode, operand, register):\n",
    "    if opcode == 7:\n",
    "        register[2] = int(register[0]/pow(2, combo(operand, register)))\n",
    "    return register"
   ]
  },
  {
   "cell_type": "code",
   "execution_count": 359,
   "metadata": {},
   "outputs": [],
   "source": [
    "def run_program(prog, register):\n",
    "    \n",
    "    n = len(prog)\n",
    "    output = \"\"\n",
    "    i = 0\n",
    "    while i < n:\n",
    "        opcode = prog[i]\n",
    "        operand = prog[i+1]\n",
    "        register = adv(opcode, operand, register)\n",
    "        register = bxl(opcode, operand, register)\n",
    "        register = bst(opcode, operand, register)\n",
    "        i = jnz(opcode, operand, register, i)\n",
    "        register = bxc(opcode, operand, register)\n",
    "        output = out(opcode, operand, output, register)\n",
    "        register = bdv(opcode, operand, register)\n",
    "        register = cdv(opcode, operand, register)\n",
    "\n",
    "    return list(map(int, output[:-1].split(\",\")))\n"
   ]
  },
  {
   "cell_type": "code",
   "execution_count": 422,
   "metadata": {},
   "outputs": [
    {
     "data": {
      "text/plain": [
       "[7, 7, 7, 3, 4, 2, 1, 7, 5, 4, 4, 0, 2, 0, 1, 4]"
      ]
     },
     "execution_count": 422,
     "metadata": {},
     "output_type": "execute_result"
    }
   ],
   "source": [
    "reg2 = reg.copy()\n",
    "reg2[0] = 100000000000000\n",
    "run_program(prog = program, register = reg2)"
   ]
  },
  {
   "cell_type": "code",
   "execution_count": null,
   "metadata": {},
   "outputs": [],
   "source": [
    "2,4,1,3,7,5,0,3,1,4,4,7,5,5,3,0"
   ]
  },
  {
   "cell_type": "code",
   "execution_count": 337,
   "metadata": {},
   "outputs": [
    {
     "name": "stdout",
     "output_type": "stream",
     "text": [
      "35184300000000\n",
      "[7, 3, 3, 6, 7, 2, 1, 5, 7, 7, 7, 7, 7, 3, 0]\n",
      "35184300100000\n",
      "[3, 1, 0, 6, 4, 7, 1, 5, 7, 7, 7, 7, 7, 3, 0]\n",
      "35184300200000\n",
      "[7, 6, 6, 6, 2, 2, 1, 5, 7, 7, 7, 7, 7, 3, 0]\n",
      "35184300300000\n",
      "[3, 6, 7, 7, 4, 2, 6, 5, 7, 7, 7, 7, 7, 3, 0]\n",
      "35184300400000\n",
      "[7, 1, 2, 1, 6, 5, 6, 5, 7, 7, 7, 7, 7, 3, 0]\n",
      "35184300500000\n",
      "[3, 2, 5, 4, 0, 7, 6, 5, 7, 7, 7, 7, 7, 3, 0]\n",
      "35184300600000\n",
      "[7, 4, 7, 0, 4, 0, 6, 5, 7, 7, 7, 7, 7, 3, 0]\n",
      "35184300700000\n",
      "[3, 7, 1, 4, 7, 7, 6, 5, 7, 7, 7, 7, 7, 3, 0]\n",
      "35184300800000\n",
      "[7, 7, 3, 3, 7, 7, 1, 7, 7, 7, 7, 7, 7, 3, 0]\n",
      "35184300900000\n",
      "[3, 4, 0, 5, 7, 7, 1, 7, 7, 7, 7, 7, 7, 3, 0]\n",
      "35184301000000\n",
      "[7, 2, 6, 4, 3, 5, 1, 7, 7, 7, 7, 7, 7, 3, 0]\n",
      "35184301100000\n",
      "[3, 1, 2, 3, 3, 4, 2, 7, 7, 7, 7, 7, 7, 3, 0]\n",
      "35184301200000\n",
      "[7, 5, 0, 4, 3, 4, 2, 7, 7, 7, 7, 7, 7, 3, 0]\n",
      "35184301300000\n",
      "[3, 5, 5, 4, 3, 0, 2, 7, 7, 7, 7, 7, 7, 3, 0]\n",
      "35184301400000\n",
      "[7, 0, 7, 2, 0, 4, 4, 7, 7, 7, 7, 7, 7, 3, 0]\n",
      "35184301500000\n",
      "[3, 2, 0, 7, 4, 4, 4, 7, 7, 7, 7, 7, 7, 3, 0]\n",
      "35184301600000\n",
      "[7, 3, 0, 0, 7, 4, 7, 7, 7, 7, 7, 7, 7, 3, 0]\n",
      "35184301700000\n",
      "[3, 7, 7, 0, 5, 7, 7, 7, 7, 7, 7, 7, 7, 3, 0]\n",
      "35184301800000\n",
      "[7, 6, 4, 4, 7, 5, 7, 7, 7, 7, 7, 7, 7, 3, 0]\n",
      "35184301900000\n",
      "[3, 3, 7, 7, 5, 4, 6, 7, 7, 7, 7, 7, 7, 3, 0]\n",
      "35184302000000\n",
      "[7, 1, 1, 7, 2, 4, 6, 7, 7, 7, 7, 7, 7, 3, 0]\n",
      "35184302100000\n",
      "[3, 0, 0, 0, 7, 2, 1, 7, 7, 7, 7, 7, 7, 3, 0]\n",
      "35184302200000\n",
      "[7, 4, 7, 0, 0, 7, 1, 7, 7, 7, 7, 7, 7, 3, 0]\n",
      "35184302300000\n",
      "[3, 5, 3, 4, 2, 4, 1, 7, 7, 7, 7, 7, 7, 3, 0]\n",
      "35184302400000\n",
      "[7, 7, 6, 2, 0, 2, 6, 7, 7, 7, 7, 7, 7, 3, 0]\n",
      "35184302500000\n",
      "[3, 1, 4, 1, 4, 4, 6, 7, 7, 7, 7, 7, 7, 3, 0]\n",
      "35184302600000\n",
      "[7, 2, 0, 5, 0, 3, 6, 7, 7, 7, 7, 7, 7, 3, 0]\n",
      "35184302700000\n",
      "[3, 6, 5, 0, 7, 0, 7, 7, 7, 7, 7, 7, 7, 3, 0]\n",
      "35184302800000\n",
      "[7, 5, 4, 3, 7, 4, 7, 7, 7, 7, 7, 7, 7, 3, 0]\n",
      "35184302900000\n",
      "[3, 3, 1, 6, 7, 7, 0, 5, 7, 7, 7, 7, 7, 3, 0]\n",
      "35184303000000\n",
      "[7, 0, 2, 2, 7, 7, 0, 5, 7, 7, 7, 7, 7, 3, 0]\n",
      "35184303100000\n",
      "[3, 7, 6, 2, 2, 7, 0, 5, 7, 7, 7, 7, 7, 3, 0]\n",
      "35184303200000\n",
      "[7, 3, 5, 7, 3, 4, 0, 5, 7, 7, 7, 7, 7, 3, 0]\n",
      "35184303300000\n",
      "[3, 4, 2, 0, 3, 4, 0, 5, 7, 7, 7, 7, 7, 3, 0]\n",
      "35184303400000\n",
      "[7, 6, 2, 4, 2, 4, 0, 5, 7, 7, 7, 7, 7, 3, 0]\n",
      "35184303500000\n",
      "[3, 1, 7, 0, 5, 4, 0, 5, 7, 7, 7, 7, 7, 3, 0]\n",
      "35184303600000\n",
      "[7, 1, 7, 0, 2, 5, 0, 5, 7, 7, 7, 7, 7, 3, 0]\n",
      "35184303700000\n",
      "[3, 5, 3, 7, 4, 4, 7, 5, 7, 7, 7, 7, 7, 3, 0]\n",
      "35184303800000\n",
      "[7, 4, 7, 7, 5, 7, 7, 5, 7, 7, 7, 7, 7, 3, 0]\n",
      "35184303900000\n",
      "[3, 2, 2, 4, 0, 5, 7, 5, 7, 7, 7, 7, 7, 3, 0]\n",
      "35184304000000\n",
      "[7, 7, 1, 5, 5, 4, 6, 5, 7, 7, 7, 7, 7, 3, 0]\n",
      "35184304100000\n",
      "[3, 7, 0, 4, 4, 5, 6, 5, 7, 7, 7, 7, 7, 3, 0]\n",
      "35184304200000\n",
      "[7, 2, 3, 7, 6, 2, 1, 5, 7, 7, 7, 7, 7, 3, 0]\n",
      "35184304300000\n",
      "[3, 4, 7, 4, 0, 7, 1, 5, 7, 7, 7, 7, 7, 3, 0]\n",
      "35184304400000\n",
      "[7, 5, 0, 7, 4, 6, 1, 5, 7, 7, 7, 7, 7, 3, 0]\n",
      "35184304500000\n",
      "[3, 0, 6, 3, 0, 2, 6, 5, 7, 7, 7, 7, 7, 3, 0]\n",
      "35184304600000\n",
      "[7, 0, 4, 0, 7, 4, 6, 5, 7, 7, 7, 7, 7, 3, 0]\n",
      "35184304700000\n",
      "[3, 5, 4, 5, 7, 7, 6, 5, 7, 7, 7, 7, 7, 3, 0]\n",
      "35184304800000\n",
      "[7, 3, 1, 3, 4, 0, 7, 5, 7, 7, 7, 7, 7, 3, 0]\n",
      "35184304900000\n",
      "[3, 2, 1, 7, 4, 5, 7, 5, 7, 7, 7, 7, 7, 3, 0]\n",
      "35184305000000\n",
      "[7, 6, 0, 2, 3, 7, 7, 3, 4, 7, 7, 7, 7, 3, 0]\n",
      "35184305100000\n",
      "[3, 6, 7, 0, 2, 7, 7, 3, 4, 7, 7, 7, 7, 3, 0]\n",
      "35184305200000\n",
      "[7, 1, 2, 4, 2, 1, 7, 3, 4, 7, 7, 7, 7, 3, 0]\n",
      "35184305300000\n",
      "[3, 3, 6, 2, 3, 4, 6, 3, 4, 7, 7, 7, 7, 3, 0]\n",
      "35184305400000\n",
      "[7, 4, 7, 5, 2, 3, 6, 3, 4, 7, 7, 7, 7, 3, 0]\n",
      "35184305500000\n",
      "[3, 0, 4, 7, 2, 0, 6, 3, 4, 7, 7, 7, 7, 3, 0]\n",
      "35184305600000\n",
      "[7, 7, 4, 7, 1, 4, 4, 3, 4, 7, 7, 7, 7, 3, 0]\n",
      "35184305700000\n",
      "[3, 4, 4, 2, 2, 2, 4, 3, 4, 7, 7, 7, 7, 3, 0]\n",
      "35184305800000\n",
      "[7, 2, 2, 6, 6, 0, 7, 3, 4, 7, 7, 7, 7, 3, 0]\n",
      "35184305900000\n",
      "[3, 1, 2, 5, 3, 3, 7, 3, 4, 7, 7, 7, 7, 3, 0]\n",
      "35184306000000\n",
      "[7, 5, 4, 6, 0, 1, 7, 3, 4, 7, 7, 7, 7, 3, 0]\n",
      "35184306100000\n",
      "[3, 6, 3, 7, 2, 4, 5, 3, 4, 7, 7, 7, 7, 3, 0]\n",
      "35184306200000\n",
      "[7, 0, 7, 3, 4, 2, 5, 3, 4, 7, 7, 7, 7, 3, 0]\n",
      "35184306300000\n",
      "[3, 2, 2, 4, 4, 2, 6, 3, 4, 7, 7, 7, 7, 3, 0]\n",
      "35184306400000\n",
      "[7, 3, 6, 1, 0, 7, 6, 3, 4, 7, 7, 7, 7, 3, 0]\n",
      "35184306500000\n",
      "[3, 7, 7, 4, 7, 0, 6, 3, 4, 7, 7, 7, 7, 3, 0]\n",
      "35184306600000\n",
      "[7, 6, 6, 3, 7, 2, 1, 3, 4, 7, 7, 7, 7, 3, 0]\n",
      "35184306700000\n",
      "[3, 4, 7, 1, 7, 3, 1, 3, 4, 7, 7, 7, 7, 3, 0]\n",
      "35184306800000\n",
      "[7, 1, 1, 4, 0, 3, 1, 3, 4, 7, 7, 7, 7, 3, 0]\n",
      "35184306900000\n",
      "[3, 0, 1, 4, 0, 0, 0, 3, 4, 7, 7, 7, 7, 3, 0]\n",
      "35184307000000\n",
      "[7, 4, 7, 4, 5, 2, 0, 3, 4, 7, 7, 7, 7, 3, 0]\n",
      "35184307100000\n",
      "[3, 5, 7, 3, 2, 7, 6, 6, 4, 7, 7, 7, 7, 3, 0]\n",
      "35184307200000\n",
      "[7, 7, 7, 1, 1, 7, 6, 6, 4, 7, 7, 7, 7, 3, 0]\n",
      "35184307300000\n",
      "[3, 2, 0, 7, 0, 3, 6, 6, 4, 7, 7, 7, 7, 3, 0]\n",
      "35184307400000\n",
      "[7, 2, 4, 2, 3, 4, 4, 6, 4, 7, 7, 7, 7, 3, 0]\n",
      "35184307500000\n",
      "[3, 7, 4, 0, 6, 3, 4, 6, 4, 7, 7, 7, 7, 3, 0]\n",
      "35184307600000\n",
      "[7, 5, 0, 5, 7, 4, 4, 6, 4, 7, 7, 7, 7, 3, 0]\n",
      "35184307700000\n",
      "[3, 3, 7, 7, 4, 7, 0, 6, 4, 7, 7, 7, 7, 3, 0]\n",
      "35184307800000\n",
      "[7, 0, 1, 7, 1, 3, 0, 6, 4, 7, 7, 7, 7, 3, 0]\n"
     ]
    },
    {
     "ename": "KeyboardInterrupt",
     "evalue": "",
     "output_type": "error",
     "traceback": [
      "\u001b[1;31m---------------------------------------------------------------------------\u001b[0m",
      "\u001b[1;31mKeyboardInterrupt\u001b[0m                         Traceback (most recent call last)",
      "Cell \u001b[1;32mIn [337], line 8\u001b[0m\n\u001b[0;32m      6\u001b[0m     \u001b[38;5;28mprint\u001b[39m(i)\n\u001b[0;32m      7\u001b[0m     \u001b[38;5;28mprint\u001b[39m(run_program(prog \u001b[38;5;241m=\u001b[39m program, register \u001b[38;5;241m=\u001b[39m reg2))\n\u001b[1;32m----> 8\u001b[0m \u001b[38;5;28;01mif\u001b[39;00m \u001b[43mrun_program\u001b[49m\u001b[43m(\u001b[49m\u001b[43mprog\u001b[49m\u001b[43m \u001b[49m\u001b[38;5;241;43m=\u001b[39;49m\u001b[43m \u001b[49m\u001b[43mprogram\u001b[49m\u001b[43m,\u001b[49m\u001b[43m \u001b[49m\u001b[43mregister\u001b[49m\u001b[43m \u001b[49m\u001b[38;5;241;43m=\u001b[39;49m\u001b[43m \u001b[49m\u001b[43mreg2\u001b[49m\u001b[43m)\u001b[49m \u001b[38;5;241m==\u001b[39m program:\n\u001b[0;32m      9\u001b[0m     \u001b[38;5;28mprint\u001b[39m(\u001b[38;5;124m\"\u001b[39m\u001b[38;5;124mhej\u001b[39m\u001b[38;5;124m\"\u001b[39m)\n\u001b[0;32m     10\u001b[0m     \u001b[38;5;28;01mbreak\u001b[39;00m\n",
      "Cell \u001b[1;32mIn [297], line 16\u001b[0m, in \u001b[0;36mrun_program\u001b[1;34m(prog, register)\u001b[0m\n\u001b[0;32m     14\u001b[0m     output \u001b[38;5;241m=\u001b[39m out(opcode, operand, output, register)\n\u001b[0;32m     15\u001b[0m     register \u001b[38;5;241m=\u001b[39m bdv(opcode, operand, register)\n\u001b[1;32m---> 16\u001b[0m     register \u001b[38;5;241m=\u001b[39m \u001b[43mcdv\u001b[49m\u001b[43m(\u001b[49m\u001b[43mopcode\u001b[49m\u001b[43m,\u001b[49m\u001b[43m \u001b[49m\u001b[43moperand\u001b[49m\u001b[43m,\u001b[49m\u001b[43m \u001b[49m\u001b[43mregister\u001b[49m\u001b[43m)\u001b[49m\n\u001b[0;32m     18\u001b[0m \u001b[38;5;28;01mreturn\u001b[39;00m \u001b[38;5;28mlist\u001b[39m(\u001b[38;5;28mmap\u001b[39m(\u001b[38;5;28mint\u001b[39m, output[:\u001b[38;5;241m-\u001b[39m\u001b[38;5;241m1\u001b[39m]\u001b[38;5;241m.\u001b[39msplit(\u001b[38;5;124m\"\u001b[39m\u001b[38;5;124m,\u001b[39m\u001b[38;5;124m\"\u001b[39m)))\n",
      "\u001b[1;31mKeyboardInterrupt\u001b[0m: "
     ]
    }
   ],
   "source": [
    "#i = 35184300000000\n",
    "while i>=0:\n",
    "    reg2 = reg.copy()\n",
    "    reg2[0] = i\n",
    "    if i%100000==0:\n",
    "        print(i)\n",
    "        print(run_program(prog = program, register = reg2))\n",
    "    if run_program(prog = program, register = reg2) == program:\n",
    "        print(\"hej\")\n",
    "        break\n",
    "    i += 1\n"
   ]
  },
  {
   "cell_type": "code",
   "execution_count": 290,
   "metadata": {},
   "outputs": [
    {
     "data": {
      "text/plain": [
       "10582906"
      ]
     },
     "execution_count": 290,
     "metadata": {},
     "output_type": "execute_result"
    }
   ],
   "source": [
    "i"
   ]
  },
  {
   "cell_type": "code",
   "execution_count": 336,
   "metadata": {},
   "outputs": [
    {
     "data": {
      "text/plain": [
       "15"
      ]
     },
     "execution_count": 336,
     "metadata": {},
     "output_type": "execute_result"
    }
   ],
   "source": [
    "i = 35184300000000\n",
    "reg2 = reg.copy()\n",
    "reg2[0] = i\n",
    "len(run_program(prog = program, register = reg2))"
   ]
  }
 ],
 "metadata": {
  "kernelspec": {
   "display_name": "Python 3",
   "language": "python",
   "name": "python3"
  },
  "language_info": {
   "codemirror_mode": {
    "name": "ipython",
    "version": 3
   },
   "file_extension": ".py",
   "mimetype": "text/x-python",
   "name": "python",
   "nbconvert_exporter": "python",
   "pygments_lexer": "ipython3",
   "version": "3.10.11"
  }
 },
 "nbformat": 4,
 "nbformat_minor": 2
}
