{
 "cells": [
  {
   "cell_type": "code",
   "execution_count": null,
   "metadata": {},
   "outputs": [],
   "source": [
    "import re\n",
    "import copy"
   ]
  },
  {
   "cell_type": "code",
   "execution_count": null,
   "metadata": {},
   "outputs": [],
   "source": [
    "with open(\"input17.txt\", \"r\") as file:\n",
    "    data = file.read().splitlines()\n",
    "    reg_A = int(data[0].split(\"A:\")[1])\n",
    "    reg_B = int(data[1].split(\"B:\")[1])\n",
    "    reg_C = int(data[2].split(\"C:\")[1])\n",
    "    reg = [reg_A, reg_B, reg_C]\n",
    "    program = list(map(int, (data[4].split(\"Program:\")[1][1:].split(\",\"))))\n",
    "program"
   ]
  },
  {
   "cell_type": "code",
   "execution_count": null,
   "metadata": {},
   "outputs": [],
   "source": [
    "def combo(operand, register):\n",
    "    if 3 >= operand >= 0:\n",
    "        return operand\n",
    "    elif operand == 4:\n",
    "        return register[0]\n",
    "    elif operand == 5:\n",
    "        return register[1]\n",
    "    elif operand == 6:\n",
    "        return register[2]\n",
    "    \n",
    "def adv(opcode, operand, register):\n",
    "    if opcode == 0:\n",
    "        register[0] = int(register[0]/pow(2, combo(operand, register)))\n",
    "    return register\n",
    "\n",
    "def bxl(opcode, operand, register):\n",
    "    if opcode == 1:\n",
    "        register[1] = register[1]^operand\n",
    "    return register\n",
    "\n",
    "def bst(opcode, operand, register):\n",
    "    if opcode == 2:\n",
    "        register[1] = combo(operand, register)%8\n",
    "    return register\n",
    "\n",
    "def jnz(opcode, operand, register, i):\n",
    "    if opcode == 3:\n",
    "        if register[0] == 0:\n",
    "            return i + 2\n",
    "        else:\n",
    "            return operand\n",
    "    return i + 2\n",
    "\n",
    "def bxc(opcode, operand, register):\n",
    "    if opcode == 4:\n",
    "        register[1] = register[1]^register[2]\n",
    "    return register\n",
    "\n",
    "def out(opcode, operand, output, register):\n",
    "    if opcode == 5:\n",
    "        output += str(combo(operand, register)%8) + \",\"\n",
    "    return output\n",
    "\n",
    "def bdv(opcode, operand, register):\n",
    "    if opcode == 6:\n",
    "        register[1] = int(register[0]/pow(2, combo(operand, register)))\n",
    "    return register\n",
    "\n",
    "def cdv(opcode, operand, register):\n",
    "    if opcode == 7:\n",
    "        register[2] = int(register[0]/pow(2, combo(operand, register)))\n",
    "    return register"
   ]
  },
  {
   "cell_type": "code",
   "execution_count": null,
   "metadata": {},
   "outputs": [],
   "source": [
    "def run_program(prog, register):\n",
    "    \n",
    "    n = len(prog)\n",
    "    output = \"\"\n",
    "    i = 0\n",
    "    while i < n:\n",
    "        opcode = prog[i]\n",
    "        operand = prog[i+1]\n",
    "        register = adv(opcode, operand, register)\n",
    "        register = bxl(opcode, operand, register)\n",
    "        register = bst(opcode, operand, register)\n",
    "        i = jnz(opcode, operand, register, i)\n",
    "        register = bxc(opcode, operand, register)\n",
    "        output = out(opcode, operand, output, register)\n",
    "        register = bdv(opcode, operand, register)\n",
    "        register = cdv(opcode, operand, register)\n",
    "\n",
    "    return list(map(int, output[:-1].split(\",\")))\n"
   ]
  },
  {
   "cell_type": "code",
   "execution_count": null,
   "metadata": {},
   "outputs": [],
   "source": [
    "reg2 = reg.copy()\n",
    "reg2[0] = 100000000000000\n",
    "run_program(prog = program, register = reg2)"
   ]
  },
  {
   "cell_type": "code",
   "execution_count": null,
   "metadata": {},
   "outputs": [],
   "source": [
    "2,4,1,3,7,5,0,3,1,4,4,7,5,5,3,0"
   ]
  },
  {
   "cell_type": "code",
   "execution_count": null,
   "metadata": {},
   "outputs": [],
   "source": [
    "#i = 35184300000000\n",
    "while i>=0:\n",
    "    reg2 = reg.copy()\n",
    "    reg2[0] = i\n",
    "    if i%100000==0:\n",
    "        print(i)\n",
    "        print(run_program(prog = program, register = reg2))\n",
    "    if run_program(prog = program, register = reg2) == program:\n",
    "        print(\"hej\")\n",
    "        break\n",
    "    i += 1\n"
   ]
  },
  {
   "cell_type": "code",
   "execution_count": null,
   "metadata": {},
   "outputs": [],
   "source": [
    "i"
   ]
  },
  {
   "cell_type": "code",
   "execution_count": null,
   "metadata": {},
   "outputs": [],
   "source": [
    "i = 35184300000000\n",
    "reg2 = reg.copy()\n",
    "reg2[0] = i\n",
    "len(run_program(prog = program, register = reg2))"
   ]
  }
 ],
 "metadata": {
  "kernelspec": {
   "display_name": "Python 3",
   "language": "python",
   "name": "python3"
  },
  "language_info": {
   "codemirror_mode": {
    "name": "ipython",
    "version": 3
   },
   "file_extension": ".py",
   "mimetype": "text/x-python",
   "name": "python",
   "nbconvert_exporter": "python",
   "pygments_lexer": "ipython3",
   "version": "3.10.11"
  }
 },
 "nbformat": 4,
 "nbformat_minor": 2
}
