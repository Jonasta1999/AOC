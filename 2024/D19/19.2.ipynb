{
 "cells": [
  {
   "cell_type": "code",
   "execution_count": null,
   "metadata": {},
   "outputs": [],
   "source": [
    "import re"
   ]
  },
  {
   "cell_type": "code",
   "execution_count": null,
   "metadata": {},
   "outputs": [],
   "source": [
    "with open(\"input19.txt\", \"r\") as file:\n",
    "    data = file.read().splitlines()\n",
    "    towels = data[0].split(\", \")\n",
    "    patterns = data[2:]\n",
    "data"
   ]
  },
  {
   "cell_type": "code",
   "execution_count": null,
   "metadata": {},
   "outputs": [],
   "source": [
    "def flatten_nested_list(nested_list):\n",
    "    result = []\n",
    "    for element in nested_list:\n",
    "        if isinstance(element, list):\n",
    "            result.extend(flatten_nested_list(element))\n",
    "        else:\n",
    "            result.append(element)\n",
    "    return result"
   ]
  },
  {
   "cell_type": "code",
   "execution_count": null,
   "metadata": {},
   "outputs": [],
   "source": [
    "def check_completeness(tow_pos, pos, count):\n",
    "    if pos == len(tow_pos):\n",
    "        return 1\n",
    "    count = 0\n",
    "    for i in range(len(tow_pos[pos])):\n",
    "        new_pos = tow_pos[pos][i][1]\n",
    "        count += check_completeness(tow_pos, new_pos, count)\n",
    "    return count"
   ]
  },
  {
   "cell_type": "code",
   "execution_count": null,
   "metadata": {},
   "outputs": [],
   "source": [
    "count = 0\n",
    "iter = 0\n",
    "for pattern in patterns[0:]:\n",
    "    tow_pos = [[] for item in pattern]\n",
    "    for i in range(len(towels)):\n",
    "        try:\n",
    "            spans = [item.span() for item in list(re.finditer(towels[i], pattern))]\n",
    "            for j in range(len(spans)):\n",
    "                tow_pos[spans[j][0]].append(spans[j])\n",
    "        except:\n",
    "            pass\n",
    "    print(iter)\n",
    "    iter += 1\n",
    "    if not any([item[1]==len(tow_pos) for item in flatten_nested_list(tow_pos)]):\n",
    "        print(False)\n",
    "        continue\n",
    "    count += check_completeness(tow_pos, 0, 0)\n",
    "\n",
    "count"
   ]
  },
  {
   "cell_type": "code",
   "execution_count": null,
   "metadata": {},
   "outputs": [],
   "source": [
    "41, 130\n",
    "res = 184"
   ]
  },
  {
   "cell_type": "code",
   "execution_count": null,
   "metadata": {},
   "outputs": [],
   "source": [
    "tow_pos = [[] for item in patterns[0]]\n",
    "for i in range(len(towels)):\n",
    "    try:\n",
    "        spans = [item.span() for item in list(re.finditer(towels[i], patterns[0]))]\n",
    "        for j in range(len(spans)):\n",
    "            tow_pos[spans[j][0]].append(spans[j])\n",
    "    except:\n",
    "        pass\n",
    "check_completeness(tow_pos, 0, 0)"
   ]
  },
  {
   "cell_type": "code",
   "execution_count": null,
   "metadata": {},
   "outputs": [],
   "source": [
    "patterns"
   ]
  },
  {
   "cell_type": "code",
   "execution_count": null,
   "metadata": {},
   "outputs": [],
   "source": [
    "tow_pos"
   ]
  }
 ],
 "metadata": {
  "kernelspec": {
   "display_name": "Python 3",
   "language": "python",
   "name": "python3"
  },
  "language_info": {
   "codemirror_mode": {
    "name": "ipython",
    "version": 3
   },
   "file_extension": ".py",
   "mimetype": "text/x-python",
   "name": "python",
   "nbconvert_exporter": "python",
   "pygments_lexer": "ipython3",
   "version": "3.10.11"
  }
 },
 "nbformat": 4,
 "nbformat_minor": 2
}
