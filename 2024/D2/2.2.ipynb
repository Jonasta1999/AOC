{
 "cells": [
  {
   "cell_type": "code",
   "execution_count": null,
   "metadata": {},
   "outputs": [],
   "source": [
    "with open('input2.txt') as f:\n",
    "    data = f.read().splitlines()\n",
    "\n",
    "data = [item.split(\" \") for item in data]\n",
    "data = [list(map(int, item)) for item in data]"
   ]
  },
  {
   "cell_type": "code",
   "execution_count": null,
   "metadata": {},
   "outputs": [],
   "source": [
    "initial_unsafe = []\n",
    "res = len(data)\n",
    "for i in range(len(data)):\n",
    "    temp_diff = 0\n",
    "    for j in range(1, len(data[i])):\n",
    "        temp_diff_old = temp_diff\n",
    "        temp_diff = data[i][j-1] - data[i][j]\n",
    "        if not (3 >= abs(temp_diff) >= 1) :\n",
    "            initial_unsafe.append(data[i])\n",
    "            res -= 1\n",
    "            break\n",
    "        if j > 1 and (temp_diff > 0) != (temp_diff_old > 0):\n",
    "            initial_unsafe.append(data[i])\n",
    "            res -= 1\n",
    "            break"
   ]
  },
  {
   "cell_type": "code",
   "execution_count": null,
   "metadata": {},
   "outputs": [],
   "source": [
    "res_2 = 0\n",
    "for i in range(len(initial_unsafe)):\n",
    "    count_possible = 0\n",
    "    for k in range(len(initial_unsafe[i])):\n",
    "        temp_diff = 0\n",
    "        mutated_list = initial_unsafe[i][:k] + initial_unsafe[i][k+1:]\n",
    "        for j in range(1, len(mutated_list)):\n",
    "            temp_diff_old = temp_diff\n",
    "            temp_diff = mutated_list[j-1] - mutated_list[j]\n",
    "            if not (3 >= abs(temp_diff) >= 1) :\n",
    "                break\n",
    "            if j > 1 and (temp_diff > 0) != (temp_diff_old > 0):\n",
    "                break\n",
    "            if j == len(mutated_list)-1:\n",
    "                count_possible += 1\n",
    "    if count_possible > 0:\n",
    "        res_2 += 1"
   ]
  },
  {
   "cell_type": "code",
   "execution_count": null,
   "metadata": {},
   "outputs": [],
   "source": [
    "res + res_2"
   ]
  }
 ],
 "metadata": {
  "kernelspec": {
   "display_name": "Python 3",
   "language": "python",
   "name": "python3"
  },
  "language_info": {
   "codemirror_mode": {
    "name": "ipython",
    "version": 3
   },
   "file_extension": ".py",
   "mimetype": "text/x-python",
   "name": "python",
   "nbconvert_exporter": "python",
   "pygments_lexer": "ipython3",
   "version": "3.10.11"
  }
 },
 "nbformat": 4,
 "nbformat_minor": 2
}
