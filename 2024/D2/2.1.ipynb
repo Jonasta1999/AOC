{
 "cells": [
  {
   "cell_type": "code",
   "execution_count": 78,
   "metadata": {},
   "outputs": [],
   "source": [
    "with open('input2.txt') as f:\n",
    "    data = f.read().splitlines()\n",
    "\n",
    "data = [item.split(\" \") for item in data]\n",
    "data = [list(map(int, item)) for item in data]"
   ]
  },
  {
   "cell_type": "code",
   "execution_count": 80,
   "metadata": {},
   "outputs": [
    {
     "data": {
      "text/plain": [
       "505"
      ]
     },
     "execution_count": 80,
     "metadata": {},
     "output_type": "execute_result"
    }
   ],
   "source": [
    "res = len(data)\n",
    "for i in range(len(data)):\n",
    "    temp_diff = 0\n",
    "    for j in range(1, len(data[i])):\n",
    "        temp_diff_old = temp_diff\n",
    "        temp_diff = data[i][j-1] - data[i][j]\n",
    "        if not (3 >= abs(temp_diff) >= 1) :\n",
    "            res -= 1\n",
    "            break\n",
    "        if j > 1 and (temp_diff > 0) != (temp_diff_old > 0):\n",
    "            res -= 1\n",
    "            break\n",
    "res"
   ]
  }
 ],
 "metadata": {
  "kernelspec": {
   "display_name": "Python 3",
   "language": "python",
   "name": "python3"
  },
  "language_info": {
   "codemirror_mode": {
    "name": "ipython",
    "version": 3
   },
   "file_extension": ".py",
   "mimetype": "text/x-python",
   "name": "python",
   "nbconvert_exporter": "python",
   "pygments_lexer": "ipython3",
   "version": "3.10.11"
  },
  "orig_nbformat": 4
 },
 "nbformat": 4,
 "nbformat_minor": 2
}
