{
 "cells": [
  {
   "cell_type": "code",
   "execution_count": null,
   "metadata": {},
   "outputs": [],
   "source": [
    "import numpy as np"
   ]
  },
  {
   "cell_type": "code",
   "execution_count": null,
   "metadata": {},
   "outputs": [],
   "source": [
    "with open(\"input20.txt\", \"r\") as file:\n",
    "    data = file.read().splitlines()\n",
    "    data = [list(item) for item in data]\n",
    "    data = np.asmatrix(data)\n",
    "print(data)"
   ]
  },
  {
   "cell_type": "code",
   "execution_count": null,
   "metadata": {},
   "outputs": [],
   "source": [
    "def get(node, maze):\n",
    "    res = []\n",
    "    direcs = [(-1, 0), (0, 1), (1, 0), (0, -1)]\n",
    "    for i in range(4):\n",
    "        new_coord = (node[0]+direcs[i][0], node[1]+direcs[i][1])\n",
    "        if maze[new_coord] == \".\" or maze[new_coord] == \"E\":\n",
    "            res.append(new_coord)\n",
    "    return res"
   ]
  },
  {
   "cell_type": "code",
   "execution_count": null,
   "metadata": {},
   "outputs": [],
   "source": [
    "def find_start_end(maze):\n",
    "    n, m = maze.shape\n",
    "\n",
    "    for i in range(n):\n",
    "        for j in range(m):\n",
    "            if maze[i, j] == \"S\":\n",
    "                start = (i, j)\n",
    "            elif maze[i, j] == \"E\":\n",
    "                end = (i, j)\n",
    "    return start, end"
   ]
  },
  {
   "cell_type": "code",
   "execution_count": null,
   "metadata": {},
   "outputs": [],
   "source": [
    "def bfs(start, end, maze):\n",
    "    q = []\n",
    "    q.append([start])\n",
    "\n",
    "    while q:\n",
    "        current_path = q.pop(0)\n",
    "        node = current_path[-1]\n",
    "\n",
    "        neighbours = get(node, maze)\n",
    "        for next in neighbours:\n",
    "            if next not in current_path:\n",
    "                temp_path = current_path.copy()\n",
    "                temp_path.append(next)\n",
    "\n",
    "                if next == end:\n",
    "                    return temp_path\n",
    "                else:\n",
    "                    q.append(temp_path)\n",
    "    return []\n",
    "    "
   ]
  },
  {
   "cell_type": "code",
   "execution_count": null,
   "metadata": {},
   "outputs": [],
   "source": [
    "start, end = find_start_end(data)\n",
    "path = bfs(start, end, data)"
   ]
  },
  {
   "cell_type": "code",
   "execution_count": null,
   "metadata": {},
   "outputs": [],
   "source": [
    "path.index((84,77))"
   ]
  },
  {
   "cell_type": "code",
   "execution_count": null,
   "metadata": {},
   "outputs": [],
   "source": [
    "def cheat(path, maze, full_path, start = start, end = end):\n",
    "    n, m = maze.shape\n",
    "    current_coord = path[-1]\n",
    "    direcs = [(-1, 0), (0, 1), (1, 0), (0, -1)]\n",
    "    paths = []\n",
    "\n",
    "    for direc in direcs:\n",
    "        if (n > current_coord[0] + direc[0]*2 >= 1 and \n",
    "            m > current_coord[1] + direc[1]*2 >= 1 and\n",
    "            maze[current_coord[0] + direc[0], current_coord[1] + direc[1]] == \"#\"):\n",
    "            new_coord1 = (current_coord[0] + direc[0],\n",
    "                         current_coord[1] + direc[1])\n",
    "            new_coord2 = (current_coord[0] + direc[0]*2,\n",
    "                         current_coord[1] + direc[1]*2)\n",
    "            if ((maze[new_coord2] == \".\" or maze[new_coord2] == \"E\") and \n",
    "                new_coord2 not in path):\n",
    "                \n",
    "                rejoin_path_coord = full_path.index(new_coord2)\n",
    "                new_path = path + [new_coord1] + full_path[rejoin_path_coord:]\n",
    "                paths.append(new_path)\n",
    "    return paths"
   ]
  },
  {
   "cell_type": "code",
   "execution_count": null,
   "metadata": {},
   "outputs": [],
   "source": [
    "start, end = find_start_end(data)\n",
    "path = bfs(start, end, data)\n",
    "count = 0\n",
    "for i in range(len(path)):\n",
    "    cheat_paths = cheat(path[:i+1], data, path, start, end)\n",
    "    for cheat_path in cheat_paths:\n",
    "        if len(path) - len(cheat_path) >= 100:\n",
    "            count += 1\n",
    "count"
   ]
  },
  {
   "cell_type": "code",
   "execution_count": null,
   "metadata": {},
   "outputs": [],
   "source": [
    "len(cheat_path)"
   ]
  },
  {
   "cell_type": "code",
   "execution_count": null,
   "metadata": {},
   "outputs": [],
   "source": [
    "new_map = data.copy()\n",
    "for i in test_path:\n",
    "    new_map[i] = \"O\"\n",
    "n, m = data.shape\n",
    "res = \"\"\n",
    "for i in range(n):\n",
    "    for j in range(m):\n",
    "        res += new_map[i,j]\n",
    "    res += \"\\n\"\n",
    "\n",
    "with open(f\"file.txt\", \"w\") as f:\n",
    "    f.write(res)"
   ]
  }
 ],
 "metadata": {
  "kernelspec": {
   "display_name": "Python 3",
   "language": "python",
   "name": "python3"
  },
  "language_info": {
   "codemirror_mode": {
    "name": "ipython",
    "version": 3
   },
   "file_extension": ".py",
   "mimetype": "text/x-python",
   "name": "python",
   "nbconvert_exporter": "python",
   "pygments_lexer": "ipython3",
   "version": "3.10.11"
  }
 },
 "nbformat": 4,
 "nbformat_minor": 2
}
