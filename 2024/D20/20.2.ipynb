{
 "cells": [
  {
   "cell_type": "code",
   "execution_count": 7,
   "metadata": {},
   "outputs": [],
   "source": [
    "import numpy as np"
   ]
  },
  {
   "cell_type": "code",
   "execution_count": 8,
   "metadata": {},
   "outputs": [
    {
     "name": "stdout",
     "output_type": "stream",
     "text": [
      "[['#' '#' '#' '#' '#' '#' '#' '#' '#' '#' '#' '#' '#' '#' '#']\n",
      " ['#' '.' '.' '.' '#' '.' '.' '.' '#' '.' '.' '.' '.' '.' '#']\n",
      " ['#' '.' '#' '.' '#' '.' '#' '.' '#' '.' '#' '#' '#' '.' '#']\n",
      " ['#' 'S' '#' '.' '.' '.' '#' '.' '#' '.' '#' '.' '.' '.' '#']\n",
      " ['#' '#' '#' '#' '#' '#' '#' '.' '#' '.' '#' '.' '#' '#' '#']\n",
      " ['#' '#' '#' '#' '#' '#' '#' '.' '#' '.' '#' '.' '.' '.' '#']\n",
      " ['#' '#' '#' '#' '#' '#' '#' '.' '#' '.' '#' '#' '#' '.' '#']\n",
      " ['#' '#' '#' '.' '.' 'E' '#' '.' '.' '.' '#' '.' '.' '.' '#']\n",
      " ['#' '#' '#' '.' '#' '#' '#' '#' '#' '#' '#' '.' '#' '#' '#']\n",
      " ['#' '.' '.' '.' '#' '#' '#' '.' '.' '.' '#' '.' '.' '.' '#']\n",
      " ['#' '.' '#' '#' '#' '#' '#' '.' '#' '.' '#' '#' '#' '.' '#']\n",
      " ['#' '.' '#' '.' '.' '.' '#' '.' '#' '.' '#' '.' '.' '.' '#']\n",
      " ['#' '.' '#' '.' '#' '.' '#' '.' '#' '.' '#' '.' '#' '#' '#']\n",
      " ['#' '.' '.' '.' '#' '.' '.' '.' '#' '.' '.' '.' '#' '#' '#']\n",
      " ['#' '#' '#' '#' '#' '#' '#' '#' '#' '#' '#' '#' '#' '#' '#']]\n"
     ]
    }
   ],
   "source": [
    "with open(\"input20.txt\", \"r\") as file:\n",
    "    data = file.read().splitlines()\n",
    "    data = [list(item) for item in data]\n",
    "    data = np.asmatrix(data)\n",
    "print(data)"
   ]
  },
  {
   "cell_type": "code",
   "execution_count": 9,
   "metadata": {},
   "outputs": [],
   "source": [
    "def get(node, maze):\n",
    "    res = []\n",
    "    direcs = [(-1, 0), (0, 1), (1, 0), (0, -1)]\n",
    "    for i in range(4):\n",
    "        new_coord = (node[0]+direcs[i][0], node[1]+direcs[i][1])\n",
    "        if maze[new_coord] == \".\" or maze[new_coord] == \"E\":\n",
    "            res.append(new_coord)\n",
    "    return res"
   ]
  },
  {
   "cell_type": "code",
   "execution_count": 10,
   "metadata": {},
   "outputs": [],
   "source": [
    "def find_start_end(maze):\n",
    "    n, m = maze.shape\n",
    "\n",
    "    for i in range(n):\n",
    "        for j in range(m):\n",
    "            if maze[i, j] == \"S\":\n",
    "                start = (i, j)\n",
    "            elif maze[i, j] == \"E\":\n",
    "                end = (i, j)\n",
    "    return start, end"
   ]
  },
  {
   "cell_type": "code",
   "execution_count": 11,
   "metadata": {},
   "outputs": [],
   "source": [
    "def bfs(start, end, maze):\n",
    "    q = []\n",
    "    q.append([start])\n",
    "\n",
    "    while q:\n",
    "        current_path = q.pop(0)\n",
    "        node = current_path[-1]\n",
    "\n",
    "        neighbours = get(node, maze)\n",
    "        for next in neighbours:\n",
    "            if next not in current_path:\n",
    "                temp_path = current_path.copy()\n",
    "                temp_path.append(next)\n",
    "\n",
    "                if next == end:\n",
    "                    return temp_path\n",
    "                else:\n",
    "                    q.append(temp_path)\n",
    "    return []\n",
    "    "
   ]
  },
  {
   "cell_type": "code",
   "execution_count": 46,
   "metadata": {},
   "outputs": [],
   "source": [
    "start, end = find_start_end(data)\n",
    "path = bfs(start, end, data)"
   ]
  },
  {
   "cell_type": "code",
   "execution_count": 47,
   "metadata": {},
   "outputs": [
    {
     "data": {
      "text/plain": [
       "21"
      ]
     },
     "execution_count": 47,
     "metadata": {},
     "output_type": "execute_result"
    }
   ],
   "source": [
    "path.index((6,9))"
   ]
  },
  {
   "cell_type": "code",
   "execution_count": 44,
   "metadata": {},
   "outputs": [],
   "source": [
    "def cheat(path, maze, full_path, picosec):\n",
    "    n, m = maze.shape\n",
    "    current_coord = path[-1]\n",
    "    direcs = [(-1, 0), (0, 1), (1, 0), (0, -1)]\n",
    "    paths = []\n",
    "\n",
    "    for direc in direcs:\n",
    "        if (n > current_coord[0] + direc[0]*2 >= 1 and \n",
    "            m > current_coord[1] + direc[1]*2 >= 1 and\n",
    "            maze[current_coord[0] + direc[0], current_coord[1] + direc[1]] == \"#\"):\n",
    "            new_coord1 = (current_coord[0] + direc[0],\n",
    "                         current_coord[1] + direc[1])\n",
    "            new_coord2 = (current_coord[0] + direc[0]*2,\n",
    "                         current_coord[1] + direc[1]*2)\n",
    "            if ((maze[new_coord2] == \".\" or maze[new_coord2] == \"E\") and \n",
    "                new_coord2 not in path):\n",
    "                \n",
    "                rejoin_path_coord = full_path.index(new_coord2)\n",
    "                new_path = path + [new_coord1] + full_path[rejoin_path_coord:]\n",
    "                paths.append(new_path)\n",
    "            elif picosec < 20 and new_coord1 not in path:\n",
    "                new_path = path + [new_coord1]\n",
    "                new_path = cheat(new_path, maze, full_path, picosec+1)\n",
    "                paths = paths + new_path\n",
    "    return paths, entry, exit"
   ]
  },
  {
   "cell_type": "code",
   "execution_count": 45,
   "metadata": {},
   "outputs": [
    {
     "name": "stdout",
     "output_type": "stream",
     "text": [
      "(3, 3)\n",
      "(1, 2)\n",
      "(4, 2)\n",
      "(5, 2)\n",
      "(2, 2)\n",
      "(4, 4)\n",
      "(4, 5)\n",
      "(4, 6)\n",
      "(4, 7)\n",
      "(2, 6)\n",
      "(1, 6)\n",
      "(4, 6)\n",
      "(5, 6)\n",
      "(6, 6)\n",
      "(3, 6)\n",
      "(7, 6)\n",
      "(4, 6)\n",
      "(8, 6)\n",
      "(5, 6)\n",
      "(9, 6)\n",
      "(6, 6)\n",
      "(8, 8)\n",
      "(8, 9)\n",
      "(8, 10)\n",
      "(8, 11)\n",
      "(6, 10)\n",
      "(5, 10)\n",
      "(4, 10)\n",
      "(3, 10)\n",
      "(2, 10)\n",
      "(1, 10)\n",
      "(2, 12)\n",
      "(4, 10)\n",
      "(5, 10)\n",
      "(6, 10)\n",
      "(7, 10)\n",
      "(6, 12)\n",
      "(6, 13)\n",
      "(6, 10)\n",
      "(6, 9)\n"
     ]
    },
    {
     "ename": "ValueError",
     "evalue": "(6, 9) is not in list",
     "output_type": "error",
     "traceback": [
      "\u001b[1;31m---------------------------------------------------------------------------\u001b[0m",
      "\u001b[1;31mValueError\u001b[0m                                Traceback (most recent call last)",
      "Cell \u001b[1;32mIn [45], line 1\u001b[0m\n\u001b[1;32m----> 1\u001b[0m test \u001b[38;5;241m=\u001b[39m \u001b[43mcheat\u001b[49m\u001b[43m(\u001b[49m\u001b[43mpath\u001b[49m\u001b[43m[\u001b[49m\u001b[43m:\u001b[49m\u001b[38;5;241;43m1\u001b[39;49m\u001b[43m]\u001b[49m\u001b[43m,\u001b[49m\u001b[43m \u001b[49m\u001b[43mdata\u001b[49m\u001b[43m,\u001b[49m\u001b[43m \u001b[49m\u001b[43mpath\u001b[49m\u001b[43m,\u001b[49m\u001b[43m \u001b[49m\u001b[38;5;241;43m0\u001b[39;49m\u001b[43m)\u001b[49m\n",
      "Cell \u001b[1;32mIn [44], line 18\u001b[0m, in \u001b[0;36mcheat\u001b[1;34m(path, maze, full_path, picosec)\u001b[0m\n\u001b[0;32m     16\u001b[0m \u001b[38;5;28;01mif\u001b[39;00m picosec \u001b[38;5;241m<\u001b[39m \u001b[38;5;241m20\u001b[39m \u001b[38;5;129;01mand\u001b[39;00m new_coord1 \u001b[38;5;129;01mnot\u001b[39;00m \u001b[38;5;129;01min\u001b[39;00m path:\n\u001b[0;32m     17\u001b[0m     new_path \u001b[38;5;241m=\u001b[39m path \u001b[38;5;241m+\u001b[39m [new_coord1]\n\u001b[1;32m---> 18\u001b[0m     new_path \u001b[38;5;241m=\u001b[39m \u001b[43mcheat\u001b[49m\u001b[43m(\u001b[49m\u001b[43mnew_path\u001b[49m\u001b[43m,\u001b[49m\u001b[43m \u001b[49m\u001b[43mmaze\u001b[49m\u001b[43m,\u001b[49m\u001b[43m \u001b[49m\u001b[43mfull_path\u001b[49m\u001b[43m,\u001b[49m\u001b[43m \u001b[49m\u001b[43mpicosec\u001b[49m\u001b[38;5;241;43m+\u001b[39;49m\u001b[38;5;241;43m1\u001b[39;49m\u001b[43m)\u001b[49m\n\u001b[0;32m     19\u001b[0m     paths \u001b[38;5;241m=\u001b[39m paths \u001b[38;5;241m+\u001b[39m new_path\n\u001b[0;32m     20\u001b[0m \u001b[38;5;28;01melif\u001b[39;00m maze[new_coord2] \u001b[38;5;241m==\u001b[39m \u001b[38;5;124m\"\u001b[39m\u001b[38;5;124m.\u001b[39m\u001b[38;5;124m\"\u001b[39m \u001b[38;5;129;01mand\u001b[39;00m new_coord2 \u001b[38;5;129;01mnot\u001b[39;00m \u001b[38;5;129;01min\u001b[39;00m path:\n",
      "Cell \u001b[1;32mIn [44], line 18\u001b[0m, in \u001b[0;36mcheat\u001b[1;34m(path, maze, full_path, picosec)\u001b[0m\n\u001b[0;32m     16\u001b[0m \u001b[38;5;28;01mif\u001b[39;00m picosec \u001b[38;5;241m<\u001b[39m \u001b[38;5;241m20\u001b[39m \u001b[38;5;129;01mand\u001b[39;00m new_coord1 \u001b[38;5;129;01mnot\u001b[39;00m \u001b[38;5;129;01min\u001b[39;00m path:\n\u001b[0;32m     17\u001b[0m     new_path \u001b[38;5;241m=\u001b[39m path \u001b[38;5;241m+\u001b[39m [new_coord1]\n\u001b[1;32m---> 18\u001b[0m     new_path \u001b[38;5;241m=\u001b[39m \u001b[43mcheat\u001b[49m\u001b[43m(\u001b[49m\u001b[43mnew_path\u001b[49m\u001b[43m,\u001b[49m\u001b[43m \u001b[49m\u001b[43mmaze\u001b[49m\u001b[43m,\u001b[49m\u001b[43m \u001b[49m\u001b[43mfull_path\u001b[49m\u001b[43m,\u001b[49m\u001b[43m \u001b[49m\u001b[43mpicosec\u001b[49m\u001b[38;5;241;43m+\u001b[39;49m\u001b[38;5;241;43m1\u001b[39;49m\u001b[43m)\u001b[49m\n\u001b[0;32m     19\u001b[0m     paths \u001b[38;5;241m=\u001b[39m paths \u001b[38;5;241m+\u001b[39m new_path\n\u001b[0;32m     20\u001b[0m \u001b[38;5;28;01melif\u001b[39;00m maze[new_coord2] \u001b[38;5;241m==\u001b[39m \u001b[38;5;124m\"\u001b[39m\u001b[38;5;124m.\u001b[39m\u001b[38;5;124m\"\u001b[39m \u001b[38;5;129;01mand\u001b[39;00m new_coord2 \u001b[38;5;129;01mnot\u001b[39;00m \u001b[38;5;129;01min\u001b[39;00m path:\n",
      "    \u001b[1;31m[... skipping similar frames: cheat at line 18 (14 times)]\u001b[0m\n",
      "Cell \u001b[1;32mIn [44], line 18\u001b[0m, in \u001b[0;36mcheat\u001b[1;34m(path, maze, full_path, picosec)\u001b[0m\n\u001b[0;32m     16\u001b[0m \u001b[38;5;28;01mif\u001b[39;00m picosec \u001b[38;5;241m<\u001b[39m \u001b[38;5;241m20\u001b[39m \u001b[38;5;129;01mand\u001b[39;00m new_coord1 \u001b[38;5;129;01mnot\u001b[39;00m \u001b[38;5;129;01min\u001b[39;00m path:\n\u001b[0;32m     17\u001b[0m     new_path \u001b[38;5;241m=\u001b[39m path \u001b[38;5;241m+\u001b[39m [new_coord1]\n\u001b[1;32m---> 18\u001b[0m     new_path \u001b[38;5;241m=\u001b[39m \u001b[43mcheat\u001b[49m\u001b[43m(\u001b[49m\u001b[43mnew_path\u001b[49m\u001b[43m,\u001b[49m\u001b[43m \u001b[49m\u001b[43mmaze\u001b[49m\u001b[43m,\u001b[49m\u001b[43m \u001b[49m\u001b[43mfull_path\u001b[49m\u001b[43m,\u001b[49m\u001b[43m \u001b[49m\u001b[43mpicosec\u001b[49m\u001b[38;5;241;43m+\u001b[39;49m\u001b[38;5;241;43m1\u001b[39;49m\u001b[43m)\u001b[49m\n\u001b[0;32m     19\u001b[0m     paths \u001b[38;5;241m=\u001b[39m paths \u001b[38;5;241m+\u001b[39m new_path\n\u001b[0;32m     20\u001b[0m \u001b[38;5;28;01melif\u001b[39;00m maze[new_coord2] \u001b[38;5;241m==\u001b[39m \u001b[38;5;124m\"\u001b[39m\u001b[38;5;124m.\u001b[39m\u001b[38;5;124m\"\u001b[39m \u001b[38;5;129;01mand\u001b[39;00m new_coord2 \u001b[38;5;129;01mnot\u001b[39;00m \u001b[38;5;129;01min\u001b[39;00m path:\n",
      "Cell \u001b[1;32mIn [44], line 21\u001b[0m, in \u001b[0;36mcheat\u001b[1;34m(path, maze, full_path, picosec)\u001b[0m\n\u001b[0;32m     19\u001b[0m     paths \u001b[38;5;241m=\u001b[39m paths \u001b[38;5;241m+\u001b[39m new_path\n\u001b[0;32m     20\u001b[0m \u001b[38;5;28;01melif\u001b[39;00m maze[new_coord2] \u001b[38;5;241m==\u001b[39m \u001b[38;5;124m\"\u001b[39m\u001b[38;5;124m.\u001b[39m\u001b[38;5;124m\"\u001b[39m \u001b[38;5;129;01mand\u001b[39;00m new_coord2 \u001b[38;5;129;01mnot\u001b[39;00m \u001b[38;5;129;01min\u001b[39;00m path:\n\u001b[1;32m---> 21\u001b[0m     rejoin_path_coord \u001b[38;5;241m=\u001b[39m \u001b[43mfull_path\u001b[49m\u001b[38;5;241;43m.\u001b[39;49m\u001b[43mindex\u001b[49m\u001b[43m(\u001b[49m\u001b[43mnew_coord2\u001b[49m\u001b[43m)\u001b[49m\n\u001b[0;32m     22\u001b[0m     new_path \u001b[38;5;241m=\u001b[39m path \u001b[38;5;241m+\u001b[39m [new_coord1] \u001b[38;5;241m+\u001b[39m full_path[rejoin_path_coord:]\n\u001b[0;32m     23\u001b[0m     paths\u001b[38;5;241m.\u001b[39mappend(new_path)\n",
      "\u001b[1;31mValueError\u001b[0m: (6, 9) is not in list"
     ]
    }
   ],
   "source": [
    "test = cheat(path[:1], data, path, 0)"
   ]
  },
  {
   "cell_type": "code",
   "execution_count": 32,
   "metadata": {},
   "outputs": [],
   "source": [
    "minimum = 999999\n",
    "for path in test:\n",
    "    minimum = min(minimum, len(path))\n",
    "    if minimum == len(path):\n",
    "        min_path = path"
   ]
  },
  {
   "cell_type": "code",
   "execution_count": 33,
   "metadata": {},
   "outputs": [
    {
     "data": {
      "text/plain": [
       "11"
      ]
     },
     "execution_count": 33,
     "metadata": {},
     "output_type": "execute_result"
    }
   ],
   "source": [
    "len(min_path)"
   ]
  },
  {
   "cell_type": "code",
   "execution_count": 50,
   "metadata": {},
   "outputs": [],
   "source": [
    "unique_data = [list(x) for x in set(tuple(x) for x in test)]"
   ]
  },
  {
   "cell_type": "code",
   "execution_count": 53,
   "metadata": {},
   "outputs": [
    {
     "data": {
      "text/plain": [
       "[(3, 1),\n",
       " (4, 1),\n",
       " (4, 2),\n",
       " (4, 3),\n",
       " (5, 3),\n",
       " (5, 2),\n",
       " (6, 2),\n",
       " (6, 3),\n",
       " (6, 4),\n",
       " (6, 5),\n",
       " (5, 5),\n",
       " (5, 6),\n",
       " (5, 7),\n",
       " (6, 7),\n",
       " (7, 7),\n",
       " (7, 8),\n",
       " (7, 9),\n",
       " (6, 9),\n",
       " (5, 9),\n",
       " (4, 9),\n",
       " (3, 9),\n",
       " (2, 9),\n",
       " (1, 9),\n",
       " (1, 10),\n",
       " (1, 11),\n",
       " (1, 12),\n",
       " (1, 13),\n",
       " (2, 13),\n",
       " (3, 13),\n",
       " (3, 12),\n",
       " (3, 11),\n",
       " (4, 11),\n",
       " (5, 11),\n",
       " (5, 12),\n",
       " (5, 13),\n",
       " (6, 13),\n",
       " (7, 13),\n",
       " (7, 12),\n",
       " (7, 11),\n",
       " (8, 11),\n",
       " (9, 11),\n",
       " (9, 12),\n",
       " (9, 13),\n",
       " (10, 13),\n",
       " (11, 13),\n",
       " (11, 12),\n",
       " (11, 11),\n",
       " (12, 11),\n",
       " (13, 11),\n",
       " (13, 10),\n",
       " (13, 9),\n",
       " (12, 9),\n",
       " (11, 9),\n",
       " (10, 9),\n",
       " (9, 9),\n",
       " (9, 8),\n",
       " (9, 7),\n",
       " (10, 7),\n",
       " (11, 7),\n",
       " (12, 7),\n",
       " (13, 7),\n",
       " (13, 6),\n",
       " (13, 5),\n",
       " (12, 5),\n",
       " (11, 5),\n",
       " (11, 4),\n",
       " (11, 3),\n",
       " (12, 3),\n",
       " (13, 3),\n",
       " (13, 2),\n",
       " (13, 1),\n",
       " (12, 1),\n",
       " (11, 1),\n",
       " (10, 1),\n",
       " (9, 1),\n",
       " (9, 2),\n",
       " (9, 3),\n",
       " (8, 3),\n",
       " (7, 3),\n",
       " (7, 4),\n",
       " (7, 5)]"
      ]
     },
     "execution_count": 53,
     "metadata": {},
     "output_type": "execute_result"
    }
   ],
   "source": [
    "unique_data[1]"
   ]
  },
  {
   "cell_type": "code",
   "execution_count": 18,
   "metadata": {},
   "outputs": [
    {
     "data": {
      "text/plain": [
       "85"
      ]
     },
     "execution_count": 18,
     "metadata": {},
     "output_type": "execute_result"
    }
   ],
   "source": [
    "len(path)"
   ]
  },
  {
   "cell_type": "code",
   "execution_count": 10,
   "metadata": {},
   "outputs": [],
   "source": [
    "test_path = test[1][0][0][0]"
   ]
  },
  {
   "cell_type": "code",
   "execution_count": 46,
   "metadata": {},
   "outputs": [
    {
     "data": {
      "text/plain": [
       "112"
      ]
     },
     "execution_count": 46,
     "metadata": {},
     "output_type": "execute_result"
    }
   ],
   "source": [
    "start, end = find_start_end(data)\n",
    "path = bfs(start, end, data)\n",
    "count = 0\n",
    "for i in range(len(path)):\n",
    "    cheat_paths = cheat(path[:i+1], data, path, 0)\n",
    "    for cheat_path in cheat_paths:\n",
    "        if len(path) - len(cheat_path) == 50:\n",
    "            count += 1\n",
    "count"
   ]
  },
  {
   "cell_type": "code",
   "execution_count": 34,
   "metadata": {},
   "outputs": [],
   "source": [
    "new_map = data.copy()\n",
    "for i in min_path:\n",
    "    new_map[i] = \"O\"\n",
    "n, m = data.shape\n",
    "res = \"\"\n",
    "for i in range(n):\n",
    "    for j in range(m):\n",
    "        res += new_map[i,j]\n",
    "    res += \"\\n\"\n",
    "\n",
    "with open(f\"file.txt\", \"w\") as f:\n",
    "    f.write(res)"
   ]
  }
 ],
 "metadata": {
  "kernelspec": {
   "display_name": "Python 3",
   "language": "python",
   "name": "python3"
  },
  "language_info": {
   "codemirror_mode": {
    "name": "ipython",
    "version": 3
   },
   "file_extension": ".py",
   "mimetype": "text/x-python",
   "name": "python",
   "nbconvert_exporter": "python",
   "pygments_lexer": "ipython3",
   "version": "3.10.11"
  }
 },
 "nbformat": 4,
 "nbformat_minor": 2
}
