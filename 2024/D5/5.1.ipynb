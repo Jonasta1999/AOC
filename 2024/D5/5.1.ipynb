{
 "cells": [
  {
   "cell_type": "code",
   "execution_count": null,
   "metadata": {},
   "outputs": [],
   "source": [
    "with open(\"input5.txt\", \"r\") as file:\n",
    "    data = [item.splitlines() for item in file.read().split(\"\\n\\n\")]\n",
    "    rules = [item.split(\"|\") for item in data[0]]\n",
    "    updates = [item.split(\",\") for item in data[1]]"
   ]
  },
  {
   "cell_type": "code",
   "execution_count": null,
   "metadata": {},
   "outputs": [],
   "source": [
    "res = []\n",
    "for i in range(len(updates)):\n",
    "    temp = True\n",
    "    for j in range(len(rules)):\n",
    "        if rules[j][0] in updates[i] and rules[j][1] in updates[i]:\n",
    "            if updates[i].index(rules[j][0]) > updates[i].index(rules[j][1]):\n",
    "                temp = False\n",
    "                break\n",
    "    if temp:\n",
    "        res.append(i)\n",
    "    \n"
   ]
  },
  {
   "cell_type": "code",
   "execution_count": null,
   "metadata": {},
   "outputs": [],
   "source": [
    "sum([int(updates[i][round((len(updates[i])-1)/2)]) for i in res])"
   ]
  }
 ],
 "metadata": {
  "kernelspec": {
   "display_name": "Python 3",
   "language": "python",
   "name": "python3"
  },
  "language_info": {
   "codemirror_mode": {
    "name": "ipython",
    "version": 3
   },
   "file_extension": ".py",
   "mimetype": "text/x-python",
   "name": "python",
   "nbconvert_exporter": "python",
   "pygments_lexer": "ipython3",
   "version": "3.10.11"
  }
 },
 "nbformat": 4,
 "nbformat_minor": 2
}
