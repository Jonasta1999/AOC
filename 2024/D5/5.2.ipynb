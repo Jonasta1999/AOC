{
 "cells": [
  {
   "cell_type": "code",
   "execution_count": 50,
   "metadata": {},
   "outputs": [],
   "source": [
    "with open(\"input5.txt\", \"r\") as file:\n",
    "    data = [item.splitlines() for item in file.read().split(\"\\n\\n\")]\n",
    "    rules = [item.split(\"|\") for item in data[0]]\n",
    "    updates = [item.split(\",\") for item in data[1]]"
   ]
  },
  {
   "cell_type": "code",
   "execution_count": 51,
   "metadata": {},
   "outputs": [],
   "source": [
    "res = []\n",
    "for i in range(len(updates)):\n",
    "    temp = True\n",
    "    for j in range(len(rules)):\n",
    "        if rules[j][0] in updates[i] and rules[j][1] in updates[i]:\n",
    "            if updates[i].index(rules[j][0]) > updates[i].index(rules[j][1]):\n",
    "                temp = False\n",
    "                break\n",
    "    if not temp:\n",
    "        res.append(i)"
   ]
  },
  {
   "cell_type": "code",
   "execution_count": 52,
   "metadata": {},
   "outputs": [],
   "source": [
    "def is_correct(rules, update):\n",
    "    result = True\n",
    "    for i in range(len(rules)):\n",
    "        if rules[i][0] in update and rules[i][1] in update:\n",
    "            if update.index(rules[i][0]) > update.index(rules[i][1]):\n",
    "                result = False\n",
    "                break\n",
    "    return result"
   ]
  },
  {
   "cell_type": "code",
   "execution_count": 53,
   "metadata": {},
   "outputs": [],
   "source": [
    "def make_correct(rules, update):\n",
    "    if is_correct(rules, update):\n",
    "        return update\n",
    "    else:\n",
    "        for i in range(len(rules)):\n",
    "            if rules[i][0] in update and rules[i][1] in update:\n",
    "                index1 = update.index(rules[i][0])\n",
    "                index2 = update.index(rules[i][1])\n",
    "                if index1 > index2:\n",
    "                    update[index1], update[index2] = update[index2], update[index1]\n",
    "        return make_correct(rules, update)"
   ]
  },
  {
   "cell_type": "code",
   "execution_count": 54,
   "metadata": {},
   "outputs": [],
   "source": [
    "for i in res:\n",
    "    updates[i] = make_correct(rules, updates[i])"
   ]
  },
  {
   "cell_type": "code",
   "execution_count": null,
   "metadata": {},
   "outputs": [
    {
     "data": {
      "text/plain": [
       "4407"
      ]
     },
     "execution_count": 55,
     "metadata": {},
     "output_type": "execute_result"
    },
    {
     "ename": "",
     "evalue": "",
     "output_type": "error",
     "traceback": [
      "\u001b[1;31mThe Kernel crashed while executing code in the current cell or a previous cell. \n",
      "\u001b[1;31mPlease review the code in the cell(s) to identify a possible cause of the failure. \n",
      "\u001b[1;31mClick <a href='https://aka.ms/vscodeJupyterKernelCrash'>here</a> for more info. \n",
      "\u001b[1;31mView Jupyter <a href='command:jupyter.viewOutput'>log</a> for further details."
     ]
    }
   ],
   "source": [
    "sum([int(updates[i][round((len(updates[i])-1)/2)]) for i in res])"
   ]
  }
 ],
 "metadata": {
  "kernelspec": {
   "display_name": "Python 3",
   "language": "python",
   "name": "python3"
  },
  "language_info": {
   "codemirror_mode": {
    "name": "ipython",
    "version": 3
   },
   "file_extension": ".py",
   "mimetype": "text/x-python",
   "name": "python",
   "nbconvert_exporter": "python",
   "pygments_lexer": "ipython3",
   "version": "3.10.11"
  }
 },
 "nbformat": 4,
 "nbformat_minor": 2
}
