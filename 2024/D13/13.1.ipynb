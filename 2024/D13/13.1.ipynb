{
 "cells": [
  {
   "cell_type": "code",
   "execution_count": 7,
   "metadata": {},
   "outputs": [],
   "source": [
    "from scipy.optimize import linprog\n",
    "import re "
   ]
  },
  {
   "cell_type": "code",
   "execution_count": 8,
   "metadata": {},
   "outputs": [
    {
     "data": {
      "text/plain": [
       "['Button A: X+94, Y+34',\n",
       " 'Button B: X+22, Y+67',\n",
       " 'Prize: X=8400, Y=5400',\n",
       " '',\n",
       " 'Button A: X+26, Y+66',\n",
       " 'Button B: X+67, Y+21',\n",
       " 'Prize: X=12748, Y=12176',\n",
       " '',\n",
       " 'Button A: X+17, Y+86',\n",
       " 'Button B: X+84, Y+37',\n",
       " 'Prize: X=7870, Y=6450',\n",
       " '',\n",
       " 'Button A: X+69, Y+23',\n",
       " 'Button B: X+27, Y+71',\n",
       " 'Prize: X=18641, Y=10279']"
      ]
     },
     "execution_count": 8,
     "metadata": {},
     "output_type": "execute_result"
    }
   ],
   "source": [
    "with open(\"input13.txt\", \"r\") as file:\n",
    "    data = file.read().splitlines()\n",
    "data"
   ]
  },
  {
   "cell_type": "code",
   "execution_count": 9,
   "metadata": {},
   "outputs": [],
   "source": [
    "but_A = [item.split(\"Y\") for item in data if \"Button A\" in item]\n",
    "but_B = [item.split(\"Y\") for item in data if \"Button B\" in item]\n",
    "prize = [item.split(\"Y\") for item in data if \"Prize\" in item]"
   ]
  },
  {
   "cell_type": "code",
   "execution_count": 10,
   "metadata": {},
   "outputs": [],
   "source": [
    "but_A = [list(map(int,([re.sub(r'[^\\d]+', '', item[0]), re.sub(r'[^\\d]+', '', item[1])]))) for item in but_A]\n",
    "but_B = [list(map(int,([re.sub(r'[^\\d]+', '', item[0]), re.sub(r'[^\\d]+', '', item[1])]))) for item in but_B]\n",
    "prize = [list(map(int,([re.sub(r'[^\\d]+', '', item[0]), re.sub(r'[^\\d]+', '', item[1])]))) for item in prize]"
   ]
  },
  {
   "cell_type": "code",
   "execution_count": 11,
   "metadata": {},
   "outputs": [
    {
     "name": "stdout",
     "output_type": "stream",
     "text": [
      "[[94, 34], [26, 66], [17, 86], [69, 23]]\n",
      "[[22, 67], [67, 21], [84, 37], [27, 71]]\n",
      "[[8400, 5400], [12748, 12176], [7870, 6450], [18641, 10279]]\n"
     ]
    }
   ],
   "source": [
    "print(but_A)\n",
    "print(but_B)\n",
    "print(prize)"
   ]
  },
  {
   "cell_type": "code",
   "execution_count": 12,
   "metadata": {},
   "outputs": [
    {
     "name": "stdout",
     "output_type": "stream",
     "text": [
      "Optimal solution: A = 118679050709, B = 103199174542\n",
      "Cost = $459236326669.0\n",
      "Optimal solution: A = 102851800151, B = 107526881786\n",
      "Cost = $416082282239.0\n",
      "875318608908.0\n"
     ]
    }
   ],
   "source": [
    "sum = 0\n",
    "for i in range(len(prize)):\n",
    "    c = [-3, -1]\n",
    "    A = [[but_A[i][0], but_B[i][0]], [but_A[i][1], but_B[i][1]]]\n",
    "    b = [prize[i][0]+10000000000000, prize[i][1]+10000000000000]\n",
    "    bound = (0, None)\n",
    "    res = linprog(c, A_eq = A, b_eq = b, bounds = [bound, bound], method = 'highs', integrality= 1)\n",
    "\n",
    "    try:\n",
    "        print(f\"Optimal solution: A = {round(res.x[0])}, B = {round(res.x[1])}\")\n",
    "        print(f\"Cost = ${-res.fun}\")\n",
    "        sum += res.x[0]*(-c[0]) + res.x[1]*(-c[1])\n",
    "    except:\n",
    "        pass\n",
    "print(sum)"
   ]
  },
  {
   "cell_type": "code",
   "execution_count": null,
   "metadata": {},
   "outputs": [],
   "source": [
    "c = [-3, -1]\n",
    "A = [[94, 22], [34, 67]]\n",
    "b = [8400, 5400]\n",
    "bound = (0, None)\n",
    "res = linprog(c, A_ub = A, b_ub = b, bounds = [bound, bound], method = 'highs')\n",
    "\n",
    "print(f\"Optimal solution: A = {res.x[0]}, B = {res.x[1]}\")\n",
    "print(f\"Cost = ${res.fun}\")"
   ]
  }
 ],
 "metadata": {
  "kernelspec": {
   "display_name": "Python 3",
   "language": "python",
   "name": "python3"
  },
  "language_info": {
   "codemirror_mode": {
    "name": "ipython",
    "version": 3
   },
   "file_extension": ".py",
   "mimetype": "text/x-python",
   "name": "python",
   "nbconvert_exporter": "python",
   "pygments_lexer": "ipython3",
   "version": "3.10.11"
  }
 },
 "nbformat": 4,
 "nbformat_minor": 2
}
