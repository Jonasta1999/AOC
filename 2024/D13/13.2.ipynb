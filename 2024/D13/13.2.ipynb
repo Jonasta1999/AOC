{
 "cells": [
  {
   "cell_type": "code",
   "execution_count": null,
   "metadata": {},
   "outputs": [],
   "source": [
    "import numpy as np\n",
    "from sympy import symbols, Eq, solve\n",
    "import re "
   ]
  },
  {
   "cell_type": "code",
   "execution_count": null,
   "metadata": {},
   "outputs": [],
   "source": [
    "with open(\"input13.txt\", \"r\") as file:\n",
    "    data = file.read().splitlines()\n",
    "data"
   ]
  },
  {
   "cell_type": "code",
   "execution_count": null,
   "metadata": {},
   "outputs": [],
   "source": [
    "but_A = [item.split(\"Y\") for item in data if \"Button A\" in item]\n",
    "but_B = [item.split(\"Y\") for item in data if \"Button B\" in item]\n",
    "prize = [item.split(\"Y\") for item in data if \"Prize\" in item]"
   ]
  },
  {
   "cell_type": "code",
   "execution_count": null,
   "metadata": {},
   "outputs": [],
   "source": [
    "but_A = [list(map(int,([re.sub(r'[^\\d]+', '', item[0]), re.sub(r'[^\\d]+', '', item[1])]))) for item in but_A]\n",
    "but_B = [list(map(int,([re.sub(r'[^\\d]+', '', item[0]), re.sub(r'[^\\d]+', '', item[1])]))) for item in but_B]\n",
    "prize = [list(map(int,([re.sub(r'[^\\d]+', '', item[0]), re.sub(r'[^\\d]+', '', item[1])]))) for item in prize]"
   ]
  },
  {
   "cell_type": "code",
   "execution_count": null,
   "metadata": {},
   "outputs": [],
   "source": [
    "sum = 0\n",
    "for i in range(len(prize)):\n",
    "    x, y = symbols('x y')\n",
    "    eq1 = Eq(prize[i][0]+10000000000000, but_A[i][0]*x+but_B[i][0]*y)\n",
    "    eq2 = Eq(prize[i][1]+10000000000000, but_A[i][1]*x+but_B[i][1]*y)\n",
    "    sol_dict = solve((eq1,eq2), (x, y))\n",
    "    if not \"/\" in str(sol_dict[x]) and not \"/\" in str(sol_dict[y]):\n",
    "        #print(i)\n",
    "        #print(f'x = {sol_dict[x]}')\n",
    "        #print(f'y = {sol_dict[y]}')\n",
    "        sum += 3*sol_dict[x] + sol_dict[y]\n"
   ]
  },
  {
   "cell_type": "code",
   "execution_count": null,
   "metadata": {},
   "outputs": [],
   "source": [
    "sum"
   ]
  }
 ],
 "metadata": {
  "kernelspec": {
   "display_name": "Python 3",
   "language": "python",
   "name": "python3"
  },
  "language_info": {
   "codemirror_mode": {
    "name": "ipython",
    "version": 3
   },
   "file_extension": ".py",
   "mimetype": "text/x-python",
   "name": "python",
   "nbconvert_exporter": "python",
   "pygments_lexer": "ipython3",
   "version": "3.10.11"
  }
 },
 "nbformat": 4,
 "nbformat_minor": 2
}
