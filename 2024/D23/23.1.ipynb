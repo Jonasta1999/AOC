{
 "cells": [
  {
   "cell_type": "code",
   "execution_count": null,
   "metadata": {},
   "outputs": [],
   "source": [
    "with open(\"input23.txt\", \"r\") as file:\n",
    "    data = file.read().splitlines()\n",
    "    data = [item.split(\"-\") for item in data]\n",
    "data"
   ]
  },
  {
   "cell_type": "code",
   "execution_count": null,
   "metadata": {},
   "outputs": [],
   "source": [
    "def flatten_nested_list(nested_list):\n",
    "    result = []\n",
    "    for element in nested_list:\n",
    "        if isinstance(element, list):\n",
    "            result.extend(flatten_nested_list(element))\n",
    "        else:\n",
    "            result.append(element)\n",
    "    return result"
   ]
  },
  {
   "cell_type": "code",
   "execution_count": null,
   "metadata": {},
   "outputs": [],
   "source": [
    "unique_pc = list(set(flatten_nested_list(data)))"
   ]
  },
  {
   "cell_type": "code",
   "execution_count": null,
   "metadata": {},
   "outputs": [],
   "source": [
    "def find_3(dat, start_pc, pcs, count = 1):\n",
    "    res = []\n",
    "    last_pc = pcs[-1]\n",
    "    if count == 4 and last_pc == start_pc:\n",
    "        result = sorted(pcs[:3])\n",
    "        return(tuple(result))\n",
    "    elif count == 4:\n",
    "        return []\n",
    "\n",
    "    for i in range(len(dat)):\n",
    "        if last_pc == dat[i][0]:\n",
    "            new_dat = dat.copy()\n",
    "            new_pc = new_dat.pop(i)\n",
    "            new_res = find_3(new_dat, start_pc, pcs + [new_pc[1]], count + 1)\n",
    "            res.append(new_res)\n",
    "            \n",
    "\n",
    "\n",
    "        elif last_pc == dat[i][1]:\n",
    "            new_dat = dat.copy()\n",
    "            new_pc = new_dat.pop(i)\n",
    "            new_res = find_3(new_dat, start_pc, pcs + [new_pc[0]], count + 1)\n",
    "            res.append(new_res)\n",
    "    res = flatten_nested_list(res)\n",
    "    res = list(set(res))\n",
    "    return res"
   ]
  },
  {
   "cell_type": "code",
   "execution_count": null,
   "metadata": {},
   "outputs": [],
   "source": [
    "result = []\n",
    "for pc in unique_pc:\n",
    "    temp_res = find_3(data, pc, [pc], 1)\n",
    "    result += temp_res"
   ]
  },
  {
   "cell_type": "code",
   "execution_count": null,
   "metadata": {},
   "outputs": [],
   "source": [
    "result = list(set(result))"
   ]
  },
  {
   "cell_type": "code",
   "execution_count": null,
   "metadata": {},
   "outputs": [],
   "source": [
    "new_res = []\n",
    "for i in range(len(result)):\n",
    "    if result[i][0][0] == \"t\" or result[i][1][0] == \"t\" or result[i][2][0] == \"t\":\n",
    "        new_res.append(result[i])"
   ]
  },
  {
   "cell_type": "code",
   "execution_count": null,
   "metadata": {},
   "outputs": [],
   "source": [
    "len(new_res)"
   ]
  },
  {
   "cell_type": "code",
   "execution_count": null,
   "metadata": {},
   "outputs": [],
   "source": [
    "len(result)"
   ]
  },
  {
   "cell_type": "code",
   "execution_count": null,
   "metadata": {},
   "outputs": [],
   "source": []
  }
 ],
 "metadata": {
  "kernelspec": {
   "display_name": "Python 3",
   "language": "python",
   "name": "python3"
  },
  "language_info": {
   "codemirror_mode": {
    "name": "ipython",
    "version": 3
   },
   "file_extension": ".py",
   "mimetype": "text/x-python",
   "name": "python",
   "nbconvert_exporter": "python",
   "pygments_lexer": "ipython3",
   "version": "3.10.11"
  }
 },
 "nbformat": 4,
 "nbformat_minor": 2
}
