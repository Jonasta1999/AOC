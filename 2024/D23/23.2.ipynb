{
 "cells": [
  {
   "cell_type": "code",
   "execution_count": 253,
   "metadata": {},
   "outputs": [
    {
     "data": {
      "text/plain": [
       "[['kh', 'tc'],\n",
       " ['qp', 'kh'],\n",
       " ['de', 'cg'],\n",
       " ['ka', 'co'],\n",
       " ['yn', 'aq'],\n",
       " ['qp', 'ub'],\n",
       " ['cg', 'tb'],\n",
       " ['vc', 'aq'],\n",
       " ['tb', 'ka'],\n",
       " ['wh', 'tc'],\n",
       " ['yn', 'cg'],\n",
       " ['kh', 'ub'],\n",
       " ['ta', 'co'],\n",
       " ['de', 'co'],\n",
       " ['tc', 'td'],\n",
       " ['tb', 'wq'],\n",
       " ['wh', 'td'],\n",
       " ['ta', 'ka'],\n",
       " ['td', 'qp'],\n",
       " ['aq', 'cg'],\n",
       " ['wq', 'ub'],\n",
       " ['ub', 'vc'],\n",
       " ['de', 'ta'],\n",
       " ['wq', 'aq'],\n",
       " ['wq', 'vc'],\n",
       " ['wh', 'yn'],\n",
       " ['ka', 'de'],\n",
       " ['kh', 'ta'],\n",
       " ['co', 'tc'],\n",
       " ['wh', 'qp'],\n",
       " ['tb', 'vc'],\n",
       " ['td', 'yn']]"
      ]
     },
     "execution_count": 253,
     "metadata": {},
     "output_type": "execute_result"
    }
   ],
   "source": [
    "with open(\"input23.txt\", \"r\") as file:\n",
    "    data = file.read().splitlines()\n",
    "    data = [item.split(\"-\") for item in data]\n",
    "data"
   ]
  },
  {
   "cell_type": "code",
   "execution_count": 254,
   "metadata": {},
   "outputs": [],
   "source": [
    "def flatten_nested_list(nested_list):\n",
    "    result = []\n",
    "    for element in nested_list:\n",
    "        if isinstance(element, list):\n",
    "            result.extend(flatten_nested_list(element))\n",
    "        else:\n",
    "            result.append(element)\n",
    "    return result"
   ]
  },
  {
   "cell_type": "code",
   "execution_count": 255,
   "metadata": {},
   "outputs": [],
   "source": [
    "def flatten_nested_tuple(nested_tuple):\n",
    "    result = []\n",
    "    for element in nested_tuple:\n",
    "        if isinstance(element, tuple):\n",
    "            result.extend(flatten_nested_list(element))\n",
    "        else:\n",
    "            result.append(element)\n",
    "    return result"
   ]
  },
  {
   "cell_type": "code",
   "execution_count": 256,
   "metadata": {},
   "outputs": [],
   "source": [
    "unique_pc = list(set(flatten_nested_list(data)))"
   ]
  },
  {
   "cell_type": "code",
   "execution_count": 257,
   "metadata": {},
   "outputs": [],
   "source": [
    "def find_connec(dat, start_pc):\n",
    "    res = []\n",
    "    for i in range(len(dat)):\n",
    "        #print(last_pc)\n",
    "        if start_pc == dat[i][0]:\n",
    "            res.append(dat[i][1])\n",
    "\n",
    "        elif start_pc == dat[i][1]:\n",
    "            res.append(dat[i][0])\n",
    "    #res = flatten_nested_list(res)\n",
    "    #res = list(set(res))\n",
    "    return res"
   ]
  },
  {
   "cell_type": "code",
   "execution_count": 258,
   "metadata": {},
   "outputs": [],
   "source": [
    "connections_dict = {}\n",
    "for pc in unique_pc:\n",
    "    connections = find_connec(data, pc) + [pc]\n",
    "    connections = sorted(connections)\n",
    "    connections_dict[pc] = connections"
   ]
  },
  {
   "cell_type": "code",
   "execution_count": 259,
   "metadata": {},
   "outputs": [
    {
     "name": "stdout",
     "output_type": "stream",
     "text": [
      "vc aq {'aq', 'vc', 'wq'}\n",
      "vc tb {'tb', 'vc', 'wq'}\n",
      "vc ub {'vc', 'wq', 'ub'}\n",
      "vc wq {'vc', 'aq', 'wq', 'ub', 'tb'}\n",
      "co de {'co', 'ta', 'de', 'ka'}\n",
      "co ka {'co', 'ta', 'de', 'ka'}\n",
      "co ta {'co', 'ta', 'de', 'ka'}\n",
      "co tc {'co', 'tc'}\n",
      "kh qp {'kh', 'qp', 'ub'}\n",
      "kh ta {'kh', 'ta'}\n",
      "kh tc {'kh', 'tc'}\n",
      "kh ub {'kh', 'qp', 'ub'}\n",
      "td qp {'td', 'qp', 'wh'}\n",
      "td tc {'td', 'tc', 'wh'}\n",
      "td wh {'td', 'wh', 'yn', 'tc', 'qp'}\n",
      "td yn {'td', 'yn', 'wh'}\n",
      "ka co {'co', 'ta', 'de', 'ka'}\n",
      "ka de {'co', 'ta', 'de', 'ka'}\n",
      "ka ta {'co', 'ta', 'de', 'ka'}\n",
      "ka tb {'tb', 'ka'}\n",
      "aq cg {'aq', 'cg', 'yn'}\n",
      "aq vc {'aq', 'vc', 'wq'}\n",
      "aq wq {'aq', 'vc', 'wq'}\n",
      "aq yn {'aq', 'cg', 'yn'}\n",
      "wh qp {'td', 'qp', 'wh'}\n",
      "wh tc {'td', 'tc', 'wh'}\n",
      "wh td {'td', 'wh', 'yn', 'tc', 'qp'}\n",
      "wh yn {'td', 'yn', 'wh'}\n",
      "wq aq {'aq', 'vc', 'wq'}\n",
      "wq tb {'tb', 'vc', 'wq'}\n",
      "wq ub {'vc', 'wq', 'ub'}\n",
      "wq vc {'vc', 'aq', 'wq', 'ub', 'tb'}\n",
      "tc co {'co', 'tc'}\n",
      "tc kh {'kh', 'tc'}\n",
      "tc td {'td', 'tc', 'wh'}\n",
      "tc wh {'td', 'tc', 'wh'}\n",
      "yn aq {'aq', 'cg', 'yn'}\n",
      "yn cg {'aq', 'cg', 'yn'}\n",
      "yn td {'td', 'yn', 'wh'}\n",
      "yn wh {'td', 'yn', 'wh'}\n",
      "ta co {'co', 'ta', 'de', 'ka'}\n",
      "ta de {'co', 'ta', 'de', 'ka'}\n",
      "ta ka {'co', 'ta', 'de', 'ka'}\n",
      "ta kh {'kh', 'ta'}\n",
      "de cg {'cg', 'de'}\n",
      "de co {'co', 'ta', 'de', 'ka'}\n",
      "de ka {'co', 'ta', 'de', 'ka'}\n",
      "de ta {'co', 'ta', 'de', 'ka'}\n",
      "ub kh {'kh', 'qp', 'ub'}\n",
      "ub qp {'kh', 'qp', 'ub'}\n",
      "ub vc {'vc', 'wq', 'ub'}\n",
      "ub wq {'vc', 'wq', 'ub'}\n",
      "tb cg {'tb', 'cg'}\n",
      "tb ka {'tb', 'ka'}\n",
      "tb vc {'tb', 'vc', 'wq'}\n",
      "tb wq {'tb', 'vc', 'wq'}\n",
      "cg aq {'aq', 'cg', 'yn'}\n",
      "cg de {'cg', 'de'}\n",
      "cg tb {'tb', 'cg'}\n",
      "cg yn {'aq', 'cg', 'yn'}\n",
      "qp kh {'kh', 'qp', 'ub'}\n",
      "qp td {'td', 'qp', 'wh'}\n",
      "qp ub {'kh', 'qp', 'ub'}\n",
      "qp wh {'td', 'qp', 'wh'}\n"
     ]
    }
   ],
   "source": [
    "res_max_set = {}\n",
    "for pc in unique_pc:\n",
    "    connections = connections_dict[pc]\n",
    "    max_set = {}\n",
    "\n",
    "    for i in range(len(connections)):\n",
    "        max_count = 0\n",
    "        temp_count = 2\n",
    "        if connections[i] == pc:\n",
    "            continue\n",
    "        temp_set = set(connections_dict[pc]).intersection(set(connections_dict[connections[i]]))\n",
    "        print(pc, connections[i], temp_set)\n",
    "\n"
   ]
  },
  {
   "cell_type": "code",
   "execution_count": 260,
   "metadata": {},
   "outputs": [
    {
     "data": {
      "text/plain": [
       "{'co', 'tc'}"
      ]
     },
     "execution_count": 260,
     "metadata": {},
     "output_type": "execute_result"
    }
   ],
   "source": [
    "set(connections_dict[\"co\"]).intersection(connections_dict[\"tc\"])"
   ]
  },
  {
   "cell_type": "code",
   "execution_count": 261,
   "metadata": {},
   "outputs": [
    {
     "data": {
      "text/plain": [
       "['co', 'de', 'ka', 'ta', 'tc']"
      ]
     },
     "execution_count": 261,
     "metadata": {},
     "output_type": "execute_result"
    }
   ],
   "source": [
    "connections_dict[\"co\"]"
   ]
  },
  {
   "cell_type": "code",
   "execution_count": 262,
   "metadata": {},
   "outputs": [],
   "source": [
    "def check_biggest_set(check, checked, old_set):\n",
    "    max_len = 0\n",
    "    max_set = {}\n",
    "    new_set = set(connections_dict[checked[-1]]).intersection(connections_dict[check])\n",
    "    if len(new_set) == len(checked):\n",
    "        return new_set\n",
    "    elif len(new_set) <= len(checked):\n",
    "        return {}\n",
    "\n",
    "    connections = connections_dict[check]\n",
    "\n",
    "    for connection in connections:\n",
    "        if connection in checked:\n",
    "            continue\n",
    "        else:\n",
    "            temp_set = check_biggest_set(check, checked + [connection], new_set)\n",
    "            if len(temp_set) > max_len:\n",
    "                max_set = temp_set\n",
    "    return max_set    "
   ]
  },
  {
   "cell_type": "code",
   "execution_count": 263,
   "metadata": {},
   "outputs": [
    {
     "data": {
      "text/plain": [
       "{'co', 'de', 'ka', 'ta'}"
      ]
     },
     "execution_count": 263,
     "metadata": {},
     "output_type": "execute_result"
    }
   ],
   "source": [
    "max_set = {}\n",
    "for pc in unique_pc:\n",
    "    temp_set = check_biggest_set(pc, [pc], connections_dict[pc])\n",
    "    if len(temp_set) > len(max_set):\n",
    "        max_set = temp_set\n",
    "max_set"
   ]
  },
  {
   "cell_type": "code",
   "execution_count": null,
   "metadata": {},
   "outputs": [],
   "source": []
  }
 ],
 "metadata": {
  "kernelspec": {
   "display_name": "Python 3",
   "language": "python",
   "name": "python3"
  },
  "language_info": {
   "codemirror_mode": {
    "name": "ipython",
    "version": 3
   },
   "file_extension": ".py",
   "mimetype": "text/x-python",
   "name": "python",
   "nbconvert_exporter": "python",
   "pygments_lexer": "ipython3",
   "version": "3.10.11"
  }
 },
 "nbformat": 4,
 "nbformat_minor": 2
}
