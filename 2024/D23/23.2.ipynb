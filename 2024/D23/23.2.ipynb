{
 "cells": [
  {
   "cell_type": "code",
   "execution_count": null,
   "metadata": {},
   "outputs": [],
   "source": [
    "with open(\"input23.txt\", \"r\") as file:\n",
    "    data = file.read().splitlines()\n",
    "    data = [item.split(\"-\") for item in data]\n",
    "data"
   ]
  },
  {
   "cell_type": "code",
   "execution_count": null,
   "metadata": {},
   "outputs": [],
   "source": [
    "def flatten_nested_list(nested_list):\n",
    "    result = []\n",
    "    for element in nested_list:\n",
    "        if isinstance(element, list):\n",
    "            result.extend(flatten_nested_list(element))\n",
    "        else:\n",
    "            result.append(element)\n",
    "    return result"
   ]
  },
  {
   "cell_type": "code",
   "execution_count": null,
   "metadata": {},
   "outputs": [],
   "source": [
    "def flatten_nested_tuple(nested_tuple):\n",
    "    result = []\n",
    "    for element in nested_tuple:\n",
    "        if isinstance(element, tuple):\n",
    "            result.extend(flatten_nested_list(element))\n",
    "        else:\n",
    "            result.append(element)\n",
    "    return result"
   ]
  },
  {
   "cell_type": "code",
   "execution_count": null,
   "metadata": {},
   "outputs": [],
   "source": [
    "unique_pc = list(set(flatten_nested_list(data)))"
   ]
  },
  {
   "cell_type": "code",
   "execution_count": null,
   "metadata": {},
   "outputs": [],
   "source": [
    "def find_connec(dat, start_pc):\n",
    "    res = []\n",
    "    for i in range(len(dat)):\n",
    "        #print(last_pc)\n",
    "        if start_pc == dat[i][0]:\n",
    "            res.append(dat[i][1])\n",
    "\n",
    "        elif start_pc == dat[i][1]:\n",
    "            res.append(dat[i][0])\n",
    "    #res = flatten_nested_list(res)\n",
    "    #res = list(set(res))\n",
    "    return res"
   ]
  },
  {
   "cell_type": "code",
   "execution_count": null,
   "metadata": {},
   "outputs": [],
   "source": [
    "connections_dict = {}\n",
    "for pc in unique_pc:\n",
    "    connections = find_connec(data, pc) + [pc]\n",
    "    connections = sorted(connections)\n",
    "    connections_dict[pc] = connections"
   ]
  },
  {
   "cell_type": "code",
   "execution_count": null,
   "metadata": {},
   "outputs": [],
   "source": [
    "res_max_set = {}\n",
    "for pc in unique_pc:\n",
    "    connections = connections_dict[pc]\n",
    "    max_set = {}\n",
    "\n",
    "    for i in range(len(connections)):\n",
    "        max_count = 0\n",
    "        temp_count = 2\n",
    "        if connections[i] == pc:\n",
    "            continue\n",
    "        temp_set = set(connections_dict[pc]).intersection(set(connections_dict[connections[i]]))\n",
    "        print(pc, connections[i], temp_set)\n",
    "\n"
   ]
  },
  {
   "cell_type": "code",
   "execution_count": null,
   "metadata": {},
   "outputs": [],
   "source": [
    "set(connections_dict[\"co\"]).intersection(connections_dict[\"tc\"])"
   ]
  },
  {
   "cell_type": "code",
   "execution_count": null,
   "metadata": {},
   "outputs": [],
   "source": [
    "connections_dict[\"co\"]"
   ]
  },
  {
   "cell_type": "code",
   "execution_count": null,
   "metadata": {},
   "outputs": [],
   "source": [
    "def check_biggest_set(check, checked, old_set):\n",
    "    max_len = 0\n",
    "    max_set = {}\n",
    "    new_set = set(connections_dict[checked[-1]]).intersection(connections_dict[check])\n",
    "    if len(new_set) == len(checked):\n",
    "        return new_set\n",
    "    elif len(new_set) <= len(checked):\n",
    "        return {}\n",
    "\n",
    "    connections = connections_dict[check]\n",
    "\n",
    "    for connection in connections:\n",
    "        if connection in checked:\n",
    "            continue\n",
    "        else:\n",
    "            temp_set = check_biggest_set(check, checked + [connection], new_set)\n",
    "            if len(temp_set) > max_len:\n",
    "                max_set = temp_set\n",
    "    return max_set    "
   ]
  },
  {
   "cell_type": "code",
   "execution_count": null,
   "metadata": {},
   "outputs": [],
   "source": [
    "max_set = {}\n",
    "for pc in unique_pc:\n",
    "    temp_set = check_biggest_set(pc, [pc], connections_dict[pc])\n",
    "    if len(temp_set) > len(max_set):\n",
    "        max_set = temp_set\n",
    "max_set"
   ]
  },
  {
   "cell_type": "code",
   "execution_count": null,
   "metadata": {},
   "outputs": [],
   "source": []
  }
 ],
 "metadata": {
  "kernelspec": {
   "display_name": "Python 3",
   "language": "python",
   "name": "python3"
  },
  "language_info": {
   "codemirror_mode": {
    "name": "ipython",
    "version": 3
   },
   "file_extension": ".py",
   "mimetype": "text/x-python",
   "name": "python",
   "nbconvert_exporter": "python",
   "pygments_lexer": "ipython3",
   "version": "3.10.11"
  }
 },
 "nbformat": 4,
 "nbformat_minor": 2
}
