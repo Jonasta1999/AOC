{
 "cells": [
  {
   "cell_type": "code",
   "execution_count": null,
   "metadata": {},
   "outputs": [],
   "source": [
    "import re\n",
    "import numpy as np"
   ]
  },
  {
   "cell_type": "code",
   "execution_count": null,
   "metadata": {},
   "outputs": [],
   "source": [
    "with open(\"input8.txt\") as file:\n",
    "    data = file.read().splitlines()"
   ]
  },
  {
   "cell_type": "code",
   "execution_count": null,
   "metadata": {},
   "outputs": [],
   "source": [
    "n = len(data)\n",
    "m = len(data[0])\n",
    "\n",
    "antinode_map = [\".\" * n for i in range(m)]"
   ]
  },
  {
   "cell_type": "code",
   "execution_count": null,
   "metadata": {},
   "outputs": [],
   "source": [
    "unique_freq = list(set(\"\".join(data)))\n",
    "unique_freq.remove(\".\")"
   ]
  },
  {
   "cell_type": "code",
   "execution_count": null,
   "metadata": {},
   "outputs": [],
   "source": [
    "def find_same_freq_coordinates(data, freq):\n",
    "    coordinates = []\n",
    "    for i in range(len(data)):\n",
    "        regex = list(re.finditer(freq, data[i]))\n",
    "        if regex:\n",
    "            coordinates.append([(i, item.start()) for item in regex])\n",
    "\n",
    "    coordinates = [item for row in coordinates for item in row]\n",
    "    return coordinates\n"
   ]
  },
  {
   "cell_type": "code",
   "execution_count": null,
   "metadata": {},
   "outputs": [],
   "source": [
    "def repeat_until_limit(coor, diff, limit, antinodes):\n",
    "    res = []\n",
    "    i = 0\n",
    "    diff2 = np.array(diff)*i\n",
    "    while (\n",
    "        coor[0] - diff2[0] >= 0 and\n",
    "        coor[1] - diff2[1] >= 0 and\n",
    "        limit > coor[0] - diff2[0] and\n",
    "        limit > coor[1] - diff2[1]\n",
    "        ):\n",
    "        antinodes[coor[0] - diff2[0]] = antinodes[coor[0] - diff2[0]][:coor[1] - diff2[1]] + \"#\" + antinodes[coor[0] - diff2[0]][coor[1] - diff2[1]+1:]\n",
    "        i += 1\n",
    "        diff2 = np.array(diff)*i\n",
    "    return antinodes"
   ]
  },
  {
   "cell_type": "code",
   "execution_count": null,
   "metadata": {},
   "outputs": [],
   "source": [
    "def find_all_antinodes(data, coor, antinodes):\n",
    "    n = len(data)\n",
    "    m = len(data[0])\n",
    "\n",
    "    for i in range(len(coor)):\n",
    "        for j in range(len(coor)):\n",
    "            if i == j:\n",
    "                continue\n",
    "            x1, y1 = coor[i]\n",
    "            x2, y2 = coor[j]\n",
    "            \n",
    "            diffx = x2-x1\n",
    "            diffy = y2-y1\n",
    "            \n",
    "            antinodes = repeat_until_limit(coor[i], (diffx, diffy), n, antinodes)\n",
    "    return(antinodes)"
   ]
  },
  {
   "cell_type": "code",
   "execution_count": null,
   "metadata": {},
   "outputs": [],
   "source": [
    "for freq in unique_freq:\n",
    "    coordinates = find_same_freq_coordinates(data, freq)\n",
    "    antinode_map = find_all_antinodes(data, coordinates, antinode_map)\n",
    "len([item for item in \"\".join(antinode_map) if item != \".\"])"
   ]
  }
 ],
 "metadata": {
  "kernelspec": {
   "display_name": "Python 3",
   "language": "python",
   "name": "python3"
  },
  "language_info": {
   "codemirror_mode": {
    "name": "ipython",
    "version": 3
   },
   "file_extension": ".py",
   "mimetype": "text/x-python",
   "name": "python",
   "nbconvert_exporter": "python",
   "pygments_lexer": "ipython3",
   "version": "3.10.11"
  }
 },
 "nbformat": 4,
 "nbformat_minor": 2
}
