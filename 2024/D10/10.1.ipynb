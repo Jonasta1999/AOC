{
 "cells": [
  {
   "cell_type": "code",
   "execution_count": null,
   "metadata": {},
   "outputs": [],
   "source": [
    "import numpy as np"
   ]
  },
  {
   "cell_type": "code",
   "execution_count": null,
   "metadata": {},
   "outputs": [],
   "source": [
    "with open(\"input10.txt\") as file:\n",
    "    data = file.read().splitlines()\n",
    "    data = [list(map(int, list(item))) for item in data]\n",
    "    data = np.asmatrix(data)"
   ]
  },
  {
   "cell_type": "code",
   "execution_count": null,
   "metadata": {},
   "outputs": [],
   "source": [
    "direc = {0: (0,1),\n",
    "         1: (1,0),\n",
    "         2: (0,-1),\n",
    "         3: (-1,0)}"
   ]
  },
  {
   "cell_type": "code",
   "execution_count": null,
   "metadata": {},
   "outputs": [],
   "source": [
    "def find_trail_head_score(data, i, j):\n",
    "    end_point = []\n",
    "    if data[i, j] == 9:\n",
    "        return i, j\n",
    "\n",
    "    for index in range(4):\n",
    "        ind1, ind2 = direc[index]\n",
    "        ind1 += i\n",
    "        ind2 += j\n",
    "\n",
    "        if (ind1 >= 0 and \n",
    "            ind2 >= 0 and \n",
    "            data.shape[0] > ind1 and\n",
    "            data.shape[1] > ind2):\n",
    "            if data[i, j]+1 == data[ind1, ind2]:\n",
    "                end_point.append(find_trail_head_score(data, ind1, ind2))\n",
    "    return end_point"
   ]
  },
  {
   "cell_type": "code",
   "execution_count": null,
   "metadata": {},
   "outputs": [],
   "source": [
    "def flatten_nested_list(nested_list):\n",
    "    result = []\n",
    "    for element in nested_list:\n",
    "        if isinstance(element, list):\n",
    "            result.extend(flatten_nested_list(element))\n",
    "        else:\n",
    "            result.append(element)\n",
    "    return result"
   ]
  },
  {
   "cell_type": "code",
   "execution_count": null,
   "metadata": {},
   "outputs": [],
   "source": [
    "n, m = data.shape\n",
    "count = 0\n",
    "for i in range(n):\n",
    "    for j in range(m):\n",
    "        if data[i, j] == 0: \n",
    "            trails = find_trail_head_score(data, i, j)\n",
    "            trail_score = len(list(set(flatten_nested_list(trails))))\n",
    "            count += trail_score\n"
   ]
  },
  {
   "cell_type": "code",
   "execution_count": null,
   "metadata": {},
   "outputs": [],
   "source": [
    "count"
   ]
  }
 ],
 "metadata": {
  "kernelspec": {
   "display_name": "Python 3",
   "language": "python",
   "name": "python3"
  },
  "language_info": {
   "codemirror_mode": {
    "name": "ipython",
    "version": 3
   },
   "file_extension": ".py",
   "mimetype": "text/x-python",
   "name": "python",
   "nbconvert_exporter": "python",
   "pygments_lexer": "ipython3",
   "version": "3.10.11"
  }
 },
 "nbformat": 4,
 "nbformat_minor": 2
}
