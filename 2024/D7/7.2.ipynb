{
 "cells": [
  {
   "cell_type": "code",
   "execution_count": 210,
   "metadata": {},
   "outputs": [],
   "source": [
    "with open(\"input7.txt\") as file:\n",
    "    data = file.read().splitlines()\n",
    "    values = [int(item.split(\": \")[0]) for item in data]\n",
    "    numbers = [list(map(int, item.split(\": \")[1].split(\" \"))) for item in data]"
   ]
  },
  {
   "cell_type": "code",
   "execution_count": 211,
   "metadata": {},
   "outputs": [],
   "source": [
    "def check_equation(val, nums, prev):\n",
    "    if len(nums) == 1:\n",
    "        val1 = prev + nums[0]\n",
    "        val2 = prev * nums[0]\n",
    "        val3 = int(str(prev) + str(nums[0]))\n",
    "        if val1 == val or val2 == val or val3 == val:\n",
    "            return True\n",
    "    elif len(nums) > 0:\n",
    "        concat = int(str(prev) + str(nums[0]))\n",
    "        if check_equation(val, nums[1:], prev + nums[0]):\n",
    "            return True\n",
    "        elif check_equation(val, nums[1:], prev * nums[0]):\n",
    "            return True\n",
    "        elif check_equation(val, nums[1:], concat):\n",
    "            return True\n"
   ]
  },
  {
   "cell_type": "code",
   "execution_count": 212,
   "metadata": {},
   "outputs": [
    {
     "data": {
      "text/plain": [
       "37598910447546"
      ]
     },
     "execution_count": 212,
     "metadata": {},
     "output_type": "execute_result"
    }
   ],
   "source": [
    "res = 0\n",
    "for i in range(len(numbers)):\n",
    "    if check_equation(values[i], numbers[i], 0):\n",
    "        res += values[i]\n",
    "res"
   ]
  }
 ],
 "metadata": {
  "kernelspec": {
   "display_name": "Python 3",
   "language": "python",
   "name": "python3"
  },
  "language_info": {
   "codemirror_mode": {
    "name": "ipython",
    "version": 3
   },
   "file_extension": ".py",
   "mimetype": "text/x-python",
   "name": "python",
   "nbconvert_exporter": "python",
   "pygments_lexer": "ipython3",
   "version": "3.10.11"
  }
 },
 "nbformat": 4,
 "nbformat_minor": 2
}
