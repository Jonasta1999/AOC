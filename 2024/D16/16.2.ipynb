{
 "cells": [
  {
   "cell_type": "code",
   "execution_count": 108,
   "metadata": {},
   "outputs": [],
   "source": [
    "import numpy as np"
   ]
  },
  {
   "cell_type": "code",
   "execution_count": 109,
   "metadata": {},
   "outputs": [
    {
     "name": "stdout",
     "output_type": "stream",
     "text": [
      "[['#' '#' '#' ... '#' '#' '#']\n",
      " ['#' '.' '.' ... '.' 'E' '#']\n",
      " ['#' '.' '#' ... '#' '.' '#']\n",
      " ...\n",
      " ['#' '.' '#' ... '#' '.' '#']\n",
      " ['#' 'S' '.' ... '.' '.' '#']\n",
      " ['#' '#' '#' ... '#' '#' '#']]\n"
     ]
    }
   ],
   "source": [
    "with open(\"input16.txt\", \"r\") as file:\n",
    "    data = file.read().splitlines()\n",
    "    data = [list(item) for item in data]\n",
    "    data = np.asmatrix(data)\n",
    "print(data)"
   ]
  },
  {
   "cell_type": "code",
   "execution_count": 110,
   "metadata": {},
   "outputs": [],
   "source": [
    "def get(node, maze = data):\n",
    "    res = []\n",
    "    direcs = [(-1, 0), (0, 1), (1, 0), (0, -1)]\n",
    "    for i in range(4):\n",
    "        new_coord = (node[0]+direcs[i][0], node[1]+direcs[i][1])\n",
    "        if maze[new_coord] == \".\" or maze[new_coord] == \"E\":\n",
    "            res.append(new_coord)\n",
    "    return res"
   ]
  },
  {
   "cell_type": "code",
   "execution_count": 111,
   "metadata": {},
   "outputs": [],
   "source": [
    "def find_start_end(maze):\n",
    "    n, m = maze.shape\n",
    "\n",
    "    for i in range(n):\n",
    "        for j in range(m):\n",
    "            if maze[i, j] == \"S\":\n",
    "                start = (i, j)\n",
    "            elif maze[i, j] == \"E\":\n",
    "                end = (i, j)\n",
    "    return start, end\n",
    "\n"
   ]
  },
  {
   "cell_type": "code",
   "execution_count": 112,
   "metadata": {},
   "outputs": [],
   "source": [
    "def bfs2(start, end, maze):\n",
    "    n, m = maze.shape\n",
    "    q = []\n",
    "    q_score = []\n",
    "    q.append([start])\n",
    "    q_score.append(0)\n",
    "    result = []\n",
    "    visited = np.full((n, m), 0)\n",
    "\n",
    "    while q:\n",
    "        current_path = q.pop(0)\n",
    "        current_score = q_score.pop(0)\n",
    "        node = current_path[-1]\n",
    "            \n",
    "        if visited[node]!=0:\n",
    "            if visited[node] >= current_score:\n",
    "                visited[node] = current_score     \n",
    "            else:\n",
    "                continue\n",
    "        else:\n",
    "            visited[node] = current_score\n",
    "\n",
    "        if len(current_path) > 2:\n",
    "            prev_node = current_path[-2]\n",
    "            prev_prev_node = current_path[-3]\n",
    "            x_diff = node[0] - prev_node[0]\n",
    "            y_diff = node[1] - prev_node[1]\n",
    "            prev_x_diff = prev_node[0] - prev_prev_node[0]\n",
    "            prev_y_diff = prev_node[1] - prev_prev_node[1]\n",
    "\n",
    "            if x_diff != prev_x_diff and y_diff != prev_y_diff:\n",
    "                visited[prev_node] += 1000\n",
    "            current_score += 1\n",
    "            \n",
    "        neighbours = get(node)\n",
    "        for next in neighbours:\n",
    "            if next not in current_path:\n",
    "                temp_path = current_path.copy()\n",
    "                temp_path.append(next)\n",
    "\n",
    "                if next == end:\n",
    "                    result.append(temp_path)\n",
    "                else:\n",
    "                    q.append(temp_path)\n",
    "                    q_score.append(current_score)\n",
    "    return result\n",
    "    "
   ]
  },
  {
   "cell_type": "code",
   "execution_count": 113,
   "metadata": {},
   "outputs": [],
   "source": [
    "def bfs2(start, end, maze):\n",
    "    n, m = maze.shape\n",
    "    q = []\n",
    "    q_score = []\n",
    "    q.append([start])\n",
    "    q_score.append(0)\n",
    "    max_len = 0\n",
    "\n",
    "    result = []\n",
    "\n",
    "    visited = np.full((n, m), 0)\n",
    "\n",
    "    while q:\n",
    "        max_len = max(max_len, len(q))\n",
    "        current_path = q.pop(0)\n",
    "        current_score = q_score.pop(0)\n",
    "        node = current_path[-1]\n",
    "        if visited[node]!=0:\n",
    "            if visited[node] >= current_score:\n",
    "                visited[node] = current_score     \n",
    "            else:\n",
    "                continue\n",
    "        else:\n",
    "            visited[node] = current_score\n",
    "\n",
    "        neighbours = get(node)\n",
    "        for next in neighbours:\n",
    "            if next not in current_path:\n",
    "                temp_score = current_score\n",
    "                if len(current_path) > 2:\n",
    "                    prev_node = current_path[-2]\n",
    "                    x_diff = next[0] - node[0]\n",
    "                    y_diff = next[1] - node[1]\n",
    "                    prev_x_diff = node[0] - prev_node[0]\n",
    "                    prev_y_diff = node[1] - prev_node[1]\n",
    "\n",
    "                    if x_diff != prev_x_diff and y_diff != prev_y_diff:\n",
    "                        visited[node] += 1000\n",
    "                        temp_score += 1001\n",
    "                    else:\n",
    "                        visited[node] += 1\n",
    "                        temp_score += 1\n",
    "                temp_path = current_path.copy()\n",
    "                temp_path.append(next)\n",
    "\n",
    "                if next == end:\n",
    "                    result.append(temp_path)\n",
    "                else:\n",
    "                    q.append(temp_path)\n",
    "                    q_score.append(temp_score)\n",
    "    return result\n",
    "    "
   ]
  },
  {
   "cell_type": "code",
   "execution_count": 114,
   "metadata": {},
   "outputs": [],
   "source": [
    "start, end = find_start_end(data)\n",
    "paths = bfs2(start, end, data)"
   ]
  },
  {
   "cell_type": "code",
   "execution_count": 117,
   "metadata": {},
   "outputs": [],
   "source": [
    "min_score = 99999999999999999999999999\n",
    "new_best_path = []\n",
    "scores = []\n",
    "for path in paths:\n",
    "    temp_score = 0\n",
    "    for i in range(len(path)):\n",
    "        x, y = path[i]\n",
    "        if i == 0:\n",
    "            prev_x, prev_y = x, y\n",
    "        elif i == 1:\n",
    "            prev_x_diff = x - prev_x\n",
    "            prev_y_diff = y - prev_y\n",
    "            prev_x = x\n",
    "            prev_y = y\n",
    "            temp_score += 1\n",
    "        else:\n",
    "            x_diff = x - prev_x\n",
    "            y_diff = y - prev_y\n",
    "            if x_diff != prev_x_diff and y_diff != prev_y_diff:\n",
    "                temp_score += 1001\n",
    "            else:\n",
    "                temp_score += 1\n",
    "            prev_x, prev_y = x, y\n",
    "            prev_x_diff, prev_y_diff = x_diff, y_diff\n",
    "    scores.append(temp_score)\n",
    "    min_score = min(temp_score, min_score)\n",
    "\n",
    "for i, path in enumerate(paths):\n",
    "    if min_score == scores[i]:\n",
    "        new_best_path.append(path)"
   ]
  },
  {
   "cell_type": "code",
   "execution_count": 118,
   "metadata": {},
   "outputs": [
    {
     "data": {
      "text/plain": [
       "90460"
      ]
     },
     "execution_count": 118,
     "metadata": {},
     "output_type": "execute_result"
    }
   ],
   "source": [
    "min_score+1000"
   ]
  },
  {
   "cell_type": "code",
   "execution_count": 122,
   "metadata": {},
   "outputs": [
    {
     "data": {
      "text/plain": [
       "480"
      ]
     },
     "execution_count": 122,
     "metadata": {},
     "output_type": "execute_result"
    },
    {
     "ename": "",
     "evalue": "",
     "output_type": "error",
     "traceback": [
      "\u001b[1;31mThe Kernel crashed while executing code in the current cell or a previous cell. \n",
      "\u001b[1;31mPlease review the code in the cell(s) to identify a possible cause of the failure. \n",
      "\u001b[1;31mClick <a href='https://aka.ms/vscodeJupyterKernelCrash'>here</a> for more info. \n",
      "\u001b[1;31mView Jupyter <a href='command:jupyter.viewOutput'>log</a> for further details."
     ]
    }
   ],
   "source": [
    "len(new_best_path)"
   ]
  },
  {
   "cell_type": "code",
   "execution_count": 120,
   "metadata": {},
   "outputs": [
    {
     "data": {
      "text/plain": [
       "575"
      ]
     },
     "execution_count": 120,
     "metadata": {},
     "output_type": "execute_result"
    }
   ],
   "source": [
    "sum = 0\n",
    "new_map = data.copy()\n",
    "for ind, path in enumerate(new_best_path):\n",
    "    for i in path:\n",
    "        if new_map[i] != \"O\":\n",
    "            new_map[i] = \"O\"\n",
    "            sum += 1\n",
    "sum\n"
   ]
  },
  {
   "cell_type": "code",
   "execution_count": 121,
   "metadata": {},
   "outputs": [],
   "source": [
    "n, m = data.shape\n",
    "res = \"\"\n",
    "for i in range(n):\n",
    "    for j in range(m):\n",
    "        res += new_map[i,j]\n",
    "    res += \"\\n\"\n",
    "\n",
    "with open(f\"filenew.txt\", \"w\") as f:\n",
    "    f.write(res)"
   ]
  },
  {
   "cell_type": "code",
   "execution_count": null,
   "metadata": {},
   "outputs": [],
   "source": []
  }
 ],
 "metadata": {
  "kernelspec": {
   "display_name": "Python 3",
   "language": "python",
   "name": "python3"
  },
  "language_info": {
   "codemirror_mode": {
    "name": "ipython",
    "version": 3
   },
   "file_extension": ".py",
   "mimetype": "text/x-python",
   "name": "python",
   "nbconvert_exporter": "python",
   "pygments_lexer": "ipython3",
   "version": "3.10.11"
  }
 },
 "nbformat": 4,
 "nbformat_minor": 2
}
