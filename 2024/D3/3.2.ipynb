{
 "cells": [
  {
   "cell_type": "code",
   "execution_count": 25,
   "metadata": {},
   "outputs": [],
   "source": [
    "import re"
   ]
  },
  {
   "cell_type": "code",
   "execution_count": 26,
   "metadata": {},
   "outputs": [],
   "source": [
    "with open('input3.txt') as f:\n",
    "    data = f.read()"
   ]
  },
  {
   "cell_type": "code",
   "execution_count": 27,
   "metadata": {},
   "outputs": [],
   "source": [
    "dos_donts = list(re.finditer(\"do\\(\\)|don't\\(\\)\", data))"
   ]
  },
  {
   "cell_type": "code",
   "execution_count": 28,
   "metadata": {},
   "outputs": [],
   "source": [
    "intervals = [[0]]\n",
    "is_active = True\n",
    "for item in dos_donts:\n",
    "    if is_active and item.group() == \"don't()\":\n",
    "        intervals[-1].append(item.end())\n",
    "        is_active = False\n",
    "    elif not is_active and item.group() == \"do()\":\n",
    "        intervals.append([item.start()])\n",
    "        is_active = True"
   ]
  },
  {
   "cell_type": "code",
   "execution_count": 29,
   "metadata": {},
   "outputs": [],
   "source": [
    "new_data = \"\"\n",
    "for index in intervals:\n",
    "    new_data += data[index[0]:index[1]]"
   ]
  },
  {
   "cell_type": "code",
   "execution_count": 30,
   "metadata": {},
   "outputs": [],
   "source": [
    "x = re.findall(\"mul\\(\\d{1,3},\\d{1,3}\\)\", new_data)\n",
    "sum = 0\n",
    "for multi in x:\n",
    "    num1 = int(re.findall(\"(?<=\\()\\d{1,3}\", multi)[0])\n",
    "    num2 = int(re.findall(\"\\d{1,3}(?=\\))\", multi)[0])\n",
    "    sum += num1 * num2"
   ]
  },
  {
   "cell_type": "code",
   "execution_count": 31,
   "metadata": {},
   "outputs": [
    {
     "data": {
      "text/plain": [
       "78683433"
      ]
     },
     "execution_count": 31,
     "metadata": {},
     "output_type": "execute_result"
    }
   ],
   "source": [
    "sum"
   ]
  }
 ],
 "metadata": {
  "kernelspec": {
   "display_name": "Python 3",
   "language": "python",
   "name": "python3"
  },
  "language_info": {
   "codemirror_mode": {
    "name": "ipython",
    "version": 3
   },
   "file_extension": ".py",
   "mimetype": "text/x-python",
   "name": "python",
   "nbconvert_exporter": "python",
   "pygments_lexer": "ipython3",
   "version": "3.10.11"
  },
  "orig_nbformat": 4
 },
 "nbformat": 4,
 "nbformat_minor": 2
}
