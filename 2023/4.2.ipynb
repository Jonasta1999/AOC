{
 "cells": [
  {
   "cell_type": "code",
   "execution_count": null,
   "metadata": {},
   "outputs": [],
   "source": [
    "import re\n",
    "import numpy as np"
   ]
  },
  {
   "cell_type": "code",
   "execution_count": null,
   "metadata": {},
   "outputs": [],
   "source": [
    "with open('input4.txt') as f:\n",
    "    data = f.read().splitlines()"
   ]
  },
  {
   "cell_type": "code",
   "execution_count": null,
   "metadata": {},
   "outputs": [],
   "source": [
    "n = len(data)\n",
    "\n",
    "# Split the list\n",
    "for i in range(n):\n",
    "    data[i] = re.split(\":|\\|\", data[i])\n",
    "\n",
    "    # Seperate the numbers into a list\n",
    "    for j in range(1,3):\n",
    "        data[i][j] = re.split(\" \", data[i][j])\n",
    "        data[i][j] = list(filter(None, data[i][j]))\n"
   ]
  },
  {
   "cell_type": "code",
   "execution_count": null,
   "metadata": {},
   "outputs": [],
   "source": [
    "# Initialize list of ones\n",
    "count = np.ones(n)\n"
   ]
  },
  {
   "cell_type": "code",
   "execution_count": null,
   "metadata": {},
   "outputs": [],
   "source": [
    "count = np.ones(n)\n",
    "my_nums_len = len(data[i][2])\n",
    "\n",
    "for i in range(n):\n",
    "    score_temp = 0\n",
    "\n",
    "    for j in range(my_nums_len):\n",
    "        if data[i][2][j] in data[i][1]:\n",
    "            score_temp += 1\n",
    "\n",
    "    count[i+1:i+score_temp+1] = count[i+1:i+score_temp+1] + count[i]\n",
    "\n",
    "int(sum(count))"
   ]
  }
 ],
 "metadata": {
  "kernelspec": {
   "display_name": "Python 3.9.6 64-bit",
   "language": "python",
   "name": "python3"
  },
  "language_info": {
   "codemirror_mode": {
    "name": "ipython",
    "version": 3
   },
   "file_extension": ".py",
   "mimetype": "text/x-python",
   "name": "python",
   "nbconvert_exporter": "python",
   "pygments_lexer": "ipython3",
   "version": "3.9.6"
  },
  "vscode": {
   "interpreter": {
    "hash": "aee8b7b246df8f9039afb4144a1f6fd8d2ca17a180786b69acc140d282b71a49"
   }
  }
 },
 "nbformat": 4,
 "nbformat_minor": 2
}
