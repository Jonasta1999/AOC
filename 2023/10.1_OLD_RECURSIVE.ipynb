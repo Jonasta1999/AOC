{
 "cells": [
  {
   "cell_type": "code",
   "execution_count": null,
   "metadata": {},
   "outputs": [],
   "source": [
    "import numpy as np\n",
    "import sys"
   ]
  },
  {
   "cell_type": "code",
   "execution_count": null,
   "metadata": {},
   "outputs": [],
   "source": [
    "sys.setrecursionlimit(10**2)"
   ]
  },
  {
   "cell_type": "code",
   "execution_count": null,
   "metadata": {},
   "outputs": [],
   "source": [
    "with open('input10.txt') as f:\n",
    "    data = f.read()\n",
    "mat = data.splitlines()\n",
    "mat = list(map(list, mat))\n",
    "mat = np.matrix(mat)\n",
    "print(mat)"
   ]
  },
  {
   "cell_type": "code",
   "execution_count": null,
   "metadata": {},
   "outputs": [],
   "source": [
    "def find_start(data):\n",
    "    n, m = data.shape\n",
    "    for i in range(n):\n",
    "        for j in range(m):\n",
    "            if data[i,j] == \"S\":\n",
    "                return(i,j)"
   ]
  },
  {
   "cell_type": "code",
   "execution_count": null,
   "metadata": {},
   "outputs": [],
   "source": [
    "directions = [(-1,0), (0,1), (1,0), (0,-1)]"
   ]
  },
  {
   "cell_type": "code",
   "execution_count": null,
   "metadata": {},
   "outputs": [],
   "source": [
    "direc_pipe = {0: [\"|\", \"7\", \"F\"], 1: [\"-\", \"J\", \"7\"], 2: [\"|\", \"L\", \"J\"], 3: [\"-\", \"F\", \"L\"]}\n",
    "cur_pipe_direc = {\"|\": [(-1,0), (1,0)], \"7\": [(0,-1), (1,0)], \"F\": [(1,0), (0,1)], \"-\": [(0,-1), (0,1)], \"J\": [(-1,0), (0,-1)], \"L\": [(-1,0), (0,1)]}"
   ]
  },
  {
   "cell_type": "code",
   "execution_count": null,
   "metadata": {},
   "outputs": [],
   "source": [
    "def is_valid_index(data, x, y):\n",
    "    return 0 <= x < data.shape[0] and 0 <= y < data.shape[1]"
   ]
  },
  {
   "cell_type": "code",
   "execution_count": null,
   "metadata": {},
   "outputs": [],
   "source": [
    "def find_loop(data, row, col, n, prev_x, prev_y):\n",
    "    res = []\n",
    "    for i in range(4):\n",
    "        x, y = np.array((row, col)) + np.array(directions[i])\n",
    "        if is_valid_index(data, x, y):\n",
    "            if data[x,y] == \"S\" and n > 2 and directions[i] in cur_pipe_direc[data[row,col]]:\n",
    "                print(\"FINAL\", \"n:\", n)\n",
    "                return(n)\n",
    "\n",
    "            elif data[x,y] in direc_pipe[i] and (x,y) != (prev_x, prev_y):\n",
    "                res.append((x,y))\n",
    "\n",
    "    if len(res) == 1:\n",
    "        print(\"LEN 1\", res[0], \"n:\", n)\n",
    "        return(find_loop(data, res[0][0], res[0][1], n+1, row, col))\n",
    "\n",
    "    else:\n",
    "        for i in range(len(res)):\n",
    "            print(\"LOOP:\", i, res[i], \"n:\", n)\n",
    "            result = find_loop(data, res[i][0], res[i][1], n+1, row, col)\n",
    "            if result:\n",
    "                return(result)\n",
    "        \n"
   ]
  },
  {
   "cell_type": "code",
   "execution_count": null,
   "metadata": {},
   "outputs": [],
   "source": [
    "row, col = find_start(mat)\n",
    "row,col"
   ]
  },
  {
   "cell_type": "code",
   "execution_count": null,
   "metadata": {},
   "outputs": [],
   "source": [
    "print(find_loop(mat, row, col, 1, row, col))"
   ]
  }
 ],
 "metadata": {
  "kernelspec": {
   "display_name": "Python 3.9.6 64-bit",
   "language": "python",
   "name": "python3"
  },
  "language_info": {
   "codemirror_mode": {
    "name": "ipython",
    "version": 3
   },
   "file_extension": ".py",
   "mimetype": "text/x-python",
   "name": "python",
   "nbconvert_exporter": "python",
   "pygments_lexer": "ipython3",
   "version": "3.9.6"
  },
  "vscode": {
   "interpreter": {
    "hash": "aee8b7b246df8f9039afb4144a1f6fd8d2ca17a180786b69acc140d282b71a49"
   }
  }
 },
 "nbformat": 4,
 "nbformat_minor": 2
}
