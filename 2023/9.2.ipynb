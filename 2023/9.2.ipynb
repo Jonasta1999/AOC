{
 "cells": [
  {
   "cell_type": "code",
   "execution_count": null,
   "metadata": {},
   "outputs": [],
   "source": [
    "import numpy as np"
   ]
  },
  {
   "cell_type": "code",
   "execution_count": null,
   "metadata": {},
   "outputs": [],
   "source": [
    "with open('input9.txt') as f:\n",
    "    data = f.read().splitlines()\n",
    "\n",
    "data = [sec.split(\" \") for sec in data]\n",
    "for i in range(len(data)):\n",
    "    data[i] = [int(num) for num in data[i]]"
   ]
  },
  {
   "cell_type": "code",
   "execution_count": null,
   "metadata": {},
   "outputs": [],
   "source": [
    "def diff(x, n):\n",
    "    seq = np.diff(x, n)\n",
    "    iszero = [item == 0 for item in seq]\n",
    "    if all(iszero):\n",
    "        return(0)\n",
    "    else:\n",
    "        return(seq[0] - diff(x, n + 1))"
   ]
  },
  {
   "cell_type": "code",
   "execution_count": null,
   "metadata": {},
   "outputs": [],
   "source": [
    "n = len(data)\n",
    "res = []\n",
    "\n",
    "for i in range(n):\n",
    "    res.append(diff(data[i], 0))\n",
    "    \n",
    "sum(res)"
   ]
  },
  {
   "cell_type": "code",
   "execution_count": null,
   "metadata": {},
   "outputs": [],
   "source": []
  }
 ],
 "metadata": {
  "kernelspec": {
   "display_name": "Python 3.9.6 64-bit",
   "language": "python",
   "name": "python3"
  },
  "language_info": {
   "codemirror_mode": {
    "name": "ipython",
    "version": 3
   },
   "file_extension": ".py",
   "mimetype": "text/x-python",
   "name": "python",
   "nbconvert_exporter": "python",
   "pygments_lexer": "ipython3",
   "version": "3.9.6"
  },
  "vscode": {
   "interpreter": {
    "hash": "aee8b7b246df8f9039afb4144a1f6fd8d2ca17a180786b69acc140d282b71a49"
   }
  }
 },
 "nbformat": 4,
 "nbformat_minor": 2
}
