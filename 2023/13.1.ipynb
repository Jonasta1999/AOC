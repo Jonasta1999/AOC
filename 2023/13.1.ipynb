{
 "cells": [
  {
   "cell_type": "code",
   "execution_count": 246,
   "metadata": {},
   "outputs": [],
   "source": [
    "import numpy as np"
   ]
  },
  {
   "cell_type": "code",
   "execution_count": 247,
   "metadata": {},
   "outputs": [],
   "source": [
    "with open('input13.txt') as f:\n",
    "    data = f.read().split(\"\\n\\n\")\n",
    "\n",
    "data = [sec.splitlines() for sec in data]\n",
    "data = [np.matrix([list(innersec) for innersec in sec]) for sec in data]"
   ]
  },
  {
   "cell_type": "code",
   "execution_count": 248,
   "metadata": {},
   "outputs": [],
   "source": [
    "def reflection(data):\n",
    "    n, m = data.shape\n",
    "\n",
    "    for i in range(1,n):\n",
    "        inter = min(i, n - i)\n",
    "        if np.array_equal(data[max(0,i-inter):i, :], np.flip(data[i:min(n, i+inter), :], 0)):\n",
    "            #print(\"Row\")\n",
    "            return(i*100)\n",
    "\n",
    "    for i in range(1,m):\n",
    "        inter = min(i, m - i)\n",
    "        if np.array_equal(data[:, max(0,i-inter):i], np.flip(data[:, i:min(m, i+inter)], 1)):\n",
    "            #print(\"Col\")\n",
    "            return(i)\n"
   ]
  },
  {
   "cell_type": "code",
   "execution_count": 249,
   "metadata": {},
   "outputs": [
    {
     "data": {
      "text/plain": [
       "34772"
      ]
     },
     "execution_count": 249,
     "metadata": {},
     "output_type": "execute_result"
    }
   ],
   "source": [
    "h = len(data)\n",
    "res = []\n",
    "\n",
    "for l in range(h):\n",
    "    res.append(reflection(data[l]))\n",
    "\n",
    "sum(res)"
   ]
  }
 ],
 "metadata": {
  "kernelspec": {
   "display_name": "Python 3.9.6 64-bit",
   "language": "python",
   "name": "python3"
  },
  "language_info": {
   "codemirror_mode": {
    "name": "ipython",
    "version": 3
   },
   "file_extension": ".py",
   "mimetype": "text/x-python",
   "name": "python",
   "nbconvert_exporter": "python",
   "pygments_lexer": "ipython3",
   "version": "3.9.6"
  },
  "orig_nbformat": 4,
  "vscode": {
   "interpreter": {
    "hash": "aee8b7b246df8f9039afb4144a1f6fd8d2ca17a180786b69acc140d282b71a49"
   }
  }
 },
 "nbformat": 4,
 "nbformat_minor": 2
}
