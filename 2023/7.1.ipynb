{
 "cells": [
  {
   "cell_type": "code",
   "execution_count": null,
   "metadata": {},
   "outputs": [],
   "source": [
    "import pandas as pd\n",
    "from itertools import chain"
   ]
  },
  {
   "cell_type": "code",
   "execution_count": null,
   "metadata": {},
   "outputs": [],
   "source": [
    "with open('input7.txt') as f:\n",
    "    data = f.read().splitlines()\n",
    "data = [sec.split() for sec in data]\n",
    "\n",
    "for i in range(len(data)):\n",
    "    data[i][0] = [char for char in data[i][0]]\n",
    "    data[i][1] = int(data[i][1])\n"
   ]
  },
  {
   "cell_type": "code",
   "execution_count": null,
   "metadata": {},
   "outputs": [],
   "source": [
    "card_to_num = {\"T\": 10, \"J\": 11, \"Q\": 12, \"K\": 13, \"A\": 14}"
   ]
  },
  {
   "cell_type": "code",
   "execution_count": null,
   "metadata": {},
   "outputs": [],
   "source": [
    "n = len(data)\n",
    "\n",
    "for i in range(n):\n",
    "    m = len(data[i][0])\n",
    "\n",
    "    for j in range(m):\n",
    "        if data[i][0][j].isdigit():\n",
    "            data[i][0][j] = int(data[i][0][j])\n",
    "        else:\n",
    "            data[i][0][j] = card_to_num[data[i][0][j]]\n",
    "        \n",
    "    data[i][1] = [data[i][1]]\n",
    "    data[i] = list(chain(*data[i]))\n",
    "\n",
    "data = pd.DataFrame(data)\n",
    "data"
   ]
  },
  {
   "cell_type": "code",
   "execution_count": null,
   "metadata": {},
   "outputs": [],
   "source": [
    "def hand_type(df):\n",
    "    n = len(df)\n",
    "    df[6] = 0\n",
    "\n",
    "    for i in range(n):\n",
    "        my_dict = {j:list(data.iloc[i][0:5]).count(j) for j in list(data.iloc[i])[0:5]}\n",
    "        temp = []\n",
    "        \n",
    "        for j in range(len(my_dict)):\n",
    "            temp.append(my_dict[list(my_dict)[j]])\n",
    "\n",
    "        if 5 in temp:\n",
    "            score = 7\n",
    "\n",
    "        elif 4 in temp:\n",
    "            score = 6\n",
    "        \n",
    "        elif 3 in temp and 2 in temp:\n",
    "            score = 5\n",
    "        \n",
    "        elif 3 in temp:\n",
    "            score = 4\n",
    "        \n",
    "        elif temp.count(2) == 2:\n",
    "            score = 3\n",
    "        \n",
    "        elif max(temp) == 2:\n",
    "            score = 2\n",
    "        \n",
    "        elif max(temp) == 1:\n",
    "            score = 1\n",
    "\n",
    "\n",
    "        df[6][i] = score\n",
    "\n",
    "\n",
    "    return(df)"
   ]
  },
  {
   "cell_type": "code",
   "execution_count": null,
   "metadata": {},
   "outputs": [],
   "source": [
    "data = hand_type(data)\n",
    "data"
   ]
  },
  {
   "cell_type": "code",
   "execution_count": null,
   "metadata": {},
   "outputs": [],
   "source": [
    "n = len(data)\n",
    "data = data.sort_values(by = [6, 0, 1, 2, 3, 4], ascending = False)\n",
    "data[7] = 0\n",
    "data[8] = 0\n",
    "\n",
    "for i in range(n):\n",
    "    data.iloc[i, 7] = n - i\n",
    "    data.iloc[i, 8] = data.iloc[i, 5] * data.iloc[i, 7]\n",
    "\n",
    "sum(data[8])\n",
    "    "
   ]
  },
  {
   "cell_type": "code",
   "execution_count": null,
   "metadata": {},
   "outputs": [],
   "source": []
  }
 ],
 "metadata": {
  "kernelspec": {
   "display_name": "Python 3.9.6 64-bit",
   "language": "python",
   "name": "python3"
  },
  "language_info": {
   "codemirror_mode": {
    "name": "ipython",
    "version": 3
   },
   "file_extension": ".py",
   "mimetype": "text/x-python",
   "name": "python",
   "nbconvert_exporter": "python",
   "pygments_lexer": "ipython3",
   "version": "3.9.6"
  },
  "vscode": {
   "interpreter": {
    "hash": "aee8b7b246df8f9039afb4144a1f6fd8d2ca17a180786b69acc140d282b71a49"
   }
  }
 },
 "nbformat": 4,
 "nbformat_minor": 2
}
