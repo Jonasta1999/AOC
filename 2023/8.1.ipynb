{
 "cells": [
  {
   "cell_type": "code",
   "execution_count": 116,
   "metadata": {},
   "outputs": [],
   "source": [
    "from functools import reduce\n",
    "import re"
   ]
  },
  {
   "cell_type": "code",
   "execution_count": 117,
   "metadata": {},
   "outputs": [],
   "source": [
    "with open('input8.txt') as f:\n",
    "    data = f.read().splitlines()\n",
    "\n",
    "instructions = data[0]\n",
    "coord = data[2:]\n",
    "coord = [sec.split(\"=\") for sec in coord]\n",
    "\n",
    "for i in range(len(coord)):\n",
    "    coord[i] = [sec.replace(\" \", \"\") for sec in coord[i]]\n",
    "    coord[i][1] = re.sub(\"\\(|\\)\", \"\", coord[i][1]).split(\",\")"
   ]
  },
  {
   "cell_type": "code",
   "execution_count": 118,
   "metadata": {},
   "outputs": [],
   "source": [
    "locations = []\n",
    "directions = []\n",
    "for i in range(len(coord)):\n",
    "    locations.append(coord[i][0])\n",
    "    directions.append(coord[i][1])"
   ]
  },
  {
   "cell_type": "code",
   "execution_count": 120,
   "metadata": {},
   "outputs": [
    {
     "data": {
      "text/plain": [
       "16343"
      ]
     },
     "execution_count": 120,
     "metadata": {},
     "output_type": "execute_result"
    }
   ],
   "source": [
    "map = {\"L\": 0, \"R\": 1}\n",
    "\n",
    "n = len(instructions)\n",
    "loc_temp = \"AAA\"\n",
    "steps = 0\n",
    "\n",
    "while loc_temp != \"ZZZ\":\n",
    "    for i in range(n): \n",
    "        ins_temp = map[instructions[i]]\n",
    "        index = locations.index(loc_temp)\n",
    "        loc_temp = directions[index][ins_temp]\n",
    "        steps += 1\n",
    "steps\n"
   ]
  }
 ],
 "metadata": {
  "kernelspec": {
   "display_name": "Python 3.9.6 64-bit",
   "language": "python",
   "name": "python3"
  },
  "language_info": {
   "codemirror_mode": {
    "name": "ipython",
    "version": 3
   },
   "file_extension": ".py",
   "mimetype": "text/x-python",
   "name": "python",
   "nbconvert_exporter": "python",
   "pygments_lexer": "ipython3",
   "version": "3.9.6"
  },
  "orig_nbformat": 4,
  "vscode": {
   "interpreter": {
    "hash": "aee8b7b246df8f9039afb4144a1f6fd8d2ca17a180786b69acc140d282b71a49"
   }
  }
 },
 "nbformat": 4,
 "nbformat_minor": 2
}
