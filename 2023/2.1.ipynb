{
 "cells": [
  {
   "cell_type": "code",
   "execution_count": null,
   "metadata": {},
   "outputs": [],
   "source": [
    "import re"
   ]
  },
  {
   "cell_type": "code",
   "execution_count": null,
   "metadata": {},
   "outputs": [],
   "source": [
    "with open('input2.txt') as f:\n",
    "    data = f.read().splitlines()"
   ]
  },
  {
   "cell_type": "code",
   "execution_count": null,
   "metadata": {},
   "outputs": [],
   "source": [
    "print(data)"
   ]
  },
  {
   "cell_type": "code",
   "execution_count": null,
   "metadata": {},
   "outputs": [],
   "source": [
    "red_lim = 12\n",
    "green_lim = 13\n",
    "blue_lim = 14\n",
    "\n",
    "n = len(data)\n",
    "count = 0\n",
    "\n",
    "for i in range(n):\n",
    "    temp = re.split(\":|,|;\", data[i])\n",
    "    m = len(temp)\n",
    "    valid_game_temp = True\n",
    "\n",
    "    for j in range(m):\n",
    "        if \"red\" in temp[j]:\n",
    "            if int(re.findall(r'\\d+', temp[j])[0]) > red_lim:\n",
    "                valid_game_temp = False\n",
    "        \n",
    "        elif \"green\" in temp[j]:\n",
    "            if int(re.findall(r'\\d+', temp[j])[0]) > green_lim:\n",
    "                    valid_game_temp = False\n",
    "\n",
    "        elif \"blue\" in temp[j]:\n",
    "            if int(re.findall(r'\\d+', temp[j])[0]) > blue_lim:\n",
    "                valid_game_temp = False\n",
    "    if valid_game_temp:\n",
    "        count += i+1\n",
    "\n",
    "\n",
    "print(count)\n",
    "            \n",
    "                        \n",
    "\n",
    "\n",
    "\n"
   ]
  }
 ],
 "metadata": {
  "kernelspec": {
   "display_name": "Python 3.9.6 64-bit",
   "language": "python",
   "name": "python3"
  },
  "language_info": {
   "codemirror_mode": {
    "name": "ipython",
    "version": 3
   },
   "file_extension": ".py",
   "mimetype": "text/x-python",
   "name": "python",
   "nbconvert_exporter": "python",
   "pygments_lexer": "ipython3",
   "version": "3.9.6"
  },
  "vscode": {
   "interpreter": {
    "hash": "aee8b7b246df8f9039afb4144a1f6fd8d2ca17a180786b69acc140d282b71a49"
   }
  }
 },
 "nbformat": 4,
 "nbformat_minor": 2
}
