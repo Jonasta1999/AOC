{
 "cells": [
  {
   "cell_type": "code",
   "execution_count": null,
   "metadata": {},
   "outputs": [],
   "source": [
    "from itertools import chain"
   ]
  },
  {
   "cell_type": "code",
   "execution_count": null,
   "metadata": {},
   "outputs": [],
   "source": [
    "with open('input5.txt') as f:\n",
    "    data = f.read().split(\"\\n\\n\")\n",
    "\n",
    "data = [section.splitlines() for section in data]\n",
    "\n",
    "data"
   ]
  },
  {
   "cell_type": "code",
   "execution_count": null,
   "metadata": {},
   "outputs": [],
   "source": [
    "n = len(data)\n",
    "\n",
    "for i in range(n):\n",
    "    m = len(data[i])\n",
    "\n",
    "    for j in range(m):\n",
    "        if i == 0:\n",
    "            data[i] = data[i][0].split(\":\")\n",
    "            data[i] = data[i][1]"
   ]
  },
  {
   "cell_type": "code",
   "execution_count": null,
   "metadata": {},
   "outputs": [],
   "source": [
    "for i in range(n):\n",
    "    if i == 0:\n",
    "        continue\n",
    "    else:\n",
    "        data[i] = data[i][1:]\n",
    "data"
   ]
  },
  {
   "cell_type": "code",
   "execution_count": null,
   "metadata": {},
   "outputs": [],
   "source": [
    "#new_data = [data[0]]\n",
    "#\n",
    "#for line in list(chain(*data[1:])):\n",
    "#    new_data.append(line)\n",
    "#\n",
    "#data = [line.split() for line in new_data]\n",
    "#\n",
    "#data"
   ]
  },
  {
   "cell_type": "code",
   "execution_count": null,
   "metadata": {},
   "outputs": [],
   "source": [
    "seeds = data[0].split()\n",
    "map = data[1:]\n",
    "\n",
    "n = len(seeds)\n",
    "m = len(map)"
   ]
  },
  {
   "cell_type": "code",
   "execution_count": null,
   "metadata": {},
   "outputs": [],
   "source": [
    "m"
   ]
  },
  {
   "cell_type": "code",
   "execution_count": null,
   "metadata": {},
   "outputs": [],
   "source": [
    "for i in range(n):\n",
    "    #print(i)\n",
    "    seed = int(seeds[i])\n",
    "\n",
    "    for j in range(m):\n",
    "        v = len(map[j])\n",
    "\n",
    "        for k in range(v):\n",
    "            temp = map[j][k].split()\n",
    "            map_start = int(temp[0])\n",
    "            map_end = map_start + int(temp[2])\n",
    "            source_start = int(temp[1])\n",
    "            source_end = source_start + int(temp[2])\n",
    "\n",
    "            #source_range = list(range(source_start, source_start + seq_len))\n",
    "            #map_range = list(range(map_start, map_start + seq_len))\n",
    "\n",
    "            if seed >= source_start and seed <= source_end:\n",
    "                #index = source_range.index(seed)\n",
    "                seed = seed - source_start + map_start\n",
    "                break\n",
    "    seeds[i] = seed\n",
    "\n",
    "min(seeds)"
   ]
  },
  {
   "cell_type": "code",
   "execution_count": null,
   "metadata": {},
   "outputs": [],
   "source": []
  }
 ],
 "metadata": {
  "kernelspec": {
   "display_name": "Python 3.9.6 64-bit",
   "language": "python",
   "name": "python3"
  },
  "language_info": {
   "codemirror_mode": {
    "name": "ipython",
    "version": 3
   },
   "file_extension": ".py",
   "mimetype": "text/x-python",
   "name": "python",
   "nbconvert_exporter": "python",
   "pygments_lexer": "ipython3",
   "version": "3.9.6"
  },
  "vscode": {
   "interpreter": {
    "hash": "aee8b7b246df8f9039afb4144a1f6fd8d2ca17a180786b69acc140d282b71a49"
   }
  }
 },
 "nbformat": 4,
 "nbformat_minor": 2
}
