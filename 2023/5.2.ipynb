{
 "cells": [
  {
   "cell_type": "code",
   "execution_count": null,
   "metadata": {},
   "outputs": [],
   "source": [
    "from itertools import chain"
   ]
  },
  {
   "cell_type": "code",
   "execution_count": null,
   "metadata": {},
   "outputs": [],
   "source": [
    "with open('input5.txt') as f:\n",
    "    data = f.read().split(\"\\n\\n\")\n",
    "\n",
    "data = [section.splitlines() for section in data]"
   ]
  },
  {
   "cell_type": "code",
   "execution_count": null,
   "metadata": {},
   "outputs": [],
   "source": [
    "n = len(data)\n",
    "\n",
    "for i in range(n):\n",
    "    m = len(data[i])\n",
    "\n",
    "    for j in range(m):\n",
    "        if i == 0:\n",
    "            data[i] = data[i][0].split(\":\")\n",
    "            data[i] = data[i][1]"
   ]
  },
  {
   "cell_type": "code",
   "execution_count": null,
   "metadata": {},
   "outputs": [],
   "source": [
    "for i in range(n):\n",
    "    if i == 0:\n",
    "        continue\n",
    "    else:\n",
    "        data[i] = data[i][1:]"
   ]
  },
  {
   "cell_type": "code",
   "execution_count": null,
   "metadata": {},
   "outputs": [],
   "source": [
    "def if_map(seed, map_start, map_end):\n",
    "    n = len(seed)\n",
    "    unmapped = []\n",
    "    mapped = []\n",
    "\n",
    "    for i in range(n):\n",
    "        seed_start = seed[i][0]\n",
    "        seed_end = seed[i][1]\n",
    "        if seed_start <= map_start and seed_end <= map_end and seed_end >= map_start:\n",
    "            unmapped.append([seed_start, map_start-1])\n",
    "            mapped.append([map_start, seed_end])\n",
    "            #print(1, seed_start)\n",
    "        \n",
    "        elif seed_start >= map_start and seed_end <= map_end:\n",
    "            mapped.append([seed_start, seed_end])\n",
    "            #print(2, seed_start)\n",
    "\n",
    "        elif seed_start >= map_start and seed_end >= map_end and seed_start <= map_end:\n",
    "            unmapped.append([map_end+1, seed_end])\n",
    "            mapped.append([seed_start, map_end])\n",
    "            #print(3, (seed_start, seed_end), (map_start, map_end))\n",
    "\n",
    "        elif seed_start < map_start and seed_end > map_end:\n",
    "            unmapped.append([seed_start, map_start-1])\n",
    "            unmapped.append([map_end+1, seed_end])\n",
    "            mapped.append([map_start, map_end])\n",
    "            #print(4, seed_start)\n",
    "        else:\n",
    "            unmapped.append([seed_start, seed_end])\n",
    "            #print(5, (seed_start, seed_end), (map_start, map_end))\n",
    "    return(unmapped, mapped)\n",
    "    "
   ]
  },
  {
   "cell_type": "code",
   "execution_count": null,
   "metadata": {},
   "outputs": [],
   "source": [
    "seeds = data[0].split()\n",
    "map = data[1:]\n",
    "n = len(seeds)\n",
    "m = len(map)\n",
    "res = []\n",
    "\n",
    "for i in range(0, n, 2):\n",
    "    #print(i)\n",
    "    seed_min = int(seeds[i])\n",
    "    seed_max = int(seeds[i]) + int(seeds[i+1])\n",
    "    seed = list([seed_min, seed_max])\n",
    "    unmapped = [seed]\n",
    "\n",
    "    for j in range(m):\n",
    "        v = len(map[j])\n",
    "        mapped = []\n",
    "\n",
    "        for k in range(v):\n",
    "            temp = map[j][k].split()\n",
    "            map_start = int(temp[0])\n",
    "            map_end = map_start + int(temp[2])\n",
    "            source_start = int(temp[1])\n",
    "            source_end = source_start + int(temp[2])\n",
    "            unmapped, mapped_temp = if_map(unmapped, source_start, source_end)\n",
    "            if len(mapped_temp) > 0:\n",
    "                for l in range(len(mapped_temp)):\n",
    "                    for o in range(2):\n",
    "                        mapped_temp[l][o] = mapped_temp[l][o] - source_start + map_start\n",
    "                        mapped = mapped + mapped_temp\n",
    "        unmapped = unmapped + mapped\n",
    "        unmapped = [list(x) for x in set(tuple(x) for x in unmapped)]\n",
    "    \n",
    "    res.append(min(list(chain(*unmapped))))\n",
    "min(res)"
   ]
  },
  {
   "cell_type": "code",
   "execution_count": null,
   "metadata": {},
   "outputs": [],
   "source": []
  }
 ],
 "metadata": {
  "kernelspec": {
   "display_name": "Python 3.9.6 64-bit",
   "language": "python",
   "name": "python3"
  },
  "language_info": {
   "codemirror_mode": {
    "name": "ipython",
    "version": 3
   },
   "file_extension": ".py",
   "mimetype": "text/x-python",
   "name": "python",
   "nbconvert_exporter": "python",
   "pygments_lexer": "ipython3",
   "version": "3.9.6"
  },
  "vscode": {
   "interpreter": {
    "hash": "aee8b7b246df8f9039afb4144a1f6fd8d2ca17a180786b69acc140d282b71a49"
   }
  }
 },
 "nbformat": 4,
 "nbformat_minor": 2
}
