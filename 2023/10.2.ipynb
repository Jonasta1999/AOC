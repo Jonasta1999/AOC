{
 "cells": [
  {
   "cell_type": "code",
   "execution_count": null,
   "metadata": {},
   "outputs": [],
   "source": [
    "import numpy as np\n",
    "import sys"
   ]
  },
  {
   "cell_type": "code",
   "execution_count": null,
   "metadata": {},
   "outputs": [],
   "source": [
    "sys.setrecursionlimit(10**2)"
   ]
  },
  {
   "cell_type": "code",
   "execution_count": null,
   "metadata": {},
   "outputs": [],
   "source": [
    "with open('input10.txt') as f:\n",
    "    data = f.read()\n",
    "mat = data.splitlines()\n",
    "mat = list(map(list, mat))\n",
    "mat = np.matrix(mat)"
   ]
  },
  {
   "cell_type": "code",
   "execution_count": null,
   "metadata": {},
   "outputs": [],
   "source": [
    "def find_start(data):\n",
    "    n, m = data.shape\n",
    "    for i in range(n):\n",
    "        for j in range(m):\n",
    "            if data[i,j] == \"S\":\n",
    "                return(i,j)"
   ]
  },
  {
   "cell_type": "code",
   "execution_count": null,
   "metadata": {},
   "outputs": [],
   "source": [
    "directions = [(-1,0), (0,1), (1,0), (0,-1)]\n",
    "direc_pipe = {0: [\"|\", \"7\", \"F\"], 1: [\"-\", \"J\", \"7\"], 2: [\"|\", \"L\", \"J\"], 3: [\"-\", \"F\", \"L\"]}\n",
    "cur_pipe_direc = {\"|\": [(-1,0), (1,0)], \"7\": [(0,-1), (1,0)], \"F\": [(1,0), (0,1)], \"-\": [(0,-1), (0,1)], \"J\": [(-1,0), (0,-1)], \"L\": [(-1,0), (0,1)], \"S\": [(-1,0), (0,1), (1,0), (0,-1)]}"
   ]
  },
  {
   "cell_type": "code",
   "execution_count": null,
   "metadata": {},
   "outputs": [],
   "source": [
    "def is_valid_index(data, x, y):\n",
    "    return 0 <= x < data.shape[0] and 0 <= y < data.shape[1]"
   ]
  },
  {
   "cell_type": "code",
   "execution_count": null,
   "metadata": {},
   "outputs": [],
   "source": [
    "def find_loop(data, row, col):\n",
    "    data_new = data.copy()\n",
    "    stop = False\n",
    "    n = 0\n",
    "    prev_x, prev_y = row, col\n",
    "    count = 0\n",
    "    while stop != True:\n",
    "        for i in range(4):\n",
    "            x, y = np.array((row, col)) + np.array(directions[i])\n",
    "            #print(\"Old:\\n\", data,\"\\nNew:\\n\", data_new)\n",
    "            if is_valid_index(data, x, y):\n",
    "                if data[x,y] == \"S\" and n > 2 and directions[i] in cur_pipe_direc[data[row,col]]:\n",
    "                    data_new[x,y] = \"X\"\n",
    "                    #print(\"FINAL\", \"n:\", n)\n",
    "                    return(data_new)\n",
    "                \n",
    "                elif data[x,y] in direc_pipe[i] and (x,y) != (prev_x, prev_y) and directions[i] in cur_pipe_direc[data[row,col]]:\n",
    "                    #print(x, y, data[x,y], n)\n",
    "                    n += 1\n",
    "                    prev_x, prev_y = row, col\n",
    "                    row, col = x, y\n",
    "                    data_new[x,y] = \"X\"\n",
    "                    break\n",
    "\n",
    "        "
   ]
  },
  {
   "cell_type": "code",
   "execution_count": null,
   "metadata": {},
   "outputs": [],
   "source": [
    "row, col = find_start(mat)\n",
    "row,col"
   ]
  },
  {
   "cell_type": "code",
   "execution_count": null,
   "metadata": {},
   "outputs": [],
   "source": [
    "mat_new = find_loop(mat, row, col)\n",
    "print(mat_new)"
   ]
  },
  {
   "cell_type": "code",
   "execution_count": null,
   "metadata": {},
   "outputs": [],
   "source": [
    "n, m = mat_new.shape\n",
    "mat_new1 = mat_new.copy()\n",
    "mat_new2 = mat_new.copy()\n",
    "res = 0\n",
    "\n",
    "for i in range(n):\n",
    "    count = 0\n",
    "    for j in range(m):\n",
    "        if mat_new[i,j] == \"X\":\n",
    "            count += 1\n",
    "        \n",
    "        elif mat_new[i,j] == \".\" and count%2 == 0:\n",
    "            mat_new1[i,j] = count\n",
    "        \n",
    "        elif mat_new[i,j] == \".\" and count%2 != 0:\n",
    "            mat_new1[i,j] = count\n",
    "            #print(i,j, count, \"\\n\", mat_new)\n",
    "\n",
    "for j in range(m):\n",
    "    count = 0\n",
    "    for i in range(n):\n",
    "        if mat_new[i,j] == \"X\":\n",
    "            count += 1\n",
    "        \n",
    "        elif mat_new[i,j] == \".\" and count%2 == 0:\n",
    "            mat_new2[i,j] = count\n",
    "        \n",
    "        elif mat_new[i,j] == \".\" and count%2 != 0:\n",
    "            mat_new2[i,j] = count\n",
    "            #print(i,j, count, \"\\n\", mat_new)\n",
    "res_list = []\n",
    "for i in range(n):\n",
    "    for j in range(m):\n",
    "        if mat_new1[i,j].isnumeric() and mat_new2[i,j].isnumeric():\n",
    "            #print(mat_new1[i,j], mat_new2[i,j])\n",
    "            if (int(mat_new1[i,j])%2 != 0 or int(mat_new2[i,j])%2 != 0) and int(mat_new1[i,j]) != 0 and int(mat_new2[i,j]) != 0:\n",
    "                res += 1\n",
    "                res_list.append((i,j))\n",
    "                mat_new[i,j] = \"I\"\n",
    "\n",
    "res"
   ]
  },
  {
   "cell_type": "code",
   "execution_count": null,
   "metadata": {},
   "outputs": [],
   "source": [
    "res_list"
   ]
  },
  {
   "cell_type": "code",
   "execution_count": null,
   "metadata": {},
   "outputs": [],
   "source": [
    "#print(mat_new1, \"\\n\")\n",
    "#print(mat_new2, \"\\n\")\n",
    "print(mat_new)"
   ]
  }
 ],
 "metadata": {
  "kernelspec": {
   "display_name": "Python 3.9.6 64-bit",
   "language": "python",
   "name": "python3"
  },
  "language_info": {
   "codemirror_mode": {
    "name": "ipython",
    "version": 3
   },
   "file_extension": ".py",
   "mimetype": "text/x-python",
   "name": "python",
   "nbconvert_exporter": "python",
   "pygments_lexer": "ipython3",
   "version": "3.9.6"
  },
  "vscode": {
   "interpreter": {
    "hash": "aee8b7b246df8f9039afb4144a1f6fd8d2ca17a180786b69acc140d282b71a49"
   }
  }
 },
 "nbformat": 4,
 "nbformat_minor": 2
}
