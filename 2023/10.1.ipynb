{
 "cells": [
  {
   "cell_type": "code",
   "execution_count": 32,
   "metadata": {},
   "outputs": [],
   "source": [
    "import numpy as np\n",
    "import sys"
   ]
  },
  {
   "cell_type": "code",
   "execution_count": 33,
   "metadata": {},
   "outputs": [],
   "source": [
    "sys.setrecursionlimit(10**2)"
   ]
  },
  {
   "cell_type": "code",
   "execution_count": 34,
   "metadata": {},
   "outputs": [],
   "source": [
    "with open('input10.txt') as f:\n",
    "    data = f.read()\n",
    "mat = data.splitlines()\n",
    "mat = list(map(list, mat))\n",
    "mat = np.matrix(mat)"
   ]
  },
  {
   "cell_type": "code",
   "execution_count": 35,
   "metadata": {},
   "outputs": [],
   "source": [
    "def find_start(data):\n",
    "    n, m = data.shape\n",
    "    for i in range(n):\n",
    "        for j in range(m):\n",
    "            if data[i,j] == \"S\":\n",
    "                return(i,j)"
   ]
  },
  {
   "cell_type": "code",
   "execution_count": 36,
   "metadata": {},
   "outputs": [],
   "source": [
    "directions = [(-1,0), (0,1), (1,0), (0,-1)]\n",
    "direc_pipe = {0: [\"|\", \"7\", \"F\"], 1: [\"-\", \"J\", \"7\"], 2: [\"|\", \"L\", \"J\"], 3: [\"-\", \"F\", \"L\"]}\n",
    "cur_pipe_direc = {\"|\": [(-1,0), (1,0)], \"7\": [(0,-1), (1,0)], \"F\": [(1,0), (0,1)], \"-\": [(0,-1), (0,1)], \"J\": [(-1,0), (0,-1)], \"L\": [(-1,0), (0,1)], \"S\": [(-1,0), (0,1), (1,0), (0,-1)]}"
   ]
  },
  {
   "cell_type": "code",
   "execution_count": 37,
   "metadata": {},
   "outputs": [],
   "source": [
    "def is_valid_index(data, x, y):\n",
    "    return 0 <= x < data.shape[0] and 0 <= y < data.shape[1]"
   ]
  },
  {
   "cell_type": "code",
   "execution_count": 38,
   "metadata": {},
   "outputs": [],
   "source": [
    "def find_loop(data, row, col):\n",
    "    stop = False\n",
    "    n = 0\n",
    "    prev_x, prev_y = row, col\n",
    "    count = 0\n",
    "    while stop != True:\n",
    "        for i in range(4):\n",
    "            x, y = np.array((row, col)) + np.array(directions[i])\n",
    "            if is_valid_index(data, x, y):\n",
    "                if data[x,y] == \"S\" and n > 2 and directions[i] in cur_pipe_direc[data[row,col]]:\n",
    "                    n += 1\n",
    "                    print(\"FINAL\", \"n:\", n)\n",
    "                    return(int(n/2))\n",
    "\n",
    "                elif data[x,y] in direc_pipe[i] and (x,y) != (prev_x, prev_y) and directions[i] in cur_pipe_direc[data[row,col]]:\n",
    "                    #print(x, y, data[x,y], n)\n",
    "                    n += 1\n",
    "                    prev_x, prev_y = row, col\n",
    "                    row, col = x, y\n",
    "                    break\n",
    "\n",
    "        "
   ]
  },
  {
   "cell_type": "code",
   "execution_count": 39,
   "metadata": {},
   "outputs": [
    {
     "data": {
      "text/plain": [
       "(62, 61)"
      ]
     },
     "execution_count": 39,
     "metadata": {},
     "output_type": "execute_result"
    }
   ],
   "source": [
    "row, col = find_start(mat)\n",
    "row,col"
   ]
  },
  {
   "cell_type": "code",
   "execution_count": 40,
   "metadata": {},
   "outputs": [
    {
     "name": "stdout",
     "output_type": "stream",
     "text": [
      "FINAL n: 13630\n",
      "6815\n"
     ]
    }
   ],
   "source": [
    "print(find_loop(mat, row, col))"
   ]
  }
 ],
 "metadata": {
  "kernelspec": {
   "display_name": "Python 3.9.6 64-bit",
   "language": "python",
   "name": "python3"
  },
  "language_info": {
   "codemirror_mode": {
    "name": "ipython",
    "version": 3
   },
   "file_extension": ".py",
   "mimetype": "text/x-python",
   "name": "python",
   "nbconvert_exporter": "python",
   "pygments_lexer": "ipython3",
   "version": "3.9.6"
  },
  "orig_nbformat": 4,
  "vscode": {
   "interpreter": {
    "hash": "aee8b7b246df8f9039afb4144a1f6fd8d2ca17a180786b69acc140d282b71a49"
   }
  }
 },
 "nbformat": 4,
 "nbformat_minor": 2
}
