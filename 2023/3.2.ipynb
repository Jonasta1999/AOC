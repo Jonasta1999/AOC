{
 "cells": [
  {
   "cell_type": "code",
   "execution_count": null,
   "metadata": {},
   "outputs": [],
   "source": [
    "import numpy as np\n",
    "import re"
   ]
  },
  {
   "cell_type": "code",
   "execution_count": null,
   "metadata": {},
   "outputs": [],
   "source": [
    "with open('input3.txt') as f:\n",
    "    data = f.read()\n",
    "mat = data.splitlines()\n",
    "mat = list(map(list, mat))\n",
    "mat = np.matrix(mat)"
   ]
  },
  {
   "cell_type": "code",
   "execution_count": null,
   "metadata": {},
   "outputs": [],
   "source": [
    "# List of all numbers\n",
    "nums = re.findall('\\d+', data)"
   ]
  },
  {
   "cell_type": "code",
   "execution_count": null,
   "metadata": {},
   "outputs": [],
   "source": [
    "data = data.replace(\"\\n\", \"\")"
   ]
  },
  {
   "cell_type": "code",
   "execution_count": null,
   "metadata": {},
   "outputs": [],
   "source": [
    "num_dict = {m.start(0):int(m.group(0)) for m in re.finditer(\"\\d+\", data)}"
   ]
  },
  {
   "cell_type": "code",
   "execution_count": null,
   "metadata": {},
   "outputs": [],
   "source": [
    "def next_to_special_char(data, x, y):\n",
    "    special = \"*\"\n",
    "    n, m = data.shape\n",
    "    n = n - 1\n",
    "    m = m - 1\n",
    "\n",
    "    if x == n and y == m:\n",
    "        if data[x-1, y-1] in special:\n",
    "            return([x-1, y-1])\n",
    "\n",
    "        elif data[x-1, y] in special:\n",
    "            return([x-1, y])\n",
    "\n",
    "        elif data[x, y-1] in special:\n",
    "            return([x, y-1])\n",
    "\n",
    "    elif x == n:\n",
    "        if data[x-1, y] in special:\n",
    "            return([x-1, y])\n",
    "        \n",
    "        elif data[x-1, y-1] in special:\n",
    "            return([x-1, y-1])\n",
    "\n",
    "        elif data[x-1, y+1] in special:\n",
    "            return([x-1, y+1])\n",
    "\n",
    "        elif data[x, y-1] in special:\n",
    "            return([x, y-1])\n",
    "\n",
    "        elif data[x, y+1] in special:\n",
    "            return([x, y+1])\n",
    "\n",
    "    elif y == m:\n",
    "        if data[x-1, y] in special:\n",
    "            return([x-1, y])\n",
    "        \n",
    "        elif data[x-1, y-1] in special:\n",
    "            return([x-1, y-1])\n",
    "\n",
    "        elif data[x, y-1] in special:\n",
    "            return([x, y-1])\n",
    "\n",
    "        elif data[x+1, y-1] in special:\n",
    "            return([x+1, y-1])\n",
    "\n",
    "        elif data[x+1, y] in special:\n",
    "            return([x+1, y])\n",
    "        \n",
    "    elif x == 0 and y == 0:\n",
    "        if data[x, y+1] in special:\n",
    "            return([x, y+1])\n",
    "\n",
    "        elif data[x+1, y+1] in special:\n",
    "            return([x+1, y+1])\n",
    "\n",
    "        elif data[x+1, y] in special:\n",
    "            return([x+1, y])\n",
    "    \n",
    "    elif x == 0:\n",
    "        if data[x, y-1] in special:\n",
    "            return([x, y-1])\n",
    "\n",
    "        elif data[x+1, y-1] in special:\n",
    "            return([x+1, y-1])\n",
    "\n",
    "        elif data[x+1, y] in special:\n",
    "            return([x+1, y])\n",
    "        \n",
    "        elif data[x+1, y+1] in special:\n",
    "            return([x+1, y+1])\n",
    "\n",
    "        elif data[x, y+1] in special:\n",
    "            return([x, y+1])\n",
    "    \n",
    "    elif y == 0:\n",
    "        if data[x-1, y] in special:\n",
    "            return([x-1, y])\n",
    "\n",
    "        elif data[x-1, y+1] in special:\n",
    "            return([x-1, y+1])\n",
    "\n",
    "        elif data[x, y+1] in special:\n",
    "            return([x, y+1])\n",
    "\n",
    "        elif data[x+1, y+1] in special:\n",
    "            return([x+1, y+1])\n",
    "        \n",
    "        elif data[x+1, y] in special:\n",
    "            return([x+1, y])\n",
    "    \n",
    "    else:\n",
    "        if data[x-1, y] in special:\n",
    "            return([x-1, y])\n",
    "\n",
    "        elif data[x-1, y+1] in special:\n",
    "            return([x-1, y+1])\n",
    "\n",
    "        elif data[x, y+1] in special:\n",
    "            return([x, y+1])\n",
    "\n",
    "        elif data[x+1, y+1] in special:\n",
    "            return([x+1, y+1])\n",
    "\n",
    "        elif data[x+1, y] in special:\n",
    "            return([x+1, y])\n",
    "\n",
    "        elif data[x+1, y-1] in special:\n",
    "            return([x+1, y-1])\n",
    "\n",
    "        elif data[x, y-1] in special:\n",
    "            return([x, y-1])\n",
    "\n",
    "        elif data[x-1, y-1] in special:\n",
    "            return([x-1, y-1])\n",
    "\n",
    "    return(False)\n"
   ]
  },
  {
   "cell_type": "code",
   "execution_count": null,
   "metadata": {},
   "outputs": [],
   "source": [
    "n = len(num_dict)\n",
    "dim = mat.shape[1]\n",
    "check = []\n",
    "\n",
    "for i in num_dict:\n",
    "    num_len = len(str(num_dict[i]))\n",
    "    check_temp = False\n",
    "    \n",
    "    for j in range(num_len):\n",
    "        x, y = divmod(i + j, dim)\n",
    "\n",
    "        if next_to_special_char(mat, x, y):\n",
    "            check_temp = next_to_special_char(mat, x, y)\n",
    "\n",
    "    check.append(check_temp)\n",
    "\n",
    "check"
   ]
  },
  {
   "cell_type": "code",
   "execution_count": null,
   "metadata": {},
   "outputs": [],
   "source": [
    "counts = {}\n",
    "\n",
    "for item in check:\n",
    "    if item:\n",
    "        item_tuple = tuple(item)\n",
    "        counts[item_tuple] = counts.get(item_tuple, 0) + 1\n",
    "\n",
    "output_counts = {k: v for k, v in counts.items()}\n",
    "\n",
    "filtered_counts = {k: v for k, v in output_counts.items() if v == 2}\n",
    "filtered_counts"
   ]
  },
  {
   "cell_type": "code",
   "execution_count": null,
   "metadata": {},
   "outputs": [],
   "source": [
    "indices = {k: [] for k in filtered_counts.keys()}\n",
    "\n",
    "for i, item in enumerate(check):\n",
    "    if item:\n",
    "        item_tuple = tuple(item)\n",
    "        if item_tuple in filtered_counts:\n",
    "            indices[item_tuple].append(i)\n",
    "\n",
    "indices"
   ]
  },
  {
   "cell_type": "code",
   "execution_count": null,
   "metadata": {},
   "outputs": [],
   "source": [
    "res = []\n",
    "for i in indices:\n",
    "    res.append(int(nums[indices[i][0]]) * int(nums[indices[i][1]]))\n",
    "\n",
    "sum(res)"
   ]
  },
  {
   "cell_type": "code",
   "execution_count": null,
   "metadata": {},
   "outputs": [],
   "source": []
  }
 ],
 "metadata": {
  "kernelspec": {
   "display_name": "Python 3.9.6 64-bit",
   "language": "python",
   "name": "python3"
  },
  "language_info": {
   "codemirror_mode": {
    "name": "ipython",
    "version": 3
   },
   "file_extension": ".py",
   "mimetype": "text/x-python",
   "name": "python",
   "nbconvert_exporter": "python",
   "pygments_lexer": "ipython3",
   "version": "3.9.6"
  },
  "vscode": {
   "interpreter": {
    "hash": "aee8b7b246df8f9039afb4144a1f6fd8d2ca17a180786b69acc140d282b71a49"
   }
  }
 },
 "nbformat": 4,
 "nbformat_minor": 2
}
