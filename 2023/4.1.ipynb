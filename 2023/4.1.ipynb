{
 "cells": [
  {
   "cell_type": "code",
   "execution_count": 45,
   "metadata": {},
   "outputs": [],
   "source": [
    "import re"
   ]
  },
  {
   "cell_type": "code",
   "execution_count": 46,
   "metadata": {},
   "outputs": [],
   "source": [
    "with open('input4.txt') as f:\n",
    "    data = f.read().splitlines()"
   ]
  },
  {
   "cell_type": "code",
   "execution_count": 47,
   "metadata": {},
   "outputs": [],
   "source": [
    "n = len(data)\n",
    "\n",
    "# Split the list\n",
    "for i in range(n):\n",
    "    data[i] = re.split(\":|\\|\", data[i])\n",
    "\n",
    "    # Seperate the numbers into a list\n",
    "    for j in range(1,3):\n",
    "        data[i][j] = re.split(\" \", data[i][j])\n",
    "        data[i][j] = list(filter(None, data[i][j]))\n"
   ]
  },
  {
   "cell_type": "code",
   "execution_count": 49,
   "metadata": {},
   "outputs": [
    {
     "data": {
      "text/plain": [
       "25183"
      ]
     },
     "execution_count": 49,
     "metadata": {},
     "output_type": "execute_result"
    }
   ],
   "source": [
    "my_nums_len = len(data[0][2])\n",
    "score = 0\n",
    "\n",
    "for i in range(n):\n",
    "    score_temp = 0\n",
    "\n",
    "    for j in range(my_nums_len):\n",
    "        if data[i][2][j] in data[i][1]:\n",
    "            if score_temp == 0:\n",
    "                score_temp = 1\n",
    "            else:\n",
    "                score_temp = score_temp * 2\n",
    "    score += score_temp\n",
    "\n",
    "score\n"
   ]
  }
 ],
 "metadata": {
  "kernelspec": {
   "display_name": "Python 3.9.6 64-bit",
   "language": "python",
   "name": "python3"
  },
  "language_info": {
   "codemirror_mode": {
    "name": "ipython",
    "version": 3
   },
   "file_extension": ".py",
   "mimetype": "text/x-python",
   "name": "python",
   "nbconvert_exporter": "python",
   "pygments_lexer": "ipython3",
   "version": "3.9.6"
  },
  "orig_nbformat": 4,
  "vscode": {
   "interpreter": {
    "hash": "aee8b7b246df8f9039afb4144a1f6fd8d2ca17a180786b69acc140d282b71a49"
   }
  }
 },
 "nbformat": 4,
 "nbformat_minor": 2
}
