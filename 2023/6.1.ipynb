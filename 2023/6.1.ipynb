{
 "cells": [
  {
   "cell_type": "code",
   "execution_count": 33,
   "metadata": {},
   "outputs": [],
   "source": [
    "with open('input6.txt') as f:\n",
    "    data = f.read().splitlines()\n",
    "data = [sec.split() for sec in data]"
   ]
  },
  {
   "cell_type": "code",
   "execution_count": 36,
   "metadata": {},
   "outputs": [],
   "source": [
    "n = len(data[0])\n",
    "res = []\n",
    "\n",
    "for i in range(1, n):\n",
    "    num = int(data[0][i])\n",
    "    record = int(data[1][i])\n",
    "    dist_temp = []\n",
    "\n",
    "    for j in range(num):\n",
    "        dist = (num - j) * j\n",
    "        \n",
    "        if dist > record:\n",
    "            dist_temp.append(dist)\n",
    "    res.append(dist_temp)\n"
   ]
  },
  {
   "cell_type": "code",
   "execution_count": 32,
   "metadata": {},
   "outputs": [
    {
     "data": {
      "text/plain": [
       "71503"
      ]
     },
     "execution_count": 32,
     "metadata": {},
     "output_type": "execute_result"
    }
   ],
   "source": [
    "for i in range(len(res)):\n",
    "    if i == 0:\n",
    "        sum = len(res[i])\n",
    "    else:\n",
    "        sum = sum * len(res[i])\n",
    "\n",
    "sum"
   ]
  }
 ],
 "metadata": {
  "kernelspec": {
   "display_name": "Python 3.9.6 64-bit",
   "language": "python",
   "name": "python3"
  },
  "language_info": {
   "codemirror_mode": {
    "name": "ipython",
    "version": 3
   },
   "file_extension": ".py",
   "mimetype": "text/x-python",
   "name": "python",
   "nbconvert_exporter": "python",
   "pygments_lexer": "ipython3",
   "version": "3.9.6"
  },
  "orig_nbformat": 4,
  "vscode": {
   "interpreter": {
    "hash": "aee8b7b246df8f9039afb4144a1f6fd8d2ca17a180786b69acc140d282b71a49"
   }
  }
 },
 "nbformat": 4,
 "nbformat_minor": 2
}
