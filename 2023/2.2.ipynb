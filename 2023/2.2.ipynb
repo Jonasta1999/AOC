{
 "cells": [
  {
   "cell_type": "code",
   "execution_count": null,
   "metadata": {},
   "outputs": [],
   "source": [
    "import re"
   ]
  },
  {
   "cell_type": "code",
   "execution_count": null,
   "metadata": {},
   "outputs": [],
   "source": [
    "with open('input2.txt') as f:\n",
    "    data = f.read().splitlines()"
   ]
  },
  {
   "cell_type": "code",
   "execution_count": null,
   "metadata": {},
   "outputs": [],
   "source": [
    "n = len(data)\n",
    "res = 0\n",
    "\n",
    "for i in range(n):\n",
    "    temp = re.split(\":|,|;\", data[i])\n",
    "    m = len(temp)\n",
    "\n",
    "    red_min = 0\n",
    "    green_min = 0\n",
    "    blue_min = 0\n",
    "\n",
    "    for j in range(m):\n",
    "        if \"red\" in temp[j]:\n",
    "            red_min = max(int(re.findall(r'\\d+', temp[j])[0]), red_min)\n",
    "        \n",
    "        elif \"green\" in temp[j]:\n",
    "            green_min = max(int(re.findall(r'\\d+', temp[j])[0]), green_min)\n",
    "\n",
    "        elif \"blue\" in temp[j]:\n",
    "            blue_min = max(int(re.findall(r'\\d+', temp[j])[0]), blue_min)\n",
    "        \n",
    "    res += red_min*green_min*blue_min\n",
    "    #print(red_min*green_min*blue_min)\n",
    "\n",
    "\n",
    "print(res)\n",
    "            \n",
    "                        \n",
    "\n",
    "\n",
    "\n"
   ]
  },
  {
   "cell_type": "code",
   "execution_count": null,
   "metadata": {},
   "outputs": [],
   "source": []
  },
  {
   "cell_type": "code",
   "execution_count": null,
   "metadata": {},
   "outputs": [],
   "source": []
  },
  {
   "cell_type": "code",
   "execution_count": null,
   "metadata": {},
   "outputs": [],
   "source": []
  }
 ],
 "metadata": {
  "kernelspec": {
   "display_name": "Python 3.9.6 64-bit",
   "language": "python",
   "name": "python3"
  },
  "language_info": {
   "codemirror_mode": {
    "name": "ipython",
    "version": 3
   },
   "file_extension": ".py",
   "mimetype": "text/x-python",
   "name": "python",
   "nbconvert_exporter": "python",
   "pygments_lexer": "ipython3",
   "version": "3.9.6"
  },
  "vscode": {
   "interpreter": {
    "hash": "aee8b7b246df8f9039afb4144a1f6fd8d2ca17a180786b69acc140d282b71a49"
   }
  }
 },
 "nbformat": 4,
 "nbformat_minor": 2
}
