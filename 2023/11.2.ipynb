{
 "cells": [
  {
   "cell_type": "code",
   "execution_count": null,
   "metadata": {},
   "outputs": [],
   "source": [
    "import numpy as np"
   ]
  },
  {
   "cell_type": "code",
   "execution_count": null,
   "metadata": {},
   "outputs": [],
   "source": [
    "with open('input11.txt') as f:\n",
    "    data = f.read()\n",
    "mat = data.splitlines()\n",
    "mat = list(map(list, mat))\n",
    "mat = np.matrix(mat)"
   ]
  },
  {
   "cell_type": "code",
   "execution_count": null,
   "metadata": {},
   "outputs": [],
   "source": [
    "galaxies = []\n",
    "rows = []\n",
    "cols = []\n",
    "\n",
    "n, m = mat.shape\n",
    "\n",
    "for i in range(n):\n",
    "    for j in range(m):\n",
    "        if mat[i,j] == \"#\":\n",
    "            galaxies.append([i,j])\n",
    "\n",
    "for i in range(n):\n",
    "    if \"#\" not in mat[i,:]:\n",
    "        rows.append(i)\n",
    "\n",
    "for j in range(m):\n",
    "    if \"#\" not in mat[:,j]:\n",
    "        cols.append(j)"
   ]
  },
  {
   "cell_type": "code",
   "execution_count": null,
   "metadata": {},
   "outputs": [],
   "source": [
    "galaxies"
   ]
  },
  {
   "cell_type": "code",
   "execution_count": null,
   "metadata": {},
   "outputs": [],
   "source": [
    "galaxy_num = len(galaxies)\n",
    "\n",
    "for i in range(galaxy_num):\n",
    "    for j in reversed(range(len(rows))):\n",
    "        if galaxies[i][0] > rows[j]:\n",
    "            galaxies[i][0] += 999999\n",
    "\n",
    "    for k in reversed(range(len(cols))):\n",
    "        if galaxies[i][1] > cols[k]:\n",
    "            galaxies[i][1] += 999999"
   ]
  },
  {
   "cell_type": "code",
   "execution_count": null,
   "metadata": {},
   "outputs": [],
   "source": [
    "print(rows)"
   ]
  },
  {
   "cell_type": "code",
   "execution_count": null,
   "metadata": {},
   "outputs": [],
   "source": [
    "galaxies"
   ]
  },
  {
   "cell_type": "code",
   "execution_count": null,
   "metadata": {},
   "outputs": [],
   "source": [
    "distances = np.zeros((galaxy_num, galaxy_num))\n",
    "\n",
    "for i, item1 in enumerate(galaxies):\n",
    "    for j, item2 in enumerate(galaxies):\n",
    "        distances[i,j] = abs(galaxies[i][0] - galaxies[j][0]) + abs(galaxies[i][1] - galaxies[j][1])"
   ]
  },
  {
   "cell_type": "code",
   "execution_count": null,
   "metadata": {},
   "outputs": [],
   "source": [
    "distances"
   ]
  },
  {
   "cell_type": "code",
   "execution_count": null,
   "metadata": {},
   "outputs": [],
   "source": [
    "sum(sum(distances))/2"
   ]
  }
 ],
 "metadata": {
  "kernelspec": {
   "display_name": "Python 3.9.6 64-bit",
   "language": "python",
   "name": "python3"
  },
  "language_info": {
   "codemirror_mode": {
    "name": "ipython",
    "version": 3
   },
   "file_extension": ".py",
   "mimetype": "text/x-python",
   "name": "python",
   "nbconvert_exporter": "python",
   "pygments_lexer": "ipython3",
   "version": "3.9.6"
  },
  "vscode": {
   "interpreter": {
    "hash": "aee8b7b246df8f9039afb4144a1f6fd8d2ca17a180786b69acc140d282b71a49"
   }
  }
 },
 "nbformat": 4,
 "nbformat_minor": 2
}
