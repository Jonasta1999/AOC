{
 "cells": [
  {
   "cell_type": "code",
   "execution_count": null,
   "metadata": {},
   "outputs": [],
   "source": [
    "from itertools import product"
   ]
  },
  {
   "cell_type": "code",
   "execution_count": null,
   "metadata": {},
   "outputs": [],
   "source": [
    "with open('input12.txt') as f:\n",
    "    data = f.read().splitlines()\n",
    "\n",
    "data = [sec.split(\" \") for sec in data]\n",
    "springs = [sec[0] for sec in data]\n",
    "records = [list(map(int, sec[1].split(\",\"))) for sec in data]\n"
   ]
  },
  {
   "cell_type": "code",
   "execution_count": null,
   "metadata": {},
   "outputs": [],
   "source": [
    "count = []\n",
    "for i in range(len(springs)):\n",
    "    springs[i] = springs[i] + springs[i] + springs[i] + springs[i] + springs[i]\n",
    "    count.append(springs[i].count(\"?\"))"
   ]
  },
  {
   "cell_type": "code",
   "execution_count": null,
   "metadata": {},
   "outputs": [],
   "source": [
    "count.index(max(count))"
   ]
  },
  {
   "cell_type": "code",
   "execution_count": null,
   "metadata": {},
   "outputs": [],
   "source": [
    "springs[114]"
   ]
  },
  {
   "cell_type": "code",
   "execution_count": null,
   "metadata": {},
   "outputs": [],
   "source": [
    "records[114]"
   ]
  },
  {
   "cell_type": "code",
   "execution_count": null,
   "metadata": {},
   "outputs": [],
   "source": [
    "n = len(springs)\n",
    "res = []\n",
    "\n",
    "for i in range(n):\n",
    "    indices = [i for i, item in enumerate(springs[i]) if item == \"?\"]\n",
    "    p = len(indices)\n",
    "\n",
    "    perm = list(product(\"#.\", repeat = p))\n",
    "    m = len(perm)\n",
    "\n",
    "    res_temp = 0\n",
    "    for j in range(m):\n",
    "        temp = springs[i]\n",
    "\n",
    "        for k in range(p):\n",
    "            temp_temp = list(temp)\n",
    "            temp_temp[indices[k]] = perm[j][k]\n",
    "            temp = \"\".join(list(temp_temp))\n",
    "        \n",
    "        instance_count = list(map(len, temp.split(\".\")))\n",
    "        instance_count = [i for i in instance_count if i != 0]\n",
    "        print(temp)\n",
    "\n",
    "#         if instance_count == records[i]:\n",
    "#             res_temp += 1\n",
    "#     res.append(res_temp)\n",
    "    \n",
    "# sum(res)"
   ]
  }
 ],
 "metadata": {
  "kernelspec": {
   "display_name": "Python 3.9.6 64-bit",
   "language": "python",
   "name": "python3"
  },
  "language_info": {
   "codemirror_mode": {
    "name": "ipython",
    "version": 3
   },
   "file_extension": ".py",
   "mimetype": "text/x-python",
   "name": "python",
   "nbconvert_exporter": "python",
   "pygments_lexer": "ipython3",
   "version": "3.9.6"
  },
  "vscode": {
   "interpreter": {
    "hash": "aee8b7b246df8f9039afb4144a1f6fd8d2ca17a180786b69acc140d282b71a49"
   }
  }
 },
 "nbformat": 4,
 "nbformat_minor": 2
}
