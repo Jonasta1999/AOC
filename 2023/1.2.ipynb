{
 "cells": [
  {
   "cell_type": "code",
   "execution_count": null,
   "metadata": {},
   "outputs": [],
   "source": [
    "with open('input1.txt') as f:\n",
    "    data = f.read().splitlines()"
   ]
  },
  {
   "cell_type": "code",
   "execution_count": null,
   "metadata": {},
   "outputs": [],
   "source": [
    "print(data)"
   ]
  },
  {
   "cell_type": "code",
   "execution_count": null,
   "metadata": {},
   "outputs": [],
   "source": [
    "def str_to_num1(x):\n",
    "    num_dict = {\"zero\": 0, \"one\": 1, \"two\": 2, \"three\": 3, \"four\": 4, \"five\": 5, \"six\": 6, \"seven\": 7, \"eight\": 8, \"nine\": 9}\n",
    "    nums = [\"zero\", \"one\", \"two\", \"three\", \"four\", \"five\", \"six\", \"seven\", \"eight\", \"nine\"]\n",
    "    indices = []\n",
    "\n",
    "    if len(x) == 0:\n",
    "        return(False)\n",
    "\n",
    "    for i in range(len(nums)):\n",
    "        index = x.find(nums[i])\n",
    "        if index == -1:\n",
    "            index = 9999\n",
    "        indices.append(index)\n",
    "    if all(j == 9999 for j in indices):\n",
    "        return(False)\n",
    "    \n",
    "    min_index = indices.index(min(indices))\n",
    "    num_str = nums[min_index]\n",
    "    num_int = num_dict[num_str]\n",
    "    return(min_index)\n",
    "\n"
   ]
  },
  {
   "cell_type": "code",
   "execution_count": null,
   "metadata": {},
   "outputs": [],
   "source": [
    "def str_to_num2(x):\n",
    "    num_dict = {\"zero\": 0, \"one\": 1, \"two\": 2, \"three\": 3, \"four\": 4, \"five\": 5, \"six\": 6, \"seven\": 7, \"eight\": 8, \"nine\": 9}\n",
    "    nums = [\"zero\", \"one\", \"two\", \"three\", \"four\", \"five\", \"six\", \"seven\", \"eight\", \"nine\"]\n",
    "    indices = []\n",
    "\n",
    "    if len(x) == 0:\n",
    "        return(False)\n",
    "\n",
    "    for i in range(len(nums)):\n",
    "        try:\n",
    "            index = x.rindex(nums[i])\n",
    "            indices.append(index)\n",
    "            #print(i)\n",
    "        except ValueError:\n",
    "            index = -1\n",
    "            indices.append(index)\n",
    "            #print(i)\n",
    "\n",
    "    if all(j == 9999 for j in indices):\n",
    "        return(False)\n",
    "    \n",
    "    min_index = indices.index(max(indices))\n",
    "    num_str = nums[min_index]\n",
    "    num_int = num_dict[num_str]\n",
    "    return(num_int)"
   ]
  },
  {
   "cell_type": "code",
   "execution_count": null,
   "metadata": {},
   "outputs": [],
   "source": [
    "#data = [\"4nineeightseven2\"]\n",
    "n = len(data)\n",
    "nums = []\n",
    "nums_temp = []\n",
    "num_check = -1\n",
    "res = []\n",
    "\n",
    "for i in range(n):\n",
    "    m = len(data[i])\n",
    "    nums_temp = []\n",
    "\n",
    "    for j in range(m):\n",
    "        if data[i][j].isdigit():\n",
    "            nums_temp.append(j)\n",
    "    if len(nums_temp) == 0:\n",
    "        indices = [999999999, 0]\n",
    "    else:\n",
    "        indices = [nums_temp[0], nums_temp[-1]+1]\n",
    "    \n",
    "    if str_to_num1(data[i][0:indices[0]]):\n",
    "        temp_int1 = str_to_num1(data[i][0:indices[0]])\n",
    "    else:\n",
    "        temp_int1 = data[i][indices[0]]\n",
    "\n",
    "    if str_to_num2(data[i][indices[1]:]):\n",
    "        temp_int2 = str_to_num2(data[i][indices[1]:])\n",
    "    else:\n",
    "        temp_int2 = data[i][indices[-1]-1]\n",
    "\n",
    "    merge = str(temp_int1) + str(temp_int2)\n",
    "    res.append(int(merge))\n",
    "sum(res)\n"
   ]
  }
 ],
 "metadata": {
  "kernelspec": {
   "display_name": "Python 3.9.6 64-bit",
   "language": "python",
   "name": "python3"
  },
  "language_info": {
   "codemirror_mode": {
    "name": "ipython",
    "version": 3
   },
   "file_extension": ".py",
   "mimetype": "text/x-python",
   "name": "python",
   "nbconvert_exporter": "python",
   "pygments_lexer": "ipython3",
   "version": "3.9.6"
  },
  "vscode": {
   "interpreter": {
    "hash": "aee8b7b246df8f9039afb4144a1f6fd8d2ca17a180786b69acc140d282b71a49"
   }
  }
 },
 "nbformat": 4,
 "nbformat_minor": 2
}
